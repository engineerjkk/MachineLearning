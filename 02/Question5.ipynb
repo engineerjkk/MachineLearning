{
 "cells": [
  {
   "cell_type": "markdown",
   "metadata": {},
   "source": [
    "### Question 5: Compute the matrix transpose in Python. Determine also the matrix inverse in Python."
   ]
  },
  {
   "cell_type": "code",
   "execution_count": 25,
   "metadata": {
    "tags": []
   },
   "outputs": [
    {
     "name": "stdout",
     "output_type": "stream",
     "text": [
      "******************************\n",
      "A = \n",
      "[[1. 2.]\n",
      " [3. 4.]]\n",
      "******************************\n",
      "size of A = \n",
      "(2, 2)\n",
      "******************************\n",
      "AT = transpose of A \n",
      "[[1. 3.]\n",
      " [2. 4.]]\n",
      "******************************\n",
      "size of AT = \n",
      "(2, 2)\n",
      "******************************\n",
      "AT A = multiplication of AT and A\n",
      "[[10. 14.]\n",
      " [14. 20.]]\n",
      "******************************\n",
      "size of multiplication of AT and A = \n",
      "(2, 2)\n",
      "******************************\n",
      "inverse of A = \n",
      "[[-2.   1. ]\n",
      " [ 1.5 -0.5]]\n",
      "******************************\n",
      "size of inverse of A = \n",
      "(2, 2)\n",
      "******************************\n",
      "inverse of multiplication of A transpose and A = \n",
      "[[ 5.  -3.5]\n",
      " [-3.5  2.5]]\n",
      "******************************\n",
      "size of inverse of multiplication of A transpose and A = \n",
      "(2, 2)\n",
      "******************************\n"
     ]
    }
   ],
   "source": [
    "import numpy as np\n",
    "\n",
    "# ++++++++++++++++++++++++++++++++++++++++++++++++++\n",
    "# YOUR CODE HERE\n",
    "A                   = np.array([[1., 2.],\n",
    "                                [3., 4.]])\n",
    "size_A              = A.shape\n",
    "\n",
    "AT                  = np.transpose(A)\n",
    "size_AT             = AT.shape\n",
    "\n",
    "mul_AT_A            = np.matmul(AT,A)\n",
    "size_mul_AT_A       = mul_AT_A.shape\n",
    "\n",
    "invA                = np.linalg.inv(A)\n",
    "size_invA           = A.shape\n",
    "\n",
    "inv_mul_AT_A        = np.linalg.inv(np.matmul(AT,A))\n",
    "size_inv_mul_AT_A   = inv_mul_AT_A.shape\n",
    "#\n",
    "# ++++++++++++++++++++++++++++++++++++++++++++++++++\n",
    "\n",
    "print('******************************')\n",
    "print('A = ')\n",
    "print(A)\n",
    "print('******************************')\n",
    "print('size of A = ')\n",
    "print(size_A)\n",
    "\n",
    "print('******************************')\n",
    "print('AT = transpose of A ')\n",
    "print(AT)\n",
    "print('******************************')\n",
    "print('size of AT = ')\n",
    "print(size_AT)\n",
    "\n",
    "print('******************************')\n",
    "print('AT A = multiplication of AT and A')\n",
    "print(mul_AT_A)\n",
    "print('******************************')\n",
    "print('size of multiplication of AT and A = ')\n",
    "print(size_mul_AT_A)\n",
    "\n",
    "print('******************************')\n",
    "print('inverse of A = ')\n",
    "print(invA)\n",
    "print('******************************')\n",
    "print('size of inverse of A = ')\n",
    "print(size_invA)\n",
    "\n",
    "print('******************************')\n",
    "print('inverse of multiplication of A transpose and A = ')\n",
    "print(inv_mul_AT_A)\n",
    "print('******************************')\n",
    "print('size of inverse of multiplication of A transpose and A = ')\n",
    "print(size_inv_mul_AT_A)\n",
    "print('******************************')"
   ]
  },
  {
   "cell_type": "code",
   "execution_count": null,
   "metadata": {},
   "outputs": [],
   "source": []
  }
 ],
 "metadata": {
  "kernelspec": {
   "display_name": "Python 3",
   "language": "python",
   "name": "python3"
  },
  "language_info": {
   "codemirror_mode": {
    "name": "ipython",
    "version": 3
   },
   "file_extension": ".py",
   "mimetype": "text/x-python",
   "name": "python",
   "nbconvert_exporter": "python",
   "pygments_lexer": "ipython3",
   "version": "3.7.11"
  }
 },
 "nbformat": 4,
 "nbformat_minor": 4
}
