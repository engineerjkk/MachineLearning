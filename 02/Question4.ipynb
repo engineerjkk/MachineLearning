{
 "cells": [
  {
   "cell_type": "markdown",
   "metadata": {},
   "source": [
    "### Question 4: Multiply the two matrices in Python"
   ]
  },
  {
   "cell_type": "code",
   "execution_count": 17,
   "metadata": {},
   "outputs": [
    {
     "name": "stdout",
     "output_type": "stream",
     "text": [
      "******************************\n",
      "A = \n",
      "[[1. 2.]\n",
      " [3. 4.]\n",
      " [5. 6.]]\n",
      "******************************\n",
      "size of A = \n",
      "(3, 2)\n",
      "******************************\n",
      "X = \n",
      "[[10. 20.]\n",
      " [30. 40.]]\n",
      "******************************\n",
      "size of X = \n",
      "(2, 2)\n",
      "******************************\n",
      "Y = A X\n",
      "[[ 70. 100.]\n",
      " [150. 220.]\n",
      " [230. 340.]]\n",
      "******************************\n",
      "size of Y = \n",
      "(3, 2)\n"
     ]
    }
   ],
   "source": [
    "import numpy as np\n",
    "\n",
    "# ++++++++++++++++++++++++++++++++++++++++++++++++++\n",
    "# YOUR CODE HERE\n",
    "A       = np.array([[1., 2.],\n",
    "                    [3., 4.],\n",
    "                    [5., 6.]])\n",
    "size_A  = A.shape\n",
    "\n",
    "X       = np.array([[10., 20.],\n",
    "                    [30., 40.]])\n",
    "size_X  = X.shape\n",
    "\n",
    "Y       = np.matmul(A,X)\n",
    "size_Y  = Y.shape\n",
    "#\n",
    "# ++++++++++++++++++++++++++++++++++++++++++++++++++\n",
    "\n",
    "print('******************************')\n",
    "print('A = ')\n",
    "print(A)\n",
    "print('******************************')\n",
    "print('size of A = ')\n",
    "print(size_A)\n",
    "\n",
    "print('******************************')\n",
    "print('X = ')\n",
    "print(X)\n",
    "print('******************************')\n",
    "print('size of X = ')\n",
    "print(size_X)\n",
    "\n",
    "print('******************************')\n",
    "print('Y = A X')\n",
    "print(Y)\n",
    "print('******************************')\n",
    "print('size of Y = ')\n",
    "print(size_Y)"
   ]
  },
  {
   "cell_type": "code",
   "execution_count": null,
   "metadata": {},
   "outputs": [],
   "source": []
  }
 ],
 "metadata": {
  "kernelspec": {
   "display_name": "Python 3",
   "language": "python",
   "name": "python3"
  },
  "language_info": {
   "codemirror_mode": {
    "name": "ipython",
    "version": 3
   },
   "file_extension": ".py",
   "mimetype": "text/x-python",
   "name": "python",
   "nbconvert_exporter": "python",
   "pygments_lexer": "ipython3",
   "version": "3.7.11"
  }
 },
 "nbformat": 4,
 "nbformat_minor": 4
}
