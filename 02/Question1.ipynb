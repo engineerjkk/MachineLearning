{
 "cells": [
  {
   "cell_type": "markdown",
   "metadata": {},
   "source": [
    "### Question 1: Represent matrix, vector and scalar in Python\n",
    "Hint: You may use numpy library, shape(), type(), dtype."
   ]
  },
  {
   "cell_type": "code",
   "execution_count": 8,
   "metadata": {},
   "outputs": [
    {
     "name": "stdout",
     "output_type": "stream",
     "text": [
      "******************************\n",
      "x = \n",
      "[[1. 2. 3.]\n",
      " [4. 5. 6.]]\n",
      "******************************\n",
      "size of x = \n",
      "(2, 3)\n",
      "******************************\n",
      "type of x = \n",
      "float64\n",
      "******************************\n",
      "y = \n",
      "[1. 2. 3.]\n",
      "******************************\n",
      "size of y = \n",
      "(3,)\n",
      "******************************\n",
      "type of y = \n",
      "float64\n",
      "******************************\n",
      "z = \n",
      "[1.]\n",
      "******************************\n",
      "size of z = \n",
      "(1,)\n",
      "******************************\n",
      "type of z = \n",
      "float64\n",
      "******************************\n"
     ]
    }
   ],
   "source": [
    "import numpy as np\n",
    "\n",
    "# ++++++++++++++++++++++++++++++++++++++++++++++++++\n",
    "# YOUR CODE HERE\n",
    "x           = np.array([[1., 2., 3.],[4., 5., 6.]])\n",
    "size_x      = x.shape\n",
    "type_x      = x.dtype\n",
    "\n",
    "y           = np.array([1., 2., 3.])\n",
    "size_y      = y.shape\n",
    "type_y      = y.dtype\n",
    "\n",
    "z           = np.array([1.])\n",
    "size_z      = z.shape\n",
    "type_z      = z.dtype\n",
    "#\n",
    "# ++++++++++++++++++++++++++++++++++++++++++++++++++\n",
    "\n",
    "print('******************************')\n",
    "print('x = ')\n",
    "print(x)\n",
    "print('******************************')\n",
    "print('size of x = ')\n",
    "print(size_x)\n",
    "print('******************************')\n",
    "print('type of x = ')\n",
    "print(type_x)\n",
    "\n",
    "print('******************************')\n",
    "print('y = ')\n",
    "print(y)\n",
    "print('******************************')\n",
    "print('size of y = ')\n",
    "print(size_y)\n",
    "print('******************************')\n",
    "print('type of y = ')\n",
    "print(type_y)\n",
    "\n",
    "print('******************************')\n",
    "print('z = ')\n",
    "print(z)\n",
    "print('******************************')\n",
    "print('size of z = ')\n",
    "print(size_z)\n",
    "print('******************************')\n",
    "print('type of z = ')\n",
    "print(type_z)\n",
    "print('******************************')"
   ]
  },
  {
   "cell_type": "code",
   "execution_count": null,
   "metadata": {},
   "outputs": [],
   "source": []
  }
 ],
 "metadata": {
  "kernelspec": {
   "display_name": "Python 3",
   "language": "python",
   "name": "python3"
  },
  "language_info": {
   "codemirror_mode": {
    "name": "ipython",
    "version": 3
   },
   "file_extension": ".py",
   "mimetype": "text/x-python",
   "name": "python",
   "nbconvert_exporter": "python",
   "pygments_lexer": "ipython3",
   "version": "3.7.11"
  }
 },
 "nbformat": 4,
 "nbformat_minor": 4
}
