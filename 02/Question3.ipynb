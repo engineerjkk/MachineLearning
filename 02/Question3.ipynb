{
 "cells": [
  {
   "cell_type": "markdown",
   "metadata": {},
   "source": [
    "### Question 3: Multiply the matrix and vector in Python "
   ]
  },
  {
   "cell_type": "code",
   "execution_count": 15,
   "metadata": {},
   "outputs": [
    {
     "name": "stdout",
     "output_type": "stream",
     "text": [
      "******************************\n",
      "A = \n",
      "[[1. 2.]\n",
      " [3. 4.]\n",
      " [5. 6.]]\n",
      "******************************\n",
      "size of A = \n",
      "(3, 2)\n",
      "******************************\n",
      "x = \n",
      "[[10.]\n",
      " [20.]]\n",
      "******************************\n",
      "size of x = \n",
      "(2, 1)\n",
      "******************************\n",
      "y = A x\n",
      "[[ 50.]\n",
      " [110.]\n",
      " [170.]]\n",
      "******************************\n",
      "size of y = \n",
      "(3, 1)\n",
      "******************************\n"
     ]
    }
   ],
   "source": [
    "import numpy as np\n",
    "\n",
    "\n",
    "# ++++++++++++++++++++++++++++++++++++++++++++++++++\n",
    "# YOUR CODE HERE\n",
    "A       =   np.array([[1., 2.],\n",
    "                      [3., 4.],\n",
    "                      [5., 6.]])\n",
    "size_A  =  A.shape\n",
    "\n",
    "x       = np.array([[10.],\n",
    "                    [20.]])\n",
    "size_x  = x.shape\n",
    "\n",
    "y       = np.matmul(A,x)\n",
    "size_y  = y.shape\n",
    "#\n",
    "# ++++++++++++++++++++++++++++++++++++++++++++++++++\n",
    "\n",
    "print('******************************')\n",
    "print('A = ')\n",
    "print(A)\n",
    "print('******************************')\n",
    "print('size of A = ')\n",
    "print(size_A)\n",
    "\n",
    "print('******************************')\n",
    "print('x = ')\n",
    "print(x)\n",
    "print('******************************')\n",
    "print('size of x = ')\n",
    "print(size_x)\n",
    "\n",
    "print('******************************')\n",
    "print('y = A x')\n",
    "print(y)\n",
    "print('******************************')\n",
    "print('size of y = ')\n",
    "print(size_y)\n",
    "print('******************************')"
   ]
  },
  {
   "cell_type": "code",
   "execution_count": null,
   "metadata": {},
   "outputs": [],
   "source": []
  }
 ],
 "metadata": {
  "kernelspec": {
   "display_name": "Python 3",
   "language": "python",
   "name": "python3"
  },
  "language_info": {
   "codemirror_mode": {
    "name": "ipython",
    "version": 3
   },
   "file_extension": ".py",
   "mimetype": "text/x-python",
   "name": "python",
   "nbconvert_exporter": "python",
   "pygments_lexer": "ipython3",
   "version": "3.7.11"
  }
 },
 "nbformat": 4,
 "nbformat_minor": 4
}
