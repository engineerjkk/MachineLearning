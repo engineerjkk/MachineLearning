{
  "cells": [
    {
      "cell_type": "markdown",
      "metadata": {
        "id": "GQPnwWiVdZ1p"
      },
      "source": [
        "### Introduction\n",
        "\n",
        "In this tutorial, we are going to introduce the basic usage of **TorchDrug**.\n",
        "\n",
        "### Manual Steps\n",
        "\n",
        "1.   Get your own copy of this file via \"File > Save a copy in Drive...\",\n",
        "2.   Set the runtime to **GPU** via \"Runtime > Change runtime type...\"\n",
        "\n",
        "### Colab Tutorials\n",
        "\n",
        "#### Quick Start\n",
        "1. [Basic Usage and Pipeline](https://colab.research.google.com/drive/1Tbnr1Fog_YjkqU1MOhcVLuxqZ4DC-c8-#forceEdit=true&sandboxMode=true)\n",
        "\n",
        "#### Drug Discovery Tasks\n",
        "1. [Property Prediction](https://colab.research.google.com/drive/1sb2w3evdEWm-GYo28RksvzJ74p63xHMn?usp=sharing#forceEdit=true&sandboxMode=true)\n",
        "2. [Pretrained Molecular Representations](https://colab.research.google.com/drive/10faCIVIfln20f2h1oQk2UrXiAMqZKLoW?usp=sharing#forceEdit=true&sandboxMode=true)\n",
        "3. [De no vo Molecule Design](https://colab.research.google.com/drive/1JEMiMvSBuqCuzzREYpviNZZRVOYsgivA?usp=sharing#forceEdit=true&sandboxMode=true)\n",
        "4. [Retrosynthesis](https://colab.research.google.com/drive/1IH1hk7K3MaxAEe5m6CFY7Eyej3RuiEL1?usp=sharing#forceEdit=true&sandboxMode=true)\n",
        "5. [Knowledge Graph Reasoning](https://colab.research.google.com/drive/1-sjqQZhYrGM0HiMuaqXOiqhDNlJi7g_I?usp=sharing#forceEdit=true&sandboxMode=true)"
      ]
    },
    {
      "cell_type": "code",
      "execution_count": 1,
      "metadata": {
        "colab": {
          "base_uri": "https://localhost:8080/"
        },
        "id": "CpM2xMHNyPlr",
        "outputId": "687ef97c-b684-437d-f4e3-4ad5b3904f68"
      },
      "outputs": [
        {
          "name": "stdout",
          "output_type": "stream",
          "text": [
            "Looking in links: https://pytorch-geometric.com/whl/torch-1.9.0.html\n",
            "Requirement already satisfied: torch-scatter in /home/kangjunekoo/anaconda3/envs/pytorch/lib/python3.7/site-packages (2.0.9)\n",
            "Requirement already satisfied: torchdrug in /home/kangjunekoo/anaconda3/envs/pytorch/lib/python3.7/site-packages (0.1.2.post1)\n",
            "Requirement already satisfied: tqdm in /home/kangjunekoo/anaconda3/envs/pytorch/lib/python3.7/site-packages (from torchdrug) (4.62.3)\n",
            "Requirement already satisfied: numpy>=1.11 in /home/kangjunekoo/anaconda3/envs/pytorch/lib/python3.7/site-packages (from torchdrug) (1.21.4)\n",
            "Requirement already satisfied: decorator in /home/kangjunekoo/anaconda3/envs/pytorch/lib/python3.7/site-packages (from torchdrug) (5.1.0)\n",
            "Requirement already satisfied: torch>=1.4.0 in /home/kangjunekoo/anaconda3/envs/pytorch/lib/python3.7/site-packages (from torchdrug) (1.10.0)\n",
            "Requirement already satisfied: rdkit-pypi in /home/kangjunekoo/anaconda3/envs/pytorch/lib/python3.7/site-packages (from torchdrug) (2021.9.5.1)\n",
            "Requirement already satisfied: torch-scatter>=1.4.0 in /home/kangjunekoo/anaconda3/envs/pytorch/lib/python3.7/site-packages (from torchdrug) (2.0.9)\n",
            "Requirement already satisfied: ninja in /home/kangjunekoo/anaconda3/envs/pytorch/lib/python3.7/site-packages (from torchdrug) (1.10.2.3)\n",
            "Requirement already satisfied: matplotlib in /home/kangjunekoo/anaconda3/envs/pytorch/lib/python3.7/site-packages (from torchdrug) (3.5.1)\n",
            "Requirement already satisfied: networkx in /home/kangjunekoo/anaconda3/envs/pytorch/lib/python3.7/site-packages (from torchdrug) (2.6.3)\n",
            "Requirement already satisfied: jinja2 in /home/kangjunekoo/anaconda3/envs/pytorch/lib/python3.7/site-packages (from torchdrug) (3.0.3)\n",
            "Requirement already satisfied: typing-extensions in /home/kangjunekoo/anaconda3/envs/pytorch/lib/python3.7/site-packages (from torch>=1.4.0->torchdrug) (4.0.0)\n",
            "Requirement already satisfied: MarkupSafe>=2.0 in /home/kangjunekoo/anaconda3/envs/pytorch/lib/python3.7/site-packages (from jinja2->torchdrug) (2.0.1)\n",
            "Requirement already satisfied: packaging>=20.0 in /home/kangjunekoo/anaconda3/envs/pytorch/lib/python3.7/site-packages (from matplotlib->torchdrug) (21.3)\n",
            "Requirement already satisfied: fonttools>=4.22.0 in /home/kangjunekoo/anaconda3/envs/pytorch/lib/python3.7/site-packages (from matplotlib->torchdrug) (4.28.5)\n",
            "Requirement already satisfied: kiwisolver>=1.0.1 in /home/kangjunekoo/anaconda3/envs/pytorch/lib/python3.7/site-packages (from matplotlib->torchdrug) (1.3.2)\n",
            "Requirement already satisfied: pyparsing>=2.2.1 in /home/kangjunekoo/anaconda3/envs/pytorch/lib/python3.7/site-packages (from matplotlib->torchdrug) (3.0.7)\n",
            "Requirement already satisfied: cycler>=0.10 in /home/kangjunekoo/anaconda3/envs/pytorch/lib/python3.7/site-packages (from matplotlib->torchdrug) (0.11.0)\n",
            "Requirement already satisfied: python-dateutil>=2.7 in /home/kangjunekoo/anaconda3/envs/pytorch/lib/python3.7/site-packages (from matplotlib->torchdrug) (2.8.2)\n",
            "Requirement already satisfied: pillow>=6.2.0 in /home/kangjunekoo/anaconda3/envs/pytorch/lib/python3.7/site-packages (from matplotlib->torchdrug) (8.4.0)\n",
            "Requirement already satisfied: six>=1.5 in /home/kangjunekoo/anaconda3/envs/pytorch/lib/python3.7/site-packages (from python-dateutil>=2.7->matplotlib->torchdrug) (1.16.0)\n"
          ]
        }
      ],
      "source": [
        "import os\n",
        "import torch\n",
        "os.environ[\"TORCH_VERSION\"] = torch.__version__\n",
        "\n",
        "!pip install torch-scatter -f https://pytorch-geometric.com/whl/torch-$TORCH_VERSION.html\n",
        "!pip install torchdrug"
      ]
    },
    {
      "cell_type": "code",
      "execution_count": 6,
      "metadata": {},
      "outputs": [
        {
          "ename": "RuntimeError",
          "evalue": "Unexpected error from cudaGetDeviceCount(). Did you run some cuda functions before calling NumCudaDevices() that might have already set an error? Error 803: system has unsupported display driver / cuda driver combination",
          "output_type": "error",
          "traceback": [
            "\u001b[0;31m---------------------------------------------------------------------------\u001b[0m",
            "\u001b[0;31mRuntimeError\u001b[0m                              Traceback (most recent call last)",
            "\u001b[0;32m/tmp/ipykernel_166318/646093586.py\u001b[0m in \u001b[0;36m<module>\u001b[0;34m\u001b[0m\n\u001b[0;32m----> 1\u001b[0;31m \u001b[0mtorch\u001b[0m\u001b[0;34m.\u001b[0m\u001b[0mcuda\u001b[0m\u001b[0;34m.\u001b[0m\u001b[0mget_device_name\u001b[0m\u001b[0;34m(\u001b[0m\u001b[0;36m0\u001b[0m\u001b[0;34m)\u001b[0m\u001b[0;34m\u001b[0m\u001b[0;34m\u001b[0m\u001b[0m\n\u001b[0m",
            "\u001b[0;32m~/anaconda3/envs/pytorch/lib/python3.7/site-packages/torch/cuda/__init__.py\u001b[0m in \u001b[0;36mget_device_name\u001b[0;34m(device)\u001b[0m\n\u001b[1;32m    277\u001b[0m         \u001b[0mstr\u001b[0m\u001b[0;34m:\u001b[0m \u001b[0mthe\u001b[0m \u001b[0mname\u001b[0m \u001b[0mof\u001b[0m \u001b[0mthe\u001b[0m \u001b[0mdevice\u001b[0m\u001b[0;34m\u001b[0m\u001b[0;34m\u001b[0m\u001b[0m\n\u001b[1;32m    278\u001b[0m     \"\"\"\n\u001b[0;32m--> 279\u001b[0;31m     \u001b[0;32mreturn\u001b[0m \u001b[0mget_device_properties\u001b[0m\u001b[0;34m(\u001b[0m\u001b[0mdevice\u001b[0m\u001b[0;34m)\u001b[0m\u001b[0;34m.\u001b[0m\u001b[0mname\u001b[0m\u001b[0;34m\u001b[0m\u001b[0;34m\u001b[0m\u001b[0m\n\u001b[0m\u001b[1;32m    280\u001b[0m \u001b[0;34m\u001b[0m\u001b[0m\n\u001b[1;32m    281\u001b[0m \u001b[0;34m\u001b[0m\u001b[0m\n",
            "\u001b[0;32m~/anaconda3/envs/pytorch/lib/python3.7/site-packages/torch/cuda/__init__.py\u001b[0m in \u001b[0;36mget_device_properties\u001b[0;34m(device)\u001b[0m\n\u001b[1;32m    307\u001b[0m         \u001b[0m_CudaDeviceProperties\u001b[0m\u001b[0;34m:\u001b[0m \u001b[0mthe\u001b[0m \u001b[0mproperties\u001b[0m \u001b[0mof\u001b[0m \u001b[0mthe\u001b[0m \u001b[0mdevice\u001b[0m\u001b[0;34m\u001b[0m\u001b[0;34m\u001b[0m\u001b[0m\n\u001b[1;32m    308\u001b[0m     \"\"\"\n\u001b[0;32m--> 309\u001b[0;31m     \u001b[0m_lazy_init\u001b[0m\u001b[0;34m(\u001b[0m\u001b[0;34m)\u001b[0m  \u001b[0;31m# will define _get_device_properties\u001b[0m\u001b[0;34m\u001b[0m\u001b[0;34m\u001b[0m\u001b[0m\n\u001b[0m\u001b[1;32m    310\u001b[0m     \u001b[0mdevice\u001b[0m \u001b[0;34m=\u001b[0m \u001b[0m_get_device_index\u001b[0m\u001b[0;34m(\u001b[0m\u001b[0mdevice\u001b[0m\u001b[0;34m,\u001b[0m \u001b[0moptional\u001b[0m\u001b[0;34m=\u001b[0m\u001b[0;32mTrue\u001b[0m\u001b[0;34m)\u001b[0m\u001b[0;34m\u001b[0m\u001b[0;34m\u001b[0m\u001b[0m\n\u001b[1;32m    311\u001b[0m     \u001b[0;32mif\u001b[0m \u001b[0mdevice\u001b[0m \u001b[0;34m<\u001b[0m \u001b[0;36m0\u001b[0m \u001b[0;32mor\u001b[0m \u001b[0mdevice\u001b[0m \u001b[0;34m>=\u001b[0m \u001b[0mdevice_count\u001b[0m\u001b[0;34m(\u001b[0m\u001b[0;34m)\u001b[0m\u001b[0;34m:\u001b[0m\u001b[0;34m\u001b[0m\u001b[0;34m\u001b[0m\u001b[0m\n",
            "\u001b[0;32m~/anaconda3/envs/pytorch/lib/python3.7/site-packages/torch/cuda/__init__.py\u001b[0m in \u001b[0;36m_lazy_init\u001b[0;34m()\u001b[0m\n\u001b[1;32m    170\u001b[0m         \u001b[0;31m# This function throws if there's a driver initialization error, no GPUs\u001b[0m\u001b[0;34m\u001b[0m\u001b[0;34m\u001b[0m\u001b[0;34m\u001b[0m\u001b[0m\n\u001b[1;32m    171\u001b[0m         \u001b[0;31m# are found or any other error occurs\u001b[0m\u001b[0;34m\u001b[0m\u001b[0;34m\u001b[0m\u001b[0;34m\u001b[0m\u001b[0m\n\u001b[0;32m--> 172\u001b[0;31m         \u001b[0mtorch\u001b[0m\u001b[0;34m.\u001b[0m\u001b[0m_C\u001b[0m\u001b[0;34m.\u001b[0m\u001b[0m_cuda_init\u001b[0m\u001b[0;34m(\u001b[0m\u001b[0;34m)\u001b[0m\u001b[0;34m\u001b[0m\u001b[0;34m\u001b[0m\u001b[0m\n\u001b[0m\u001b[1;32m    173\u001b[0m         \u001b[0;31m# Some of the queued calls may reentrantly call _lazy_init();\u001b[0m\u001b[0;34m\u001b[0m\u001b[0;34m\u001b[0m\u001b[0;34m\u001b[0m\u001b[0m\n\u001b[1;32m    174\u001b[0m         \u001b[0;31m# we need to just return without initializing in that case.\u001b[0m\u001b[0;34m\u001b[0m\u001b[0;34m\u001b[0m\u001b[0;34m\u001b[0m\u001b[0m\n",
            "\u001b[0;31mRuntimeError\u001b[0m: Unexpected error from cudaGetDeviceCount(). Did you run some cuda functions before calling NumCudaDevices() that might have already set an error? Error 803: system has unsupported display driver / cuda driver combination"
          ]
        }
      ],
      "source": [
        "torch.cuda.get_device_name(0)"
      ]
    },
    {
      "cell_type": "markdown",
      "metadata": {
        "id": "BFmpTG8ccZQJ"
      },
      "source": [
        "# Graphs\n",
        "Graphs are the fundamental data structure used in TorchDrug. They can be viewed as a generalization of graph processing libraries (e.g., NetworkX) in a tensor framework, while enjoy the GPU acceleration and auto differentiation."
      ]
    },
    {
      "cell_type": "markdown",
      "metadata": {
        "id": "R4JlPpHcQBS4"
      },
      "source": [
        "The following code shows how to create a cycle graph from an edge list. By default, the graph structure is stored as an edge list to save memory consumption. We can convert it to a dense adjacency matrix on the fly if needed."
      ]
    },
    {
      "cell_type": "code",
      "execution_count": 4,
      "metadata": {
        "colab": {
          "base_uri": "https://localhost:8080/",
          "height": 351
        },
        "id": "Xb8oU4BZUCmu",
        "outputId": "2ef014ce-b4fd-4952-fdbc-65b232910e14"
      },
      "outputs": [
        {
          "ename": "OSError",
          "evalue": "/home/kangjunekoo/anaconda3/envs/pytorch/lib/python3.7/site-packages/torch_scatter/_scatter_cpu.so: undefined symbol: _ZN2at4_ops6gather4callERKNS_6TensorElS4_b",
          "output_type": "error",
          "traceback": [
            "\u001b[0;31m---------------------------------------------------------------------------\u001b[0m",
            "\u001b[0;31mOSError\u001b[0m                                   Traceback (most recent call last)",
            "\u001b[0;32m/tmp/ipykernel_166318/4079321736.py\u001b[0m in \u001b[0;36m<module>\u001b[0;34m\u001b[0m\n\u001b[0;32m----> 1\u001b[0;31m \u001b[0;32mimport\u001b[0m \u001b[0mtorchdrug\u001b[0m \u001b[0;32mas\u001b[0m \u001b[0mtd\u001b[0m\u001b[0;34m\u001b[0m\u001b[0;34m\u001b[0m\u001b[0m\n\u001b[0m\u001b[1;32m      2\u001b[0m \u001b[0;32mfrom\u001b[0m \u001b[0mtorchdrug\u001b[0m \u001b[0;32mimport\u001b[0m \u001b[0mdata\u001b[0m\u001b[0;34m\u001b[0m\u001b[0;34m\u001b[0m\u001b[0m\n\u001b[1;32m      3\u001b[0m \u001b[0mget_ipython\u001b[0m\u001b[0;34m(\u001b[0m\u001b[0;34m)\u001b[0m\u001b[0;34m.\u001b[0m\u001b[0mrun_line_magic\u001b[0m\u001b[0;34m(\u001b[0m\u001b[0;34m'matplotlib'\u001b[0m\u001b[0;34m,\u001b[0m \u001b[0;34m'inline'\u001b[0m\u001b[0;34m)\u001b[0m\u001b[0;34m\u001b[0m\u001b[0;34m\u001b[0m\u001b[0m\n\u001b[1;32m      4\u001b[0m \u001b[0;34m\u001b[0m\u001b[0m\n\u001b[1;32m      5\u001b[0m \u001b[0medge_list\u001b[0m \u001b[0;34m=\u001b[0m \u001b[0;34m[\u001b[0m\u001b[0;34m[\u001b[0m\u001b[0;36m0\u001b[0m\u001b[0;34m,\u001b[0m \u001b[0;36m1\u001b[0m\u001b[0;34m]\u001b[0m\u001b[0;34m,\u001b[0m \u001b[0;34m[\u001b[0m\u001b[0;36m1\u001b[0m\u001b[0;34m,\u001b[0m \u001b[0;36m2\u001b[0m\u001b[0;34m]\u001b[0m\u001b[0;34m,\u001b[0m \u001b[0;34m[\u001b[0m\u001b[0;36m2\u001b[0m\u001b[0;34m,\u001b[0m \u001b[0;36m3\u001b[0m\u001b[0;34m]\u001b[0m\u001b[0;34m,\u001b[0m \u001b[0;34m[\u001b[0m\u001b[0;36m3\u001b[0m\u001b[0;34m,\u001b[0m \u001b[0;36m4\u001b[0m\u001b[0;34m]\u001b[0m\u001b[0;34m,\u001b[0m \u001b[0;34m[\u001b[0m\u001b[0;36m4\u001b[0m\u001b[0;34m,\u001b[0m \u001b[0;36m5\u001b[0m\u001b[0;34m]\u001b[0m\u001b[0;34m,\u001b[0m \u001b[0;34m[\u001b[0m\u001b[0;36m5\u001b[0m\u001b[0;34m,\u001b[0m \u001b[0;36m0\u001b[0m\u001b[0;34m]\u001b[0m\u001b[0;34m]\u001b[0m\u001b[0;34m\u001b[0m\u001b[0;34m\u001b[0m\u001b[0m\n",
            "\u001b[0;32m~/anaconda3/envs/pytorch/lib/python3.7/site-packages/torchdrug/__init__.py\u001b[0m in \u001b[0;36m<module>\u001b[0;34m\u001b[0m\n\u001b[0;32m----> 1\u001b[0;31m \u001b[0;32mfrom\u001b[0m \u001b[0;34m.\u001b[0m \u001b[0;32mimport\u001b[0m \u001b[0mpatch\u001b[0m\u001b[0;34m\u001b[0m\u001b[0;34m\u001b[0m\u001b[0m\n\u001b[0m\u001b[1;32m      2\u001b[0m \u001b[0;32mfrom\u001b[0m \u001b[0;34m.\u001b[0m\u001b[0mdata\u001b[0m\u001b[0;34m.\u001b[0m\u001b[0mconstant\u001b[0m \u001b[0;32mimport\u001b[0m \u001b[0;34m*\u001b[0m\u001b[0;34m\u001b[0m\u001b[0;34m\u001b[0m\u001b[0m\n\u001b[1;32m      3\u001b[0m \u001b[0;34m\u001b[0m\u001b[0m\n\u001b[1;32m      4\u001b[0m \u001b[0;32mimport\u001b[0m \u001b[0msys\u001b[0m\u001b[0;34m\u001b[0m\u001b[0;34m\u001b[0m\u001b[0m\n\u001b[1;32m      5\u001b[0m \u001b[0;32mimport\u001b[0m \u001b[0mlogging\u001b[0m\u001b[0;34m\u001b[0m\u001b[0;34m\u001b[0m\u001b[0m\n",
            "\u001b[0;32m~/anaconda3/envs/pytorch/lib/python3.7/site-packages/torchdrug/patch.py\u001b[0m in \u001b[0;36m<module>\u001b[0;34m\u001b[0m\n\u001b[1;32m     11\u001b[0m \u001b[0;32mfrom\u001b[0m \u001b[0mtorch\u001b[0m \u001b[0;32mimport\u001b[0m \u001b[0mdistributed\u001b[0m \u001b[0;32mas\u001b[0m \u001b[0mdist\u001b[0m\u001b[0;34m\u001b[0m\u001b[0;34m\u001b[0m\u001b[0m\n\u001b[1;32m     12\u001b[0m \u001b[0;34m\u001b[0m\u001b[0m\n\u001b[0;32m---> 13\u001b[0;31m \u001b[0;32mfrom\u001b[0m \u001b[0mtorchdrug\u001b[0m \u001b[0;32mimport\u001b[0m \u001b[0mcore\u001b[0m\u001b[0;34m,\u001b[0m \u001b[0mdata\u001b[0m\u001b[0;34m\u001b[0m\u001b[0;34m\u001b[0m\u001b[0m\n\u001b[0m\u001b[1;32m     14\u001b[0m \u001b[0;32mfrom\u001b[0m \u001b[0mtorchdrug\u001b[0m\u001b[0;34m.\u001b[0m\u001b[0mcore\u001b[0m \u001b[0;32mimport\u001b[0m \u001b[0mRegistry\u001b[0m \u001b[0;32mas\u001b[0m \u001b[0mR\u001b[0m\u001b[0;34m\u001b[0m\u001b[0;34m\u001b[0m\u001b[0m\n\u001b[1;32m     15\u001b[0m \u001b[0;34m\u001b[0m\u001b[0m\n",
            "\u001b[0;32m~/anaconda3/envs/pytorch/lib/python3.7/site-packages/torchdrug/core/__init__.py\u001b[0m in \u001b[0;36m<module>\u001b[0;34m\u001b[0m\n\u001b[1;32m      1\u001b[0m \u001b[0;32mfrom\u001b[0m \u001b[0;34m.\u001b[0m\u001b[0mcore\u001b[0m \u001b[0;32mimport\u001b[0m \u001b[0m_MetaContainer\u001b[0m\u001b[0;34m,\u001b[0m \u001b[0mRegistry\u001b[0m\u001b[0;34m,\u001b[0m \u001b[0mConfigurable\u001b[0m\u001b[0;34m,\u001b[0m \u001b[0mmake_configurable\u001b[0m\u001b[0;34m\u001b[0m\u001b[0;34m\u001b[0m\u001b[0m\n\u001b[0;32m----> 2\u001b[0;31m \u001b[0;32mfrom\u001b[0m \u001b[0;34m.\u001b[0m\u001b[0mengine\u001b[0m \u001b[0;32mimport\u001b[0m \u001b[0mEngine\u001b[0m\u001b[0;34m\u001b[0m\u001b[0;34m\u001b[0m\u001b[0m\n\u001b[0m\u001b[1;32m      3\u001b[0m \u001b[0;32mfrom\u001b[0m \u001b[0;34m.\u001b[0m\u001b[0mmeter\u001b[0m \u001b[0;32mimport\u001b[0m \u001b[0mMeter\u001b[0m\u001b[0;34m\u001b[0m\u001b[0;34m\u001b[0m\u001b[0m\n\u001b[1;32m      4\u001b[0m \u001b[0;34m\u001b[0m\u001b[0m\n\u001b[1;32m      5\u001b[0m __all__ = [\n",
            "\u001b[0;32m~/anaconda3/envs/pytorch/lib/python3.7/site-packages/torchdrug/core/engine.py\u001b[0m in \u001b[0;36m<module>\u001b[0;34m\u001b[0m\n\u001b[1;32m      8\u001b[0m \u001b[0;32mfrom\u001b[0m \u001b[0mtorch\u001b[0m\u001b[0;34m.\u001b[0m\u001b[0mutils\u001b[0m \u001b[0;32mimport\u001b[0m \u001b[0mdata\u001b[0m \u001b[0;32mas\u001b[0m \u001b[0mtorch_data\u001b[0m\u001b[0;34m\u001b[0m\u001b[0;34m\u001b[0m\u001b[0m\n\u001b[1;32m      9\u001b[0m \u001b[0;34m\u001b[0m\u001b[0m\n\u001b[0;32m---> 10\u001b[0;31m \u001b[0;32mfrom\u001b[0m \u001b[0mtorchdrug\u001b[0m \u001b[0;32mimport\u001b[0m \u001b[0mdata\u001b[0m\u001b[0;34m,\u001b[0m \u001b[0mcore\u001b[0m\u001b[0;34m,\u001b[0m \u001b[0mutils\u001b[0m\u001b[0;34m\u001b[0m\u001b[0;34m\u001b[0m\u001b[0m\n\u001b[0m\u001b[1;32m     11\u001b[0m \u001b[0;32mfrom\u001b[0m \u001b[0mtorchdrug\u001b[0m\u001b[0;34m.\u001b[0m\u001b[0mcore\u001b[0m \u001b[0;32mimport\u001b[0m \u001b[0mRegistry\u001b[0m \u001b[0;32mas\u001b[0m \u001b[0mR\u001b[0m\u001b[0;34m\u001b[0m\u001b[0;34m\u001b[0m\u001b[0m\n\u001b[1;32m     12\u001b[0m \u001b[0;32mfrom\u001b[0m \u001b[0mtorchdrug\u001b[0m\u001b[0;34m.\u001b[0m\u001b[0mutils\u001b[0m \u001b[0;32mimport\u001b[0m \u001b[0mcomm\u001b[0m\u001b[0;34m\u001b[0m\u001b[0;34m\u001b[0m\u001b[0m\n",
            "\u001b[0;32m~/anaconda3/envs/pytorch/lib/python3.7/site-packages/torchdrug/data/__init__.py\u001b[0m in \u001b[0;36m<module>\u001b[0;34m\u001b[0m\n\u001b[0;32m----> 1\u001b[0;31m \u001b[0;32mfrom\u001b[0m \u001b[0;34m.\u001b[0m\u001b[0mdictionary\u001b[0m \u001b[0;32mimport\u001b[0m \u001b[0mPerfectHash\u001b[0m\u001b[0;34m,\u001b[0m \u001b[0mDictionary\u001b[0m\u001b[0;34m\u001b[0m\u001b[0;34m\u001b[0m\u001b[0m\n\u001b[0m\u001b[1;32m      2\u001b[0m \u001b[0;32mfrom\u001b[0m \u001b[0;34m.\u001b[0m\u001b[0mgraph\u001b[0m \u001b[0;32mimport\u001b[0m \u001b[0mGraph\u001b[0m\u001b[0;34m,\u001b[0m \u001b[0mPackedGraph\u001b[0m\u001b[0;34m,\u001b[0m \u001b[0mcat\u001b[0m\u001b[0;34m\u001b[0m\u001b[0;34m\u001b[0m\u001b[0m\n\u001b[1;32m      3\u001b[0m \u001b[0;32mfrom\u001b[0m \u001b[0;34m.\u001b[0m\u001b[0mmolecule\u001b[0m \u001b[0;32mimport\u001b[0m \u001b[0mMolecule\u001b[0m\u001b[0;34m,\u001b[0m \u001b[0mPackedMolecule\u001b[0m\u001b[0;34m\u001b[0m\u001b[0;34m\u001b[0m\u001b[0m\n\u001b[1;32m      4\u001b[0m \u001b[0;32mfrom\u001b[0m \u001b[0;34m.\u001b[0m\u001b[0mdataset\u001b[0m \u001b[0;32mimport\u001b[0m \u001b[0mMoleculeDataset\u001b[0m\u001b[0;34m,\u001b[0m \u001b[0mReactionDataset\u001b[0m\u001b[0;34m,\u001b[0m \u001b[0mNodeClassificationDataset\u001b[0m\u001b[0;34m,\u001b[0m \u001b[0mKnowledgeGraphDataset\u001b[0m\u001b[0;34m,\u001b[0m\u001b[0;31m \u001b[0m\u001b[0;31m\\\u001b[0m\u001b[0;34m\u001b[0m\u001b[0;34m\u001b[0m\u001b[0m\n\u001b[1;32m      5\u001b[0m     \u001b[0mSemiSupervised\u001b[0m\u001b[0;34m,\u001b[0m \u001b[0msemisupervised\u001b[0m\u001b[0;34m,\u001b[0m \u001b[0mkey_split\u001b[0m\u001b[0;34m,\u001b[0m \u001b[0mscaffold_split\u001b[0m\u001b[0;34m,\u001b[0m \u001b[0mordered_scaffold_split\u001b[0m\u001b[0;34m\u001b[0m\u001b[0;34m\u001b[0m\u001b[0m\n",
            "\u001b[0;32m~/anaconda3/envs/pytorch/lib/python3.7/site-packages/torchdrug/data/dictionary.py\u001b[0m in \u001b[0;36m<module>\u001b[0;34m\u001b[0m\n\u001b[1;32m      2\u001b[0m \u001b[0;32mimport\u001b[0m \u001b[0mtorch\u001b[0m\u001b[0;34m\u001b[0m\u001b[0;34m\u001b[0m\u001b[0m\n\u001b[1;32m      3\u001b[0m \u001b[0;34m\u001b[0m\u001b[0m\n\u001b[0;32m----> 4\u001b[0;31m \u001b[0;32mfrom\u001b[0m \u001b[0mtorch_scatter\u001b[0m \u001b[0;32mimport\u001b[0m \u001b[0mscatter_max\u001b[0m\u001b[0;34m\u001b[0m\u001b[0;34m\u001b[0m\u001b[0m\n\u001b[0m\u001b[1;32m      5\u001b[0m \u001b[0;34m\u001b[0m\u001b[0m\n\u001b[1;32m      6\u001b[0m \u001b[0;32mfrom\u001b[0m \u001b[0mtorchdrug\u001b[0m \u001b[0;32mimport\u001b[0m \u001b[0mutils\u001b[0m\u001b[0;34m\u001b[0m\u001b[0;34m\u001b[0m\u001b[0m\n",
            "\u001b[0;32m~/anaconda3/envs/pytorch/lib/python3.7/site-packages/torch_scatter/__init__.py\u001b[0m in \u001b[0;36m<module>\u001b[0;34m\u001b[0m\n\u001b[1;32m     14\u001b[0m     \u001b[0mspec\u001b[0m \u001b[0;34m=\u001b[0m \u001b[0mcuda_spec\u001b[0m \u001b[0;32mor\u001b[0m \u001b[0mcpu_spec\u001b[0m\u001b[0;34m\u001b[0m\u001b[0;34m\u001b[0m\u001b[0m\n\u001b[1;32m     15\u001b[0m     \u001b[0;32mif\u001b[0m \u001b[0mspec\u001b[0m \u001b[0;32mis\u001b[0m \u001b[0;32mnot\u001b[0m \u001b[0;32mNone\u001b[0m\u001b[0;34m:\u001b[0m\u001b[0;34m\u001b[0m\u001b[0;34m\u001b[0m\u001b[0m\n\u001b[0;32m---> 16\u001b[0;31m         \u001b[0mtorch\u001b[0m\u001b[0;34m.\u001b[0m\u001b[0mops\u001b[0m\u001b[0;34m.\u001b[0m\u001b[0mload_library\u001b[0m\u001b[0;34m(\u001b[0m\u001b[0mspec\u001b[0m\u001b[0;34m.\u001b[0m\u001b[0morigin\u001b[0m\u001b[0;34m)\u001b[0m\u001b[0;34m\u001b[0m\u001b[0;34m\u001b[0m\u001b[0m\n\u001b[0m\u001b[1;32m     17\u001b[0m     \u001b[0;32melif\u001b[0m \u001b[0mos\u001b[0m\u001b[0;34m.\u001b[0m\u001b[0mgetenv\u001b[0m\u001b[0;34m(\u001b[0m\u001b[0;34m'BUILD_DOCS'\u001b[0m\u001b[0;34m,\u001b[0m \u001b[0;34m'0'\u001b[0m\u001b[0;34m)\u001b[0m \u001b[0;34m!=\u001b[0m \u001b[0;34m'1'\u001b[0m\u001b[0;34m:\u001b[0m  \u001b[0;31m# pragma: no cover\u001b[0m\u001b[0;34m\u001b[0m\u001b[0;34m\u001b[0m\u001b[0m\n\u001b[1;32m     18\u001b[0m         raise ImportError(f\"Could not find module '{library}_cpu' in \"\n",
            "\u001b[0;32m~/anaconda3/envs/pytorch/lib/python3.7/site-packages/torch/_ops.py\u001b[0m in \u001b[0;36mload_library\u001b[0;34m(self, path)\u001b[0m\n\u001b[1;32m    102\u001b[0m             \u001b[0;31m# static (global) initialization code in order to register custom\u001b[0m\u001b[0;34m\u001b[0m\u001b[0;34m\u001b[0m\u001b[0;34m\u001b[0m\u001b[0m\n\u001b[1;32m    103\u001b[0m             \u001b[0;31m# operators with the JIT.\u001b[0m\u001b[0;34m\u001b[0m\u001b[0;34m\u001b[0m\u001b[0;34m\u001b[0m\u001b[0m\n\u001b[0;32m--> 104\u001b[0;31m             \u001b[0mctypes\u001b[0m\u001b[0;34m.\u001b[0m\u001b[0mCDLL\u001b[0m\u001b[0;34m(\u001b[0m\u001b[0mpath\u001b[0m\u001b[0;34m)\u001b[0m\u001b[0;34m\u001b[0m\u001b[0;34m\u001b[0m\u001b[0m\n\u001b[0m\u001b[1;32m    105\u001b[0m         \u001b[0mself\u001b[0m\u001b[0;34m.\u001b[0m\u001b[0mloaded_libraries\u001b[0m\u001b[0;34m.\u001b[0m\u001b[0madd\u001b[0m\u001b[0;34m(\u001b[0m\u001b[0mpath\u001b[0m\u001b[0;34m)\u001b[0m\u001b[0;34m\u001b[0m\u001b[0;34m\u001b[0m\u001b[0m\n\u001b[1;32m    106\u001b[0m \u001b[0;34m\u001b[0m\u001b[0m\n",
            "\u001b[0;32m~/anaconda3/envs/pytorch/lib/python3.7/ctypes/__init__.py\u001b[0m in \u001b[0;36m__init__\u001b[0;34m(self, name, mode, handle, use_errno, use_last_error)\u001b[0m\n\u001b[1;32m    362\u001b[0m \u001b[0;34m\u001b[0m\u001b[0m\n\u001b[1;32m    363\u001b[0m         \u001b[0;32mif\u001b[0m \u001b[0mhandle\u001b[0m \u001b[0;32mis\u001b[0m \u001b[0;32mNone\u001b[0m\u001b[0;34m:\u001b[0m\u001b[0;34m\u001b[0m\u001b[0;34m\u001b[0m\u001b[0m\n\u001b[0;32m--> 364\u001b[0;31m             \u001b[0mself\u001b[0m\u001b[0;34m.\u001b[0m\u001b[0m_handle\u001b[0m \u001b[0;34m=\u001b[0m \u001b[0m_dlopen\u001b[0m\u001b[0;34m(\u001b[0m\u001b[0mself\u001b[0m\u001b[0;34m.\u001b[0m\u001b[0m_name\u001b[0m\u001b[0;34m,\u001b[0m \u001b[0mmode\u001b[0m\u001b[0;34m)\u001b[0m\u001b[0;34m\u001b[0m\u001b[0;34m\u001b[0m\u001b[0m\n\u001b[0m\u001b[1;32m    365\u001b[0m         \u001b[0;32melse\u001b[0m\u001b[0;34m:\u001b[0m\u001b[0;34m\u001b[0m\u001b[0;34m\u001b[0m\u001b[0m\n\u001b[1;32m    366\u001b[0m             \u001b[0mself\u001b[0m\u001b[0;34m.\u001b[0m\u001b[0m_handle\u001b[0m \u001b[0;34m=\u001b[0m \u001b[0mhandle\u001b[0m\u001b[0;34m\u001b[0m\u001b[0;34m\u001b[0m\u001b[0m\n",
            "\u001b[0;31mOSError\u001b[0m: /home/kangjunekoo/anaconda3/envs/pytorch/lib/python3.7/site-packages/torch_scatter/_scatter_cpu.so: undefined symbol: _ZN2at4_ops6gather4callERKNS_6TensorElS4_b"
          ]
        }
      ],
      "source": [
        "import torchdrug as td\n",
        "from torchdrug import data\n",
        "%matplotlib inline\n",
        "\n",
        "edge_list = [[0, 1], [1, 2], [2, 3], [3, 4], [4, 5], [5, 0]]\n",
        "graph = data.Graph(edge_list, num_node=6)\n",
        "#graph.visualize()\n",
        "print(graph.adjacency.to_dense())"
      ]
    },
    {
      "cell_type": "markdown",
      "metadata": {
        "id": "D6j7u-Y2Owfb"
      },
      "source": [
        "Graphs are defined with directed edges. To define an undirected graph, we can call the member function `Graph.undirected()` to get an undirected copy of the graph."
      ]
    },
    {
      "cell_type": "code",
      "execution_count": 3,
      "metadata": {
        "colab": {
          "base_uri": "https://localhost:8080/",
          "height": 351
        },
        "id": "eJrRTzI-Kdv8",
        "outputId": "39512208-37dd-43bc-b2be-5c850dac4573"
      },
      "outputs": [
        {
          "ename": "NameError",
          "evalue": "name 'graph' is not defined",
          "output_type": "error",
          "traceback": [
            "\u001b[0;31m---------------------------------------------------------------------------\u001b[0m",
            "\u001b[0;31mNameError\u001b[0m                                 Traceback (most recent call last)",
            "\u001b[0;32m/tmp/ipykernel_166318/1659399908.py\u001b[0m in \u001b[0;36m<module>\u001b[0;34m\u001b[0m\n\u001b[0;32m----> 1\u001b[0;31m \u001b[0mgraph\u001b[0m \u001b[0;34m=\u001b[0m \u001b[0mgraph\u001b[0m\u001b[0;34m.\u001b[0m\u001b[0mundirected\u001b[0m\u001b[0;34m(\u001b[0m\u001b[0;34m)\u001b[0m\u001b[0;34m\u001b[0m\u001b[0;34m\u001b[0m\u001b[0m\n\u001b[0m\u001b[1;32m      2\u001b[0m \u001b[0mgraph\u001b[0m\u001b[0;34m.\u001b[0m\u001b[0mvisualize\u001b[0m\u001b[0;34m(\u001b[0m\u001b[0;34m)\u001b[0m\u001b[0;34m\u001b[0m\u001b[0;34m\u001b[0m\u001b[0m\n\u001b[1;32m      3\u001b[0m \u001b[0mprint\u001b[0m\u001b[0;34m(\u001b[0m\u001b[0mgraph\u001b[0m\u001b[0;34m.\u001b[0m\u001b[0madjacency\u001b[0m\u001b[0;34m.\u001b[0m\u001b[0mto_dense\u001b[0m\u001b[0;34m(\u001b[0m\u001b[0;34m)\u001b[0m\u001b[0;34m)\u001b[0m\u001b[0;34m\u001b[0m\u001b[0;34m\u001b[0m\u001b[0m\n",
            "\u001b[0;31mNameError\u001b[0m: name 'graph' is not defined"
          ]
        }
      ],
      "source": [
        "graph = graph.undirected()\n",
        "graph.visualize()\n",
        "print(graph.adjacency.to_dense())"
      ]
    },
    {
      "cell_type": "markdown",
      "metadata": {
        "id": "hnn3nKFDP9Gl"
      },
      "source": [
        "In some cases, we would like to specify a type for each edge in the graph. For example, we may need to represent the bond type in molecules, or the relations in biomedical knowledge graphs."
      ]
    },
    {
      "cell_type": "code",
      "execution_count": 4,
      "metadata": {
        "colab": {
          "base_uri": "https://localhost:8080/",
          "height": 247
        },
        "id": "RxXhgIHVGAFs",
        "outputId": "52db1857-a28f-4056-9a6c-aed4e005a007"
      },
      "outputs": [
        {
          "data": {
            "image/png": "[encoded data removed]",
            "text/plain": [
              "<Figure size 216x216 with 1 Axes>"
            ]
          },
          "metadata": {},
          "output_type": "display_data"
        }
      ],
      "source": [
        "edge_list = [[0, 1, 0], [1, 2, 1], [2, 3, 0], [3, 4, 1], [4, 5, 0], [5, 0, 1]]\n",
        "graph = data.Graph(edge_list, num_node=6, num_relation=2)\n",
        "graph.visualize()"
      ]
    },
    {
      "cell_type": "markdown",
      "metadata": {
        "id": "htz21au8cubx"
      },
      "source": [
        "# Molecules\n",
        "\n",
        "A specfic instance of graphs in drug discovery is a molecule, which may have additional chemical constraints and features. For example, we can construct a molecule from SMILES string. SMILES is a language that describes complex molecule structures using a linear string.\n",
        "\n",
        "The node and edge features may serve as input to machine learning models. We may specify different features by changing the arguments in `Molecule.from_smiles`."
      ]
    },
    {
      "cell_type": "code",
      "execution_count": 5,
      "metadata": {
        "colab": {
          "base_uri": "https://localhost:8080/",
          "height": 299
        },
        "id": "kq14KIdFUFtQ",
        "outputId": "d0616423-4ed3-4059-e0dd-b138f9684f15"
      },
      "outputs": [
        {
          "name": "stdout",
          "output_type": "stream",
          "text": [
            "Molecule(num_node=16, num_edge=32, num_relation=4)\n",
            "torch.Size([16, 3])\n",
            "torch.Size([32, 1])\n"
          ]
        },
        {
          "data": {
            "image/png": "[encoded data removed]",
            "text/plain": [
              "<Figure size 216x216 with 1 Axes>"
            ]
          },
          "metadata": {
            "needs_background": "light"
          },
          "output_type": "display_data"
        }
      ],
      "source": [
        "smiles = \"CC1=C(C=C(C=C1[N+](=O)[O-])[N+](=O)[O-])[N+](=O)[O-]\"\n",
        "mol = data.Molecule.from_smiles(smiles, node_feature=\"position\", edge_feature=\"length\")\n",
        "mol.visualize()\n",
        "print(mol)\n",
        "print(mol.node_feature.shape)\n",
        "print(mol.edge_feature.shape)"
      ]
    },
    {
      "cell_type": "markdown",
      "metadata": {
        "id": "aVMlxWREVlYO"
      },
      "source": [
        "The molecule data structure contains several common chemical properties. For example, we can visualize the formal charge of each atom in the molecule."
      ]
    },
    {
      "cell_type": "code",
      "execution_count": 6,
      "metadata": {
        "colab": {
          "base_uri": "https://localhost:8080/"
        },
        "id": "h1dibJkjVhgu",
        "outputId": "1be13875-97c9-45b2-bc6e-a360dde2f1c7"
      },
      "outputs": [
        {
          "name": "stdout",
          "output_type": "stream",
          "text": [
            "C: 0\n",
            "C: 0\n",
            "C: 0\n",
            "C: 0\n",
            "C: 0\n",
            "C: 0\n",
            "C: 0\n",
            "N: 1\n",
            "O: 0\n",
            "O: -1\n",
            "N: 1\n",
            "O: 0\n",
            "O: -1\n",
            "N: 1\n",
            "O: 0\n",
            "O: -1\n"
          ]
        }
      ],
      "source": [
        "for atom, charge in zip(mol.atom_type.tolist(), mol.formal_charge.tolist()):\n",
        "    print(\"%s: %s\" % (td.ATOM_SYMBOL[atom], charge))"
      ]
    },
    {
      "cell_type": "markdown",
      "metadata": {
        "id": "FGwiHGcBRL6C"
      },
      "source": [
        "# Knowledge Graphs\n",
        "\n",
        "Another instance of graphs is a knowledge graph. Knowledge graphs represent biomedical knowledge as a relational graph, where each edge encodes a fact $<head, relation, tail>$.\n",
        "\n",
        "Here we show an example of knowledge graphs with the dataset Hetionet. Hetionet has the following relations between entities.\n",
        "\n",
        "<img src=\"https://het.io/about/metagraph.png\" alt=\"Hetionet entity & relation types\" width=\"400\">"
      ]
    },
    {
      "cell_type": "code",
      "execution_count": 7,
      "metadata": {
        "colab": {
          "base_uri": "https://localhost:8080/"
        },
        "id": "N3tuogBtRSaf",
        "outputId": "f7991658-5c42-4731-c15a-83023a7b2db2"
      },
      "outputs": [
        {
          "name": "stdout",
          "output_type": "stream",
          "text": [
            "14:29:27   Downloading https://www.dropbox.com/s/y47bt9oq57h6l5k/train.txt?dl=1 to /root/knowledge-graph-datasets/hetionet_train.txt\n",
            "14:29:30   Downloading https://www.dropbox.com/s/a0pbrx9tz3dgsff/valid.txt?dl=1 to /root/knowledge-graph-datasets/hetionet_valid.txt\n",
            "14:29:31   Downloading https://www.dropbox.com/s/4dhrvg3fyq5tnu4/test.txt?dl=1 to /root/knowledge-graph-datasets/hetionet_test.txt\n"
          ]
        },
        {
          "name": "stderr",
          "output_type": "stream",
          "text": [
            "Loading /root/knowledge-graph-datasets/hetionet_train.txt: 100%|██████████| 2025177/2025177 [00:05<00:00, 355379.80it/s]\n",
            "Loading /root/knowledge-graph-datasets/hetionet_valid.txt: 100%|██████████| 112510/112510 [00:00<00:00, 470336.80it/s]\n",
            "Loading /root/knowledge-graph-datasets/hetionet_test.txt: 100%|██████████| 112510/112510 [00:00<00:00, 393139.56it/s]\n"
          ]
        },
        {
          "name": "stdout",
          "output_type": "stream",
          "text": [
            "Hetionet(\n",
            "  #entity: 45158\n",
            "  #relation: 24\n",
            "  #triplet: 2250197\n",
            ")\n"
          ]
        }
      ],
      "source": [
        "from torchdrug import datasets\n",
        "\n",
        "hetionet = datasets.Hetionet(\"~/knowledge-graph-datasets\")\n",
        "print(hetionet)"
      ]
    },
    {
      "cell_type": "markdown",
      "metadata": {
        "id": "t0l_laBC5pRj"
      },
      "source": [
        "We visualize a single edge from the knowledge graph. This edge encodes the fact that [gene 11344](https://www.ncbi.nlm.nih.gov/gene/11344) regulates [gene 7485](https://www.ncbi.nlm.nih.gov/gene/7485)."
      ]
    },
    {
      "cell_type": "code",
      "execution_count": 8,
      "metadata": {
        "colab": {
          "base_uri": "https://localhost:8080/"
        },
        "id": "jzD35uARZJUL",
        "outputId": "874137b2-a9e2-42df-cfb0-d0d93fad7043"
      },
      "outputs": [
        {
          "name": "stdout",
          "output_type": "stream",
          "text": [
            "Gene::11344 Gr>G Gene::7485\n"
          ]
        }
      ],
      "source": [
        "kg = hetionet.graph\n",
        "h, t, r = kg.edge_list[0]\n",
        "print(hetionet.entity_vocab[h], hetionet.relation_vocab[r],\n",
        "      hetionet.entity_vocab[t])"
      ]
    },
    {
      "cell_type": "markdown",
      "metadata": {
        "id": "IyyIQIrAc0wN"
      },
      "source": [
        "# Graph Operations\n",
        "A group of arbitrary graphs can also be processed as a batch to maximize the utilization of hardware. They can also be transferred between CPUs and GPUs using `cpu()` and `cuda()` methods.\n",
        "\n"
      ]
    },
    {
      "cell_type": "code",
      "execution_count": 9,
      "metadata": {
        "colab": {
          "base_uri": "https://localhost:8080/",
          "height": 242
        },
        "id": "rfWxU6j5b9rM",
        "outputId": "dc330be3-72c8-4965-d3df-31825199ba4e"
      },
      "outputs": [
        {
          "name": "stdout",
          "output_type": "stream",
          "text": [
            "PackedMolecule(batch_size=4, num_nodes=[12, 6, 14, 9], num_edges=[22, 10, 30, 18], num_relation=4)\n"
          ]
        },
        {
          "data": {
            "image/png": "[encoded data removed]",
            "text/plain": [
              "<Figure size 864x216 with 4 Axes>"
            ]
          },
          "metadata": {
            "needs_background": "light"
          },
          "output_type": "display_data"
        }
      ],
      "source": [
        "smiles_list = [\"CCSCCSP(=S)(OC)OC\", \"CCOC(=O)N\",\n",
        "               \"N(Nc1ccccc1)c2ccccc2\", \"NC(=O)c1cccnc1\"]\n",
        "mols = data.PackedMolecule.from_smiles(smiles_list)\n",
        "mols.visualize(num_row=1)\n",
        "print(mols)"
      ]
    },
    {
      "cell_type": "code",
      "execution_count": 10,
      "metadata": {
        "colab": {
          "base_uri": "https://localhost:8080/"
        },
        "id": "w-Yw4bJBHk66",
        "outputId": "151a13ee-0f1d-4921-d0ef-0e4ae8a1bde2"
      },
      "outputs": [
        {
          "name": "stdout",
          "output_type": "stream",
          "text": [
            "PackedMolecule(batch_size=4, num_nodes=[12, 6, 14, 9], num_edges=[22, 10, 30, 18], num_relation=4, device='cuda:0')\n"
          ]
        }
      ],
      "source": [
        "mols = mols.cuda()\n",
        "print(mols)"
      ]
    },
    {
      "cell_type": "markdown",
      "metadata": {
        "id": "FkyKQQFMXvh_"
      },
      "source": [
        "Just like original PyTorch tensors, a batch of graphs supports many common broadcast and indexing operations."
      ]
    },
    {
      "cell_type": "code",
      "execution_count": 12,
      "metadata": {
        "colab": {
          "base_uri": "https://localhost:8080/",
          "height": 225
        },
        "id": "Ei3ZgySHXXHZ",
        "outputId": "dfeba128-bd46-4a87-aa2f-2821da8749cf"
      },
      "outputs": [
        {
          "data": {
            "image/png": "[encoded data removed]",
            "text/plain": [
              "<Figure size 1728x216 with 8 Axes>"
            ]
          },
          "metadata": {
            "needs_background": "light"
          },
          "output_type": "display_data"
        }
      ],
      "source": [
        "mols = mols.repeat(2)\n",
        "mols.visualize(num_row=1)"
      ]
    },
    {
      "cell_type": "code",
      "execution_count": 13,
      "metadata": {
        "colab": {
          "base_uri": "https://localhost:8080/",
          "height": 225
        },
        "id": "LKEFWqkWHoI_",
        "outputId": "7b1b8b30-1377-4842-c1af-e64a4fe000d4"
      },
      "outputs": [
        {
          "data": {
            "image/png": "[encoded data removed]",
            "text/plain": [
              "<Figure size 432x216 with 2 Axes>"
            ]
          },
          "metadata": {
            "needs_background": "light"
          },
          "output_type": "display_data"
        }
      ],
      "source": [
        "mols = mols[[0, 2]]\n",
        "mols.visualize()"
      ]
    },
    {
      "cell_type": "markdown",
      "metadata": {
        "id": "Wx0udm7IemPn"
      },
      "source": [
        "Besides graph-level operations, there are also node-level and edge-level operations. The following example shows how to select edges that contain at least one carbon. This creates disconnected components in each molecule.\n",
        "\n"
      ]
    },
    {
      "cell_type": "code",
      "execution_count": 14,
      "metadata": {
        "colab": {
          "base_uri": "https://localhost:8080/",
          "height": 225
        },
        "id": "GYwFJlGAcQC-",
        "outputId": "b1e36bae-476d-4922-b0f6-9a49ccc76266"
      },
      "outputs": [
        {
          "data": {
            "image/png": "[encoded data removed]",
            "text/plain": [
              "<Figure size 432x216 with 2 Axes>"
            ]
          },
          "metadata": {
            "needs_background": "light"
          },
          "output_type": "display_data"
        }
      ],
      "source": [
        "node_in, node_out, bond_type = mols.edge_list.t()\n",
        "edge_mask = (mols.atom_type[node_in] == td.CARBON) | \\\n",
        "            (mols.atom_type[node_out] == td.CARBON)\n",
        "mols = mols.edge_mask(edge_mask)\n",
        "mols.visualize()"
      ]
    },
    {
      "cell_type": "markdown",
      "metadata": {
        "id": "w0jChC1bYvlE"
      },
      "source": [
        "We can further extract each single connected component as a separate molecule. This operation is commonly used in fragment-based drug discovery."
      ]
    },
    {
      "cell_type": "code",
      "execution_count": 15,
      "metadata": {
        "colab": {
          "base_uri": "https://localhost:8080/",
          "height": 260
        },
        "id": "5D9DvaeBHwze",
        "outputId": "3b9dee76-fcb6-40c0-fe98-1a2d5993c368"
      },
      "outputs": [
        {
          "name": "stdout",
          "output_type": "stream",
          "text": [
            "tensor([5, 2], device='cuda:0')\n",
            "['CCSCCS', 'P', 'S', 'CO', 'CO', 'Nc1ccccc1', 'Nc1ccccc1']\n"
          ]
        },
        {
          "data": {
            "image/png": "[encoded data removed]",
            "text/plain": [
              "<Figure size 1512x216 with 7 Axes>"
            ]
          },
          "metadata": {
            "needs_background": "light"
          },
          "output_type": "display_data"
        }
      ],
      "source": [
        "mols, num_cc = mols.connected_components()\n",
        "mols.visualize(num_row=1)\n",
        "print(num_cc)\n",
        "print(mols.to_smiles())"
      ]
    },
    {
      "cell_type": "markdown",
      "metadata": {
        "id": "TmUZTC1-bwBp"
      },
      "source": [
        "We may also retrieve specific edges from a graph. A typical usage of this operation is to search a knowledge graph for answering some queries.\n",
        "\n",
        "Consider a query on Hetionet: *What are the symptoms that asthma presents?*"
      ]
    },
    {
      "cell_type": "code",
      "execution_count": 16,
      "metadata": {
        "id": "Hyq0UYNKbwjc"
      },
      "outputs": [],
      "source": [
        "asthma = hetionet.inv_entity_vocab[\"Disease::DOID:2841\"]\n",
        "presents = hetionet.inv_relation_vocab[\"DpS\"]\n",
        "any = -1"
      ]
    },
    {
      "cell_type": "markdown",
      "metadata": {
        "id": "CIIbzXdldRJ-"
      },
      "source": [
        "We can create a search pattern $<asthma, presents, ?>$, and search the knowledge graph with ``match()``."
      ]
    },
    {
      "cell_type": "code",
      "execution_count": 17,
      "metadata": {
        "colab": {
          "base_uri": "https://localhost:8080/"
        },
        "id": "DlH2fBoPR6eC",
        "outputId": "a47eeef8-f7fe-4ede-a011-968fbf7d7d47"
      },
      "outputs": [
        {
          "name": "stderr",
          "output_type": "stream",
          "text": [
            "/usr/local/lib/python3.7/dist-packages/torchdrug/data/graph.py:448: UserWarning: __floordiv__ is deprecated, and its behavior will change in a future version of pytorch. It currently rounds toward 0 (like the 'trunc' function NOT 'floor'). This results in incorrect rounding for negative values. To keep the current behavior, use torch.div(a, b, rounding_mode='trunc'), or for actual floor division, use torch.div(a, b, rounding_mode='floor').\n",
            "  scale = scale[-1] // scale\n"
          ]
        },
        {
          "name": "stdout",
          "output_type": "stream",
          "text": [
            "['Symptom::D012135',\n",
            " 'Symptom::D006935',\n",
            " 'Symptom::D012913',\n",
            " 'Symptom::D020078',\n",
            " 'Symptom::D055154',\n",
            " 'Symptom::D001049',\n",
            " 'Symptom::D016857',\n",
            " 'Symptom::D000472',\n",
            " 'Symptom::D012893',\n",
            " 'Symptom::D020181',\n",
            " 'Symptom::D001724',\n",
            " 'Symptom::D003490',\n",
            " 'Symptom::D012912',\n",
            " 'Symptom::D007040',\n",
            " 'Symptom::D014832',\n",
            " 'Symptom::D003371',\n",
            " 'Symptom::D002637',\n",
            " 'Symptom::D006685',\n",
            " 'Symptom::D014202',\n",
            " 'Symptom::D011602',\n",
            " 'Symptom::D004417',\n",
            " 'Symptom::D005311',\n",
            " 'Symptom::D006985',\n",
            " 'Symptom::D004418',\n",
            " 'Symptom::D000860',\n",
            " 'Symptom::D009058']\n"
          ]
        }
      ],
      "source": [
        "patterns = torch.tensor([[asthma, any, presents]])\n",
        "edge_index, num_match = kg.match(patterns)\n",
        "symptoms = kg.edge_list[edge_index, 1]\n",
        "from pprint import pprint\n",
        "pprint([hetionet.entity_vocab[s] for s in symptoms.tolist()])"
      ]
    },
    {
      "cell_type": "markdown",
      "metadata": {
        "id": "uMm5jEG0H7Ct"
      },
      "source": [
        "# Register Your Own Attributes"
      ]
    },
    {
      "cell_type": "markdown",
      "metadata": {
        "id": "DStgJjSTucNe"
      },
      "source": [
        "While the `Molecule` class comes with several chemical properties, we may also want to define our own properties. This only requires to wrap the attribute assignment lines with a context manager. The following example defines a custom node attribute to encode whether each node is connected to a carbon.\n",
        "\n",
        "We can use `mol.edge()` and `mol.graph()` for node- and graph-level attributes respectively.\n"
      ]
    },
    {
      "cell_type": "code",
      "execution_count": 18,
      "metadata": {
        "colab": {
          "base_uri": "https://localhost:8080/",
          "height": 525
        },
        "id": "YcgZX35AH-uR",
        "outputId": "754f069d-ce9d-48b2-dfdc-ce6f28de284f"
      },
      "outputs": [
        {
          "name": "stdout",
          "output_type": "stream",
          "text": [
            "C: True\n",
            "C: True\n",
            "C: True\n",
            "C: True\n",
            "C: True\n",
            "C: True\n",
            "C: True\n",
            "N: True\n",
            "O: False\n",
            "O: False\n",
            "N: True\n",
            "O: False\n",
            "O: False\n",
            "N: True\n",
            "O: False\n",
            "O: False\n"
          ]
        },
        {
          "data": {
            "image/png": "[encoded data removed]",
            "text/plain": [
              "<Figure size 216x216 with 1 Axes>"
            ]
          },
          "metadata": {
            "needs_background": "light"
          },
          "output_type": "display_data"
        }
      ],
      "source": [
        "from torch_scatter import scatter_add\n",
        "\n",
        "smiles = \"CC1=C(C=C(C=C1[N+](=O)[O-])[N+](=O)[O-])[N+](=O)[O-]\"\n",
        "mol = data.Molecule.from_smiles(smiles)\n",
        "node_in, node_out = mol.edge_list.t()[:2]\n",
        "attached_to_C = scatter_add(mol.atom_type[node_in] == td.CARBON, node_out, dim_size=mol.num_node)\n",
        "mol.visualize()\n",
        "with mol.node():\n",
        "    mol.attached_to_C = attached_to_C\n",
        "for atom, attach in zip(mol.atom_type.tolist(), mol.attached_to_C.tolist()):\n",
        "    print(\"%s: %s\" % (td.ATOM_SYMBOL[atom], attach))"
      ]
    },
    {
      "cell_type": "markdown",
      "metadata": {
        "id": "JVvwL4EswW3H"
      },
      "source": [
        "The custom attributes are preserved in all graph operations. This behaves similarly as masking operations on PyTorch tensors."
      ]
    },
    {
      "cell_type": "code",
      "execution_count": 19,
      "metadata": {
        "colab": {
          "base_uri": "https://localhost:8080/",
          "height": 403
        },
        "id": "_phlIQylIBmb",
        "outputId": "240a7a9f-cd76-4ae5-f3d8-7aa5d8f39aba"
      },
      "outputs": [
        {
          "name": "stdout",
          "output_type": "stream",
          "text": [
            "N: True\n",
            "O: False\n",
            "O: False\n",
            "N: True\n",
            "O: False\n",
            "O: False\n",
            "N: True\n",
            "O: False\n",
            "O: False\n"
          ]
        },
        {
          "data": {
            "image/png": "[encoded data removed]",
            "text/plain": [
              "<Figure size 216x216 with 1 Axes>"
            ]
          },
          "metadata": {
            "needs_background": "light"
          },
          "output_type": "display_data"
        }
      ],
      "source": [
        "mol = mol.subgraph(mol.atom_type != td.CARBON)\n",
        "mol.visualize()\n",
        "for atom, attach in zip(mol.atom_type.tolist(), mol.attached_to_C.tolist()):\n",
        "    print(\"%s: %s\" % (td.ATOM_SYMBOL[atom], attach))"
      ]
    },
    {
      "cell_type": "markdown",
      "metadata": {
        "id": "0yRyl3HqerLE"
      },
      "source": [
        "# A Molecule Classifier\n",
        "Now we demonstrate how to use TorchDrug to create a molecule classifier. Specifically, TorchDrug provides us with a large collection of popular datasets and models for drug discovery and graph representation learning. These help us avoid writing and debugging boilerplate code.\n",
        "\n",
        "For this tutorial, we use the ClinTox dataset. This dataset requires to predict whether a molecule is toxic in clinical trials, and whether it is approved by FDA."
      ]
    },
    {
      "cell_type": "markdown",
      "metadata": {
        "id": "G8zaVBVeevI0"
      },
      "source": [
        "### Load and Prepare Dataset Splits\n",
        "First of all, we load the dataset with TorchDrug. TorchDrug will automatically download the dataset into the path you specify.\n",
        "\n",
        "We then split the dataset into train, validation and test, with a ratio of 8:1:1."
      ]
    },
    {
      "cell_type": "code",
      "execution_count": 20,
      "metadata": {
        "colab": {
          "base_uri": "https://localhost:8080/"
        },
        "id": "dscqfQPUen-r",
        "outputId": "3f3fcf48-9b75-4a76-c247-7911e4244a40"
      },
      "outputs": [
        {
          "name": "stdout",
          "output_type": "stream",
          "text": [
            "14:31:59   Downloading http://deepchem.io.s3-website-us-west-1.amazonaws.com/datasets/clintox.csv.gz to /root/molecule-datasets/clintox.csv.gz\n",
            "14:31:59   Extracting /root/molecule-datasets/clintox.csv.gz to /root/molecule-datasets/clintox.csv\n"
          ]
        },
        {
          "name": "stderr",
          "output_type": "stream",
          "text": [
            "Loading /root/molecule-datasets/clintox.csv: 100%|██████████| 1485/1485 [00:00<00:00, 60420.83it/s]\n",
            "Constructing molecules from SMILES:   0%|          | 0/1484 [00:00<?, ?it/s]/usr/local/lib/python3.7/dist-packages/torchdrug/data/feature.py:37: UserWarning: Unknown value `*`\n",
            "  warnings.warn(\"Unknown value `%s`\" % x)\n",
            "/usr/local/lib/python3.7/dist-packages/torchdrug/data/feature.py:37: UserWarning: Unknown value `Tc`\n",
            "  warnings.warn(\"Unknown value `%s`\" % x)\n",
            "/usr/local/lib/python3.7/dist-packages/torchdrug/data/feature.py:37: UserWarning: Unknown value `Fe`\n",
            "  warnings.warn(\"Unknown value `%s`\" % x)\n",
            "/usr/local/lib/python3.7/dist-packages/torchdrug/data/feature.py:37: UserWarning: Unknown value `Al`\n",
            "  warnings.warn(\"Unknown value `%s`\" % x)\n",
            "Constructing molecules from SMILES:   7%|▋         | 102/1484 [00:00<00:02, 465.65it/s]/usr/local/lib/python3.7/dist-packages/torchdrug/data/feature.py:37: UserWarning: Unknown value `Ca`\n",
            "  warnings.warn(\"Unknown value `%s`\" % x)\n",
            "Constructing molecules from SMILES:  10%|█         | 149/1484 [00:00<00:03, 392.23it/s]/usr/local/lib/python3.7/dist-packages/torchdrug/data/feature.py:37: UserWarning: Unknown value `Pt`\n",
            "  warnings.warn(\"Unknown value `%s`\" % x)\n",
            "Constructing molecules from SMILES:  21%|██        | 310/1484 [00:00<00:03, 368.10it/s]/usr/local/lib/python3.7/dist-packages/torchdrug/data/feature.py:37: UserWarning: Unknown value `Bi`\n",
            "  warnings.warn(\"Unknown value `%s`\" % x)\n",
            "Constructing molecules from SMILES:  90%|█████████ | 1336/1484 [00:04<00:00, 267.56it/s]/usr/local/lib/python3.7/dist-packages/torchdrug/data/feature.py:37: UserWarning: Unknown value `Au`\n",
            "  warnings.warn(\"Unknown value `%s`\" % x)\n",
            "/usr/local/lib/python3.7/dist-packages/torchdrug/data/feature.py:37: UserWarning: Unknown value `Tl`\n",
            "  warnings.warn(\"Unknown value `%s`\" % x)\n",
            "/usr/local/lib/python3.7/dist-packages/torchdrug/data/feature.py:37: UserWarning: Unknown value `Cr`\n",
            "  warnings.warn(\"Unknown value `%s`\" % x)\n",
            "/usr/local/lib/python3.7/dist-packages/torchdrug/data/feature.py:37: UserWarning: Unknown value `Mn`\n",
            "  warnings.warn(\"Unknown value `%s`\" % x)\n",
            "Constructing molecules from SMILES:  95%|█████████▍| 1404/1484 [00:04<00:00, 299.73it/s]/usr/local/lib/python3.7/dist-packages/torchdrug/data/feature.py:37: UserWarning: Unknown value `Hg`\n",
            "  warnings.warn(\"Unknown value `%s`\" % x)\n",
            "Constructing molecules from SMILES:  99%|█████████▉| 1467/1484 [00:04<00:00, 301.92it/s]/usr/local/lib/python3.7/dist-packages/torchdrug/data/feature.py:37: UserWarning: Unknown value `As`\n",
            "  warnings.warn(\"Unknown value `%s`\" % x)\n",
            "/usr/local/lib/python3.7/dist-packages/torchdrug/data/feature.py:37: UserWarning: Unknown value `Ti`\n",
            "  warnings.warn(\"Unknown value `%s`\" % x)\n",
            "Constructing molecules from SMILES: 100%|██████████| 1484/1484 [00:05<00:00, 295.05it/s]\n"
          ]
        }
      ],
      "source": [
        "import torch\n",
        "from torch.nn import functional as F\n",
        "from torchdrug import datasets\n",
        "\n",
        "dataset = datasets.ClinTox(\"~/molecule-datasets/\")\n",
        "lengths = [int(0.8 * len(dataset)), int(0.1 * len(dataset))]\n",
        "lengths += [len(dataset) - sum(lengths)]\n",
        "train_set, valid_set, test_set = torch.utils.data.random_split(dataset, lengths)"
      ]
    },
    {
      "cell_type": "markdown",
      "metadata": {
        "id": "lAYZ3v_re2MF"
      },
      "source": [
        "### Define a Graph Neural Network for Classification\n",
        "We define a graph neural network to encode the molecule graphs. Specifically, we use the a Graph Isomorphism Network (GIN) with 4 hidden layers."
      ]
    },
    {
      "cell_type": "code",
      "execution_count": 21,
      "metadata": {
        "id": "83NljpvHe0dP"
      },
      "outputs": [],
      "source": [
        "from torchdrug import core, models, tasks\n",
        "\n",
        "model = models.GIN(input_dim=dataset.node_feature_dim,\n",
        "                   hidden_dims=[256, 256, 256, 256],\n",
        "                   short_cut=True, batch_norm=True, concat_hidden=True)"
      ]
    },
    {
      "cell_type": "markdown",
      "metadata": {
        "id": "bRVcbZIDe8c7"
      },
      "source": [
        "Note the model is simply a neural network without any training target. To adapt it for classification, we wrap it with a property prediction module. We define the classification task by the binary cross entropy (BCE) criterion."
      ]
    },
    {
      "cell_type": "code",
      "execution_count": 22,
      "metadata": {
        "id": "8UTDh6Hie7Kw"
      },
      "outputs": [],
      "source": [
        "task = tasks.PropertyPrediction(model, task=dataset.tasks,\n",
        "                                criterion=\"bce\", metric=(\"auprc\", \"auroc\"))"
      ]
    },
    {
      "cell_type": "markdown",
      "metadata": {
        "id": "TB3Yfd4VfAEP"
      },
      "source": [
        "### Train the Model\n",
        "We create an optimizer for the parameters in the task, and combine everything into `core.Engine`. The engine provides convenient routines for training and test.\n",
        "\n"
      ]
    },
    {
      "cell_type": "code",
      "execution_count": 23,
      "metadata": {
        "colab": {
          "base_uri": "https://localhost:8080/"
        },
        "id": "0uyrF8k1e-cH",
        "outputId": "a13595ee-60a7-408f-8b70-4bf37199041b"
      },
      "outputs": [
        {
          "name": "stdout",
          "output_type": "stream",
          "text": [
            "14:32:11   Preprocess training set\n",
            "14:32:11   >>>>>>>>>>>>>>>>>>>>>>>>>>>>>>\n",
            "14:32:11   Epoch 0 begin\n",
            "14:32:12   >>>>>>>>>>>>>>>>>>>>>>>>>>>>>>\n",
            "14:32:12   binary cross entropy: 0.874699\n",
            "14:32:12   >>>>>>>>>>>>>>>>>>>>>>>>>>>>>>\n",
            "14:32:12   Epoch 0 end\n",
            "14:32:12   duration: 0.45 secs\n",
            "14:32:12   speed: 4.43 batch / sec\n",
            "14:32:12   ETA: 44.69 secs\n",
            "14:32:12   max GPU memory: 727.2 MiB\n",
            "14:32:12   ------------------------------\n",
            "14:32:12   average binary cross entropy: 0.822475\n",
            "14:32:12   >>>>>>>>>>>>>>>>>>>>>>>>>>>>>>\n",
            "14:32:12   Epoch 1 begin\n",
            "14:32:12   >>>>>>>>>>>>>>>>>>>>>>>>>>>>>>\n",
            "14:32:12   Epoch 1 end\n",
            "14:32:12   duration: 0.33 secs\n",
            "14:32:12   speed: 6.10 batch / sec\n",
            "14:32:12   ETA: 38.19 secs\n",
            "14:32:12   max GPU memory: 730.9 MiB\n",
            "14:32:12   ------------------------------\n",
            "14:32:12   average binary cross entropy: 0.584501\n",
            "14:32:12   >>>>>>>>>>>>>>>>>>>>>>>>>>>>>>\n",
            "14:32:12   Epoch 2 begin\n",
            "14:32:12   >>>>>>>>>>>>>>>>>>>>>>>>>>>>>>\n",
            "14:32:12   Epoch 2 end\n",
            "14:32:12   duration: 0.33 secs\n",
            "14:32:12   speed: 6.11 batch / sec\n",
            "14:32:12   ETA: 35.79 secs\n",
            "14:32:12   max GPU memory: 729.3 MiB\n",
            "14:32:12   ------------------------------\n",
            "14:32:12   average binary cross entropy: 0.481799\n",
            "14:32:12   >>>>>>>>>>>>>>>>>>>>>>>>>>>>>>\n",
            "14:32:12   Epoch 3 begin\n",
            "14:32:13   >>>>>>>>>>>>>>>>>>>>>>>>>>>>>>\n",
            "14:32:13   Epoch 3 end\n",
            "14:32:13   duration: 0.32 secs\n",
            "14:32:13   speed: 6.27 batch / sec\n",
            "14:32:13   ETA: 34.22 secs\n",
            "14:32:13   max GPU memory: 727.7 MiB\n",
            "14:32:13   ------------------------------\n",
            "14:32:13   average binary cross entropy: 0.400576\n",
            "14:32:13   >>>>>>>>>>>>>>>>>>>>>>>>>>>>>>\n",
            "14:32:13   Epoch 4 begin\n",
            "14:32:13   >>>>>>>>>>>>>>>>>>>>>>>>>>>>>>\n",
            "14:32:13   Epoch 4 end\n",
            "14:32:13   duration: 0.30 secs\n",
            "14:32:13   speed: 6.69 batch / sec\n",
            "14:32:13   ETA: 32.78 secs\n",
            "14:32:13   max GPU memory: 721.1 MiB\n",
            "14:32:13   ------------------------------\n",
            "14:32:13   average binary cross entropy: 0.455432\n",
            "14:32:13   >>>>>>>>>>>>>>>>>>>>>>>>>>>>>>\n",
            "14:32:13   Epoch 5 begin\n",
            "14:32:13   >>>>>>>>>>>>>>>>>>>>>>>>>>>>>>\n",
            "14:32:13   Epoch 5 end\n",
            "14:32:13   duration: 0.29 secs\n",
            "14:32:13   speed: 6.79 batch / sec\n",
            "14:32:13   ETA: 31.64 secs\n",
            "14:32:13   max GPU memory: 721.1 MiB\n",
            "14:32:13   ------------------------------\n",
            "14:32:13   average binary cross entropy: 0.44135\n",
            "14:32:13   >>>>>>>>>>>>>>>>>>>>>>>>>>>>>>\n",
            "14:32:13   Epoch 6 begin\n",
            "14:32:14   >>>>>>>>>>>>>>>>>>>>>>>>>>>>>>\n",
            "14:32:14   Epoch 6 end\n",
            "14:32:14   duration: 0.29 secs\n",
            "14:32:14   speed: 6.86 batch / sec\n",
            "14:32:14   ETA: 30.70 secs\n",
            "14:32:14   max GPU memory: 726.6 MiB\n",
            "14:32:14   ------------------------------\n",
            "14:32:14   average binary cross entropy: 0.352714\n",
            "14:32:14   >>>>>>>>>>>>>>>>>>>>>>>>>>>>>>\n",
            "14:32:14   Epoch 7 begin\n",
            "14:32:14   >>>>>>>>>>>>>>>>>>>>>>>>>>>>>>\n",
            "14:32:14   Epoch 7 end\n",
            "14:32:14   duration: 0.30 secs\n",
            "14:32:14   speed: 6.76 batch / sec\n",
            "14:32:14   ETA: 29.98 secs\n",
            "14:32:14   max GPU memory: 734.2 MiB\n",
            "14:32:14   ------------------------------\n",
            "14:32:14   average binary cross entropy: 0.407702\n",
            "14:32:14   >>>>>>>>>>>>>>>>>>>>>>>>>>>>>>\n",
            "14:32:14   Epoch 8 begin\n",
            "14:32:14   >>>>>>>>>>>>>>>>>>>>>>>>>>>>>>\n",
            "14:32:14   Epoch 8 end\n",
            "14:32:14   duration: 0.30 secs\n",
            "14:32:14   speed: 6.58 batch / sec\n",
            "14:32:14   ETA: 29.43 secs\n",
            "14:32:14   max GPU memory: 735.5 MiB\n",
            "14:32:14   ------------------------------\n",
            "14:32:14   average binary cross entropy: 0.33668\n",
            "14:32:14   >>>>>>>>>>>>>>>>>>>>>>>>>>>>>>\n",
            "14:32:14   Epoch 9 begin\n",
            "14:32:14   >>>>>>>>>>>>>>>>>>>>>>>>>>>>>>\n",
            "14:32:14   Epoch 9 end\n",
            "14:32:14   duration: 0.30 secs\n",
            "14:32:14   speed: 6.66 batch / sec\n",
            "14:32:14   ETA: 28.90 secs\n",
            "14:32:14   max GPU memory: 729.8 MiB\n",
            "14:32:14   ------------------------------\n",
            "14:32:14   average binary cross entropy: 0.304543\n",
            "14:32:14   >>>>>>>>>>>>>>>>>>>>>>>>>>>>>>\n",
            "14:32:14   Epoch 10 begin\n",
            "14:32:15   >>>>>>>>>>>>>>>>>>>>>>>>>>>>>>\n",
            "14:32:15   Epoch 10 end\n",
            "14:32:15   duration: 0.28 secs\n",
            "14:32:15   speed: 7.12 batch / sec\n",
            "14:32:15   ETA: 28.25 secs\n",
            "14:32:15   max GPU memory: 719.8 MiB\n",
            "14:32:15   ------------------------------\n",
            "14:32:15   average binary cross entropy: 0.290439\n",
            "14:32:15   >>>>>>>>>>>>>>>>>>>>>>>>>>>>>>\n",
            "14:32:15   Epoch 11 begin\n",
            "14:32:15   >>>>>>>>>>>>>>>>>>>>>>>>>>>>>>\n",
            "14:32:15   Epoch 11 end\n",
            "14:32:15   duration: 0.29 secs\n",
            "14:32:15   speed: 6.81 batch / sec\n",
            "14:32:15   ETA: 27.76 secs\n",
            "14:32:15   max GPU memory: 729.8 MiB\n",
            "14:32:15   ------------------------------\n",
            "14:32:15   average binary cross entropy: 0.314075\n",
            "14:32:15   >>>>>>>>>>>>>>>>>>>>>>>>>>>>>>\n",
            "14:32:15   Epoch 12 begin\n",
            "14:32:15   >>>>>>>>>>>>>>>>>>>>>>>>>>>>>>\n",
            "14:32:15   Epoch 12 end\n",
            "14:32:15   duration: 0.30 secs\n",
            "14:32:15   speed: 6.67 batch / sec\n",
            "14:32:15   ETA: 27.34 secs\n",
            "14:32:15   max GPU memory: 724.6 MiB\n",
            "14:32:15   ------------------------------\n",
            "14:32:15   average binary cross entropy: 0.263732\n",
            "14:32:15   >>>>>>>>>>>>>>>>>>>>>>>>>>>>>>\n",
            "14:32:15   Epoch 13 begin\n",
            "14:32:16   >>>>>>>>>>>>>>>>>>>>>>>>>>>>>>\n",
            "14:32:16   Epoch 13 end\n",
            "14:32:16   duration: 0.28 secs\n",
            "14:32:16   speed: 7.19 batch / sec\n",
            "14:32:16   ETA: 26.80 secs\n",
            "14:32:16   max GPU memory: 731.7 MiB\n",
            "14:32:16   ------------------------------\n",
            "14:32:16   average binary cross entropy: 0.260713\n",
            "14:32:16   >>>>>>>>>>>>>>>>>>>>>>>>>>>>>>\n",
            "14:32:16   Epoch 14 begin\n",
            "14:32:16   >>>>>>>>>>>>>>>>>>>>>>>>>>>>>>\n",
            "14:32:16   Epoch 14 end\n",
            "14:32:16   duration: 0.30 secs\n",
            "14:32:16   speed: 6.61 batch / sec\n",
            "14:32:16   ETA: 26.44 secs\n",
            "14:32:16   max GPU memory: 730.7 MiB\n",
            "14:32:16   ------------------------------\n",
            "14:32:16   average binary cross entropy: 0.210176\n",
            "14:32:16   >>>>>>>>>>>>>>>>>>>>>>>>>>>>>>\n",
            "14:32:16   Epoch 15 begin\n",
            "14:32:16   >>>>>>>>>>>>>>>>>>>>>>>>>>>>>>\n",
            "14:32:16   Epoch 15 end\n",
            "14:32:16   duration: 0.28 secs\n",
            "14:32:16   speed: 7.10 batch / sec\n",
            "14:32:16   ETA: 25.98 secs\n",
            "14:32:16   max GPU memory: 720.2 MiB\n",
            "14:32:16   ------------------------------\n",
            "14:32:16   average binary cross entropy: 0.352337\n",
            "14:32:16   >>>>>>>>>>>>>>>>>>>>>>>>>>>>>>\n",
            "14:32:16   Epoch 16 begin\n",
            "14:32:17   >>>>>>>>>>>>>>>>>>>>>>>>>>>>>>\n",
            "14:32:17   Epoch 16 end\n",
            "14:32:17   duration: 0.29 secs\n",
            "14:32:17   speed: 6.82 batch / sec\n",
            "14:32:17   ETA: 25.59 secs\n",
            "14:32:17   max GPU memory: 734.0 MiB\n",
            "14:32:17   ------------------------------\n",
            "14:32:17   average binary cross entropy: 0.247297\n",
            "14:32:17   >>>>>>>>>>>>>>>>>>>>>>>>>>>>>>\n",
            "14:32:17   Epoch 17 begin\n",
            "14:32:17   >>>>>>>>>>>>>>>>>>>>>>>>>>>>>>\n",
            "14:32:17   Epoch 17 end\n",
            "14:32:17   duration: 0.29 secs\n",
            "14:32:17   speed: 6.90 batch / sec\n",
            "14:32:17   ETA: 25.20 secs\n",
            "14:32:17   max GPU memory: 734.1 MiB\n",
            "14:32:17   ------------------------------\n",
            "14:32:17   average binary cross entropy: 0.259807\n",
            "14:32:17   >>>>>>>>>>>>>>>>>>>>>>>>>>>>>>\n",
            "14:32:17   Epoch 18 begin\n",
            "14:32:17   >>>>>>>>>>>>>>>>>>>>>>>>>>>>>>\n",
            "14:32:17   Epoch 18 end\n",
            "14:32:17   duration: 0.29 secs\n",
            "14:32:17   speed: 6.98 batch / sec\n",
            "14:32:17   ETA: 24.80 secs\n",
            "14:32:17   max GPU memory: 736.3 MiB\n",
            "14:32:17   ------------------------------\n",
            "14:32:17   average binary cross entropy: 0.225131\n",
            "14:32:17   >>>>>>>>>>>>>>>>>>>>>>>>>>>>>>\n",
            "14:32:17   Epoch 19 begin\n",
            "14:32:17   >>>>>>>>>>>>>>>>>>>>>>>>>>>>>>\n",
            "14:32:17   Epoch 19 end\n",
            "14:32:17   duration: 0.28 secs\n",
            "14:32:17   speed: 7.04 batch / sec\n",
            "14:32:17   ETA: 24.41 secs\n",
            "14:32:17   max GPU memory: 725.0 MiB\n",
            "14:32:17   ------------------------------\n",
            "14:32:17   average binary cross entropy: 0.285367\n",
            "14:32:17   >>>>>>>>>>>>>>>>>>>>>>>>>>>>>>\n",
            "14:32:17   Epoch 20 begin\n",
            "14:32:18   >>>>>>>>>>>>>>>>>>>>>>>>>>>>>>\n",
            "14:32:18   Epoch 20 end\n",
            "14:32:18   duration: 0.28 secs\n",
            "14:32:18   speed: 7.02 batch / sec\n",
            "14:32:18   ETA: 24.03 secs\n",
            "14:32:18   max GPU memory: 721.0 MiB\n",
            "14:32:18   ------------------------------\n",
            "14:32:18   average binary cross entropy: 0.257683\n",
            "14:32:18   >>>>>>>>>>>>>>>>>>>>>>>>>>>>>>\n",
            "14:32:18   Epoch 21 begin\n",
            "14:32:18   >>>>>>>>>>>>>>>>>>>>>>>>>>>>>>\n",
            "14:32:18   Epoch 21 end\n",
            "14:32:18   duration: 0.29 secs\n",
            "14:32:18   speed: 6.86 batch / sec\n",
            "14:32:18   ETA: 23.68 secs\n",
            "14:32:18   max GPU memory: 729.3 MiB\n",
            "14:32:18   ------------------------------\n",
            "14:32:18   average binary cross entropy: 0.199824\n",
            "14:32:18   >>>>>>>>>>>>>>>>>>>>>>>>>>>>>>\n",
            "14:32:18   Epoch 22 begin\n",
            "14:32:18   >>>>>>>>>>>>>>>>>>>>>>>>>>>>>>\n",
            "14:32:18   Epoch 22 end\n",
            "14:32:18   duration: 0.28 secs\n",
            "14:32:18   speed: 7.16 batch / sec\n",
            "14:32:18   ETA: 23.29 secs\n",
            "14:32:18   max GPU memory: 723.3 MiB\n",
            "14:32:18   ------------------------------\n",
            "14:32:18   average binary cross entropy: 0.19996\n",
            "14:32:18   >>>>>>>>>>>>>>>>>>>>>>>>>>>>>>\n",
            "14:32:18   Epoch 23 begin\n",
            "14:32:19   >>>>>>>>>>>>>>>>>>>>>>>>>>>>>>\n",
            "14:32:19   Epoch 23 end\n",
            "14:32:19   duration: 0.28 secs\n",
            "14:32:19   speed: 7.09 batch / sec\n",
            "14:32:19   ETA: 22.92 secs\n",
            "14:32:19   max GPU memory: 727.3 MiB\n",
            "14:32:19   ------------------------------\n",
            "14:32:19   average binary cross entropy: 0.237466\n",
            "14:32:19   >>>>>>>>>>>>>>>>>>>>>>>>>>>>>>\n",
            "14:32:19   Epoch 24 begin\n",
            "14:32:19   >>>>>>>>>>>>>>>>>>>>>>>>>>>>>>\n",
            "14:32:19   Epoch 24 end\n",
            "14:32:19   duration: 0.30 secs\n",
            "14:32:19   speed: 6.70 batch / sec\n",
            "14:32:19   ETA: 22.61 secs\n",
            "14:32:19   max GPU memory: 719.9 MiB\n",
            "14:32:19   ------------------------------\n",
            "14:32:19   average binary cross entropy: 0.212049\n",
            "14:32:19   >>>>>>>>>>>>>>>>>>>>>>>>>>>>>>\n",
            "14:32:19   Epoch 25 begin\n",
            "14:32:19   >>>>>>>>>>>>>>>>>>>>>>>>>>>>>>\n",
            "14:32:19   Epoch 25 end\n",
            "14:32:19   duration: 0.28 secs\n",
            "14:32:19   speed: 7.04 batch / sec\n",
            "14:32:19   ETA: 22.26 secs\n",
            "14:32:19   max GPU memory: 733.4 MiB\n",
            "14:32:19   ------------------------------\n",
            "14:32:19   average binary cross entropy: 0.19188\n",
            "14:32:19   >>>>>>>>>>>>>>>>>>>>>>>>>>>>>>\n",
            "14:32:19   Epoch 26 begin\n",
            "14:32:19   >>>>>>>>>>>>>>>>>>>>>>>>>>>>>>\n",
            "14:32:19   Epoch 26 end\n",
            "14:32:19   duration: 0.30 secs\n",
            "14:32:19   speed: 6.65 batch / sec\n",
            "14:32:19   ETA: 21.96 secs\n",
            "14:32:19   max GPU memory: 733.2 MiB\n",
            "14:32:19   ------------------------------\n",
            "14:32:19   average binary cross entropy: 0.196161\n",
            "14:32:19   >>>>>>>>>>>>>>>>>>>>>>>>>>>>>>\n",
            "14:32:19   Epoch 27 begin\n",
            "14:32:20   >>>>>>>>>>>>>>>>>>>>>>>>>>>>>>\n",
            "14:32:20   Epoch 27 end\n",
            "14:32:20   duration: 0.29 secs\n",
            "14:32:20   speed: 6.98 batch / sec\n",
            "14:32:20   ETA: 21.62 secs\n",
            "14:32:20   max GPU memory: 727.9 MiB\n",
            "14:32:20   ------------------------------\n",
            "14:32:20   average binary cross entropy: 0.186056\n",
            "14:32:20   >>>>>>>>>>>>>>>>>>>>>>>>>>>>>>\n",
            "14:32:20   Epoch 28 begin\n",
            "14:32:20   >>>>>>>>>>>>>>>>>>>>>>>>>>>>>>\n",
            "14:32:20   Epoch 28 end\n",
            "14:32:20   duration: 0.28 secs\n",
            "14:32:20   speed: 7.08 batch / sec\n",
            "14:32:20   ETA: 21.28 secs\n",
            "14:32:20   max GPU memory: 750.9 MiB\n",
            "14:32:20   ------------------------------\n",
            "14:32:20   average binary cross entropy: 0.250295\n",
            "14:32:20   >>>>>>>>>>>>>>>>>>>>>>>>>>>>>>\n",
            "14:32:20   Epoch 29 begin\n",
            "14:32:20   >>>>>>>>>>>>>>>>>>>>>>>>>>>>>>\n",
            "14:32:20   Epoch 29 end\n",
            "14:32:20   duration: 0.29 secs\n",
            "14:32:20   speed: 6.87 batch / sec\n",
            "14:32:20   ETA: 20.96 secs\n",
            "14:32:20   max GPU memory: 731.4 MiB\n",
            "14:32:20   ------------------------------\n",
            "14:32:20   average binary cross entropy: 0.195484\n",
            "14:32:20   >>>>>>>>>>>>>>>>>>>>>>>>>>>>>>\n",
            "14:32:20   Epoch 30 begin\n",
            "14:32:21   >>>>>>>>>>>>>>>>>>>>>>>>>>>>>>\n",
            "14:32:21   Epoch 30 end\n",
            "14:32:21   duration: 0.29 secs\n",
            "14:32:21   speed: 6.97 batch / sec\n",
            "14:32:21   ETA: 20.63 secs\n",
            "14:32:21   max GPU memory: 733.5 MiB\n",
            "14:32:21   ------------------------------\n",
            "14:32:21   average binary cross entropy: 0.245045\n",
            "14:32:21   >>>>>>>>>>>>>>>>>>>>>>>>>>>>>>\n",
            "14:32:21   Epoch 31 begin\n",
            "14:32:21   >>>>>>>>>>>>>>>>>>>>>>>>>>>>>>\n",
            "14:32:21   Epoch 31 end\n",
            "14:32:21   duration: 0.29 secs\n",
            "14:32:21   speed: 6.97 batch / sec\n",
            "14:32:21   ETA: 20.31 secs\n",
            "14:32:21   max GPU memory: 725.7 MiB\n",
            "14:32:21   ------------------------------\n",
            "14:32:21   average binary cross entropy: 0.170073\n",
            "14:32:21   >>>>>>>>>>>>>>>>>>>>>>>>>>>>>>\n",
            "14:32:21   Epoch 32 begin\n",
            "14:32:21   >>>>>>>>>>>>>>>>>>>>>>>>>>>>>>\n",
            "14:32:21   Epoch 32 end\n",
            "14:32:21   duration: 0.29 secs\n",
            "14:32:21   speed: 6.91 batch / sec\n",
            "14:32:21   ETA: 19.99 secs\n",
            "14:32:21   max GPU memory: 729.5 MiB\n",
            "14:32:21   ------------------------------\n",
            "14:32:21   average binary cross entropy: 0.172179\n",
            "14:32:21   >>>>>>>>>>>>>>>>>>>>>>>>>>>>>>\n",
            "14:32:21   Epoch 33 begin\n",
            "14:32:21   >>>>>>>>>>>>>>>>>>>>>>>>>>>>>>\n",
            "14:32:21   Epoch 33 end\n",
            "14:32:21   duration: 0.29 secs\n",
            "14:32:21   speed: 6.84 batch / sec\n",
            "14:32:21   ETA: 19.68 secs\n",
            "14:32:21   max GPU memory: 729.6 MiB\n",
            "14:32:21   ------------------------------\n",
            "14:32:21   average binary cross entropy: 0.17948\n",
            "14:32:21   >>>>>>>>>>>>>>>>>>>>>>>>>>>>>>\n",
            "14:32:21   Epoch 34 begin\n",
            "14:32:22   >>>>>>>>>>>>>>>>>>>>>>>>>>>>>>\n",
            "14:32:22   Epoch 34 end\n",
            "14:32:22   duration: 0.29 secs\n",
            "14:32:22   speed: 6.90 batch / sec\n",
            "14:32:22   ETA: 19.37 secs\n",
            "14:32:22   max GPU memory: 732.7 MiB\n",
            "14:32:22   ------------------------------\n",
            "14:32:22   average binary cross entropy: 0.171328\n",
            "14:32:22   >>>>>>>>>>>>>>>>>>>>>>>>>>>>>>\n",
            "14:32:22   Epoch 35 begin\n",
            "14:32:22   >>>>>>>>>>>>>>>>>>>>>>>>>>>>>>\n",
            "14:32:22   Epoch 35 end\n",
            "14:32:22   duration: 0.28 secs\n",
            "14:32:22   speed: 7.11 batch / sec\n",
            "14:32:22   ETA: 19.04 secs\n",
            "14:32:22   max GPU memory: 731.7 MiB\n",
            "14:32:22   ------------------------------\n",
            "14:32:22   average binary cross entropy: 0.205323\n",
            "14:32:22   >>>>>>>>>>>>>>>>>>>>>>>>>>>>>>\n",
            "14:32:22   Epoch 36 begin\n",
            "14:32:22   >>>>>>>>>>>>>>>>>>>>>>>>>>>>>>\n",
            "14:32:22   Epoch 36 end\n",
            "14:32:22   duration: 0.30 secs\n",
            "14:32:22   speed: 6.59 batch / sec\n",
            "14:32:22   ETA: 18.75 secs\n",
            "14:32:22   max GPU memory: 730.6 MiB\n",
            "14:32:22   ------------------------------\n",
            "14:32:22   average binary cross entropy: 0.181569\n",
            "14:32:22   >>>>>>>>>>>>>>>>>>>>>>>>>>>>>>\n",
            "14:32:22   Epoch 37 begin\n",
            "14:32:23   >>>>>>>>>>>>>>>>>>>>>>>>>>>>>>\n",
            "14:32:23   Epoch 37 end\n",
            "14:32:23   duration: 0.29 secs\n",
            "14:32:23   speed: 6.95 batch / sec\n",
            "14:32:23   ETA: 18.44 secs\n",
            "14:32:23   max GPU memory: 732.3 MiB\n",
            "14:32:23   ------------------------------\n",
            "14:32:23   average binary cross entropy: 0.160775\n",
            "14:32:23   >>>>>>>>>>>>>>>>>>>>>>>>>>>>>>\n",
            "14:32:23   Epoch 38 begin\n",
            "14:32:23   >>>>>>>>>>>>>>>>>>>>>>>>>>>>>>\n",
            "14:32:23   Epoch 38 end\n",
            "14:32:23   duration: 0.30 secs\n",
            "14:32:23   speed: 6.75 batch / sec\n",
            "14:32:23   ETA: 18.14 secs\n",
            "14:32:23   max GPU memory: 723.4 MiB\n",
            "14:32:23   ------------------------------\n",
            "14:32:23   average binary cross entropy: 0.171569\n",
            "14:32:23   >>>>>>>>>>>>>>>>>>>>>>>>>>>>>>\n",
            "14:32:23   Epoch 39 begin\n",
            "14:32:23   >>>>>>>>>>>>>>>>>>>>>>>>>>>>>>\n",
            "14:32:23   Epoch 39 end\n",
            "14:32:23   duration: 0.29 secs\n",
            "14:32:23   speed: 6.81 batch / sec\n",
            "14:32:23   ETA: 17.84 secs\n",
            "14:32:23   max GPU memory: 729.7 MiB\n",
            "14:32:23   ------------------------------\n",
            "14:32:23   average binary cross entropy: 0.175048\n",
            "14:32:23   >>>>>>>>>>>>>>>>>>>>>>>>>>>>>>\n",
            "14:32:23   Epoch 40 begin\n",
            "14:32:23   >>>>>>>>>>>>>>>>>>>>>>>>>>>>>>\n",
            "14:32:23   Epoch 40 end\n",
            "14:32:23   duration: 0.29 secs\n",
            "14:32:23   speed: 6.83 batch / sec\n",
            "14:32:23   ETA: 17.53 secs\n",
            "14:32:23   max GPU memory: 730.8 MiB\n",
            "14:32:23   ------------------------------\n",
            "14:32:23   average binary cross entropy: 0.185757\n",
            "14:32:23   >>>>>>>>>>>>>>>>>>>>>>>>>>>>>>\n",
            "14:32:23   Epoch 41 begin\n",
            "14:32:24   >>>>>>>>>>>>>>>>>>>>>>>>>>>>>>\n",
            "14:32:24   Epoch 41 end\n",
            "14:32:24   duration: 0.31 secs\n",
            "14:32:24   speed: 6.53 batch / sec\n",
            "14:32:24   ETA: 17.25 secs\n",
            "14:32:24   max GPU memory: 735.7 MiB\n",
            "14:32:24   ------------------------------\n",
            "14:32:24   average binary cross entropy: 0.18327\n",
            "14:32:24   >>>>>>>>>>>>>>>>>>>>>>>>>>>>>>\n",
            "14:32:24   Epoch 42 begin\n",
            "14:32:24   >>>>>>>>>>>>>>>>>>>>>>>>>>>>>>\n",
            "14:32:24   Epoch 42 end\n",
            "14:32:24   duration: 0.29 secs\n",
            "14:32:24   speed: 6.92 batch / sec\n",
            "14:32:24   ETA: 16.94 secs\n",
            "14:32:24   max GPU memory: 733.7 MiB\n",
            "14:32:24   ------------------------------\n",
            "14:32:24   average binary cross entropy: 0.143654\n",
            "14:32:24   >>>>>>>>>>>>>>>>>>>>>>>>>>>>>>\n",
            "14:32:24   Epoch 43 begin\n",
            "14:32:24   >>>>>>>>>>>>>>>>>>>>>>>>>>>>>>\n",
            "14:32:24   Epoch 43 end\n",
            "14:32:24   duration: 0.29 secs\n",
            "14:32:24   speed: 6.93 batch / sec\n",
            "14:32:24   ETA: 16.63 secs\n",
            "14:32:24   max GPU memory: 724.4 MiB\n",
            "14:32:24   ------------------------------\n",
            "14:32:24   average binary cross entropy: 0.186547\n",
            "14:32:24   >>>>>>>>>>>>>>>>>>>>>>>>>>>>>>\n",
            "14:32:24   Epoch 44 begin\n",
            "14:32:25   >>>>>>>>>>>>>>>>>>>>>>>>>>>>>>\n",
            "14:32:25   Epoch 44 end\n",
            "14:32:25   duration: 0.30 secs\n",
            "14:32:25   speed: 6.74 batch / sec\n",
            "14:32:25   ETA: 16.33 secs\n",
            "14:32:25   max GPU memory: 731.1 MiB\n",
            "14:32:25   ------------------------------\n",
            "14:32:25   average binary cross entropy: 0.164279\n",
            "14:32:25   >>>>>>>>>>>>>>>>>>>>>>>>>>>>>>\n",
            "14:32:25   Epoch 45 begin\n",
            "14:32:25   >>>>>>>>>>>>>>>>>>>>>>>>>>>>>>\n",
            "14:32:25   Epoch 45 end\n",
            "14:32:25   duration: 0.30 secs\n",
            "14:32:25   speed: 6.57 batch / sec\n",
            "14:32:25   ETA: 16.05 secs\n",
            "14:32:25   max GPU memory: 726.0 MiB\n",
            "14:32:25   ------------------------------\n",
            "14:32:25   average binary cross entropy: 0.152386\n",
            "14:32:25   >>>>>>>>>>>>>>>>>>>>>>>>>>>>>>\n",
            "14:32:25   Epoch 46 begin\n",
            "14:32:25   >>>>>>>>>>>>>>>>>>>>>>>>>>>>>>\n",
            "14:32:25   Epoch 46 end\n",
            "14:32:25   duration: 0.29 secs\n",
            "14:32:25   speed: 7.01 batch / sec\n",
            "14:32:25   ETA: 15.74 secs\n",
            "14:32:25   max GPU memory: 726.0 MiB\n",
            "14:32:25   ------------------------------\n",
            "14:32:25   average binary cross entropy: 0.162947\n",
            "14:32:25   >>>>>>>>>>>>>>>>>>>>>>>>>>>>>>\n",
            "14:32:25   Epoch 47 begin\n",
            "14:32:26   >>>>>>>>>>>>>>>>>>>>>>>>>>>>>>\n",
            "14:32:26   Epoch 47 end\n",
            "14:32:26   duration: 0.30 secs\n",
            "14:32:26   speed: 6.67 batch / sec\n",
            "14:32:26   ETA: 15.44 secs\n",
            "14:32:26   max GPU memory: 729.5 MiB\n",
            "14:32:26   ------------------------------\n",
            "14:32:26   average binary cross entropy: 0.139867\n",
            "14:32:26   >>>>>>>>>>>>>>>>>>>>>>>>>>>>>>\n",
            "14:32:26   Epoch 48 begin\n",
            "14:32:26   >>>>>>>>>>>>>>>>>>>>>>>>>>>>>>\n",
            "14:32:26   Epoch 48 end\n",
            "14:32:26   duration: 0.30 secs\n",
            "14:32:26   speed: 6.61 batch / sec\n",
            "14:32:26   ETA: 15.15 secs\n",
            "14:32:26   max GPU memory: 727.9 MiB\n",
            "14:32:26   ------------------------------\n",
            "14:32:26   average binary cross entropy: 0.156798\n",
            "14:32:26   >>>>>>>>>>>>>>>>>>>>>>>>>>>>>>\n",
            "14:32:26   Epoch 49 begin\n",
            "14:32:26   >>>>>>>>>>>>>>>>>>>>>>>>>>>>>>\n",
            "14:32:26   Epoch 49 end\n",
            "14:32:26   duration: 0.30 secs\n",
            "14:32:26   speed: 6.75 batch / sec\n",
            "14:32:26   ETA: 14.85 secs\n",
            "14:32:26   max GPU memory: 732.7 MiB\n",
            "14:32:26   ------------------------------\n",
            "14:32:26   average binary cross entropy: 0.156416\n",
            "14:32:26   >>>>>>>>>>>>>>>>>>>>>>>>>>>>>>\n",
            "14:32:26   Epoch 50 begin\n",
            "14:32:26   >>>>>>>>>>>>>>>>>>>>>>>>>>>>>>\n",
            "14:32:26   binary cross entropy: 0.142982\n",
            "14:32:26   >>>>>>>>>>>>>>>>>>>>>>>>>>>>>>\n",
            "14:32:26   Epoch 50 end\n",
            "14:32:26   duration: 0.29 secs\n",
            "14:32:26   speed: 6.79 batch / sec\n",
            "14:32:26   ETA: 14.55 secs\n",
            "14:32:26   max GPU memory: 732.0 MiB\n",
            "14:32:26   ------------------------------\n",
            "14:32:26   average binary cross entropy: 0.149552\n",
            "14:32:26   >>>>>>>>>>>>>>>>>>>>>>>>>>>>>>\n",
            "14:32:26   Epoch 51 begin\n",
            "14:32:27   >>>>>>>>>>>>>>>>>>>>>>>>>>>>>>\n",
            "14:32:27   Epoch 51 end\n",
            "14:32:27   duration: 0.29 secs\n",
            "14:32:27   speed: 6.93 batch / sec\n",
            "14:32:27   ETA: 14.25 secs\n",
            "14:32:27   max GPU memory: 731.9 MiB\n",
            "14:32:27   ------------------------------\n",
            "14:32:27   average binary cross entropy: 0.154873\n",
            "14:32:27   >>>>>>>>>>>>>>>>>>>>>>>>>>>>>>\n",
            "14:32:27   Epoch 52 begin\n",
            "14:32:27   >>>>>>>>>>>>>>>>>>>>>>>>>>>>>>\n",
            "14:32:27   Epoch 52 end\n",
            "14:32:27   duration: 0.31 secs\n",
            "14:32:27   speed: 6.50 batch / sec\n",
            "14:32:27   ETA: 13.96 secs\n",
            "14:32:27   max GPU memory: 726.6 MiB\n",
            "14:32:27   ------------------------------\n",
            "14:32:27   average binary cross entropy: 0.136849\n",
            "14:32:27   >>>>>>>>>>>>>>>>>>>>>>>>>>>>>>\n",
            "14:32:27   Epoch 53 begin\n",
            "14:32:27   >>>>>>>>>>>>>>>>>>>>>>>>>>>>>>\n",
            "14:32:27   Epoch 53 end\n",
            "14:32:27   duration: 0.31 secs\n",
            "14:32:27   speed: 6.45 batch / sec\n",
            "14:32:27   ETA: 13.68 secs\n",
            "14:32:27   max GPU memory: 731.8 MiB\n",
            "14:32:27   ------------------------------\n",
            "14:32:27   average binary cross entropy: 0.195319\n",
            "14:32:27   >>>>>>>>>>>>>>>>>>>>>>>>>>>>>>\n",
            "14:32:27   Epoch 54 begin\n",
            "14:32:28   >>>>>>>>>>>>>>>>>>>>>>>>>>>>>>\n",
            "14:32:28   Epoch 54 end\n",
            "14:32:28   duration: 0.30 secs\n",
            "14:32:28   speed: 6.56 batch / sec\n",
            "14:32:28   ETA: 13.38 secs\n",
            "14:32:28   max GPU memory: 727.7 MiB\n",
            "14:32:28   ------------------------------\n",
            "14:32:28   average binary cross entropy: 0.189969\n",
            "14:32:28   >>>>>>>>>>>>>>>>>>>>>>>>>>>>>>\n",
            "14:32:28   Epoch 55 begin\n",
            "14:32:28   >>>>>>>>>>>>>>>>>>>>>>>>>>>>>>\n",
            "14:32:28   Epoch 55 end\n",
            "14:32:28   duration: 0.31 secs\n",
            "14:32:28   speed: 6.45 batch / sec\n",
            "14:32:28   ETA: 13.10 secs\n",
            "14:32:28   max GPU memory: 729.3 MiB\n",
            "14:32:28   ------------------------------\n",
            "14:32:28   average binary cross entropy: 0.124239\n",
            "14:32:28   >>>>>>>>>>>>>>>>>>>>>>>>>>>>>>\n",
            "14:32:28   Epoch 56 begin\n",
            "14:32:28   >>>>>>>>>>>>>>>>>>>>>>>>>>>>>>\n",
            "14:32:28   Epoch 56 end\n",
            "14:32:28   duration: 0.29 secs\n",
            "14:32:28   speed: 6.90 batch / sec\n",
            "14:32:28   ETA: 12.79 secs\n",
            "14:32:28   max GPU memory: 732.1 MiB\n",
            "14:32:28   ------------------------------\n",
            "14:32:28   average binary cross entropy: 0.219715\n",
            "14:32:28   >>>>>>>>>>>>>>>>>>>>>>>>>>>>>>\n",
            "14:32:28   Epoch 57 begin\n",
            "14:32:29   >>>>>>>>>>>>>>>>>>>>>>>>>>>>>>\n",
            "14:32:29   Epoch 57 end\n",
            "14:32:29   duration: 0.30 secs\n",
            "14:32:29   speed: 6.67 batch / sec\n",
            "14:32:29   ETA: 12.50 secs\n",
            "14:32:29   max GPU memory: 720.8 MiB\n",
            "14:32:29   ------------------------------\n",
            "14:32:29   average binary cross entropy: 0.149526\n",
            "14:32:29   >>>>>>>>>>>>>>>>>>>>>>>>>>>>>>\n",
            "14:32:29   Epoch 58 begin\n",
            "14:32:29   >>>>>>>>>>>>>>>>>>>>>>>>>>>>>>\n",
            "14:32:29   Epoch 58 end\n",
            "14:32:29   duration: 0.30 secs\n",
            "14:32:29   speed: 6.62 batch / sec\n",
            "14:32:29   ETA: 12.20 secs\n",
            "14:32:29   max GPU memory: 726.8 MiB\n",
            "14:32:29   ------------------------------\n",
            "14:32:29   average binary cross entropy: 0.134344\n",
            "14:32:29   >>>>>>>>>>>>>>>>>>>>>>>>>>>>>>\n",
            "14:32:29   Epoch 59 begin\n",
            "14:32:29   >>>>>>>>>>>>>>>>>>>>>>>>>>>>>>\n",
            "14:32:29   Epoch 59 end\n",
            "14:32:29   duration: 0.31 secs\n",
            "14:32:29   speed: 6.50 batch / sec\n",
            "14:32:29   ETA: 11.91 secs\n",
            "14:32:29   max GPU memory: 727.9 MiB\n",
            "14:32:29   ------------------------------\n",
            "14:32:29   average binary cross entropy: 0.172784\n",
            "14:32:29   >>>>>>>>>>>>>>>>>>>>>>>>>>>>>>\n",
            "14:32:29   Epoch 60 begin\n",
            "14:32:29   >>>>>>>>>>>>>>>>>>>>>>>>>>>>>>\n",
            "14:32:29   Epoch 60 end\n",
            "14:32:29   duration: 0.30 secs\n",
            "14:32:29   speed: 6.73 batch / sec\n",
            "14:32:29   ETA: 11.61 secs\n",
            "14:32:29   max GPU memory: 722.4 MiB\n",
            "14:32:29   ------------------------------\n",
            "14:32:29   average binary cross entropy: 0.150859\n",
            "14:32:29   >>>>>>>>>>>>>>>>>>>>>>>>>>>>>>\n",
            "14:32:29   Epoch 61 begin\n",
            "14:32:30   >>>>>>>>>>>>>>>>>>>>>>>>>>>>>>\n",
            "14:32:30   Epoch 61 end\n",
            "14:32:30   duration: 0.29 secs\n",
            "14:32:30   speed: 6.88 batch / sec\n",
            "14:32:30   ETA: 11.31 secs\n",
            "14:32:30   max GPU memory: 731.7 MiB\n",
            "14:32:30   ------------------------------\n",
            "14:32:30   average binary cross entropy: 0.147276\n",
            "14:32:30   >>>>>>>>>>>>>>>>>>>>>>>>>>>>>>\n",
            "14:32:30   Epoch 62 begin\n",
            "14:32:30   >>>>>>>>>>>>>>>>>>>>>>>>>>>>>>\n",
            "14:32:30   Epoch 62 end\n",
            "14:32:30   duration: 0.31 secs\n",
            "14:32:30   speed: 6.49 batch / sec\n",
            "14:32:30   ETA: 11.02 secs\n",
            "14:32:30   max GPU memory: 725.5 MiB\n",
            "14:32:30   ------------------------------\n",
            "14:32:30   average binary cross entropy: 0.154882\n",
            "14:32:30   >>>>>>>>>>>>>>>>>>>>>>>>>>>>>>\n",
            "14:32:30   Epoch 63 begin\n",
            "14:32:30   >>>>>>>>>>>>>>>>>>>>>>>>>>>>>>\n",
            "14:32:30   Epoch 63 end\n",
            "14:32:30   duration: 0.29 secs\n",
            "14:32:30   speed: 6.82 batch / sec\n",
            "14:32:30   ETA: 10.72 secs\n",
            "14:32:30   max GPU memory: 723.6 MiB\n",
            "14:32:30   ------------------------------\n",
            "14:32:30   average binary cross entropy: 0.120883\n",
            "14:32:30   >>>>>>>>>>>>>>>>>>>>>>>>>>>>>>\n",
            "14:32:30   Epoch 64 begin\n",
            "14:32:31   >>>>>>>>>>>>>>>>>>>>>>>>>>>>>>\n",
            "14:32:31   Epoch 64 end\n",
            "14:32:31   duration: 0.29 secs\n",
            "14:32:31   speed: 6.86 batch / sec\n",
            "14:32:31   ETA: 10.42 secs\n",
            "14:32:31   max GPU memory: 720.3 MiB\n",
            "14:32:31   ------------------------------\n",
            "14:32:31   average binary cross entropy: 0.128506\n",
            "14:32:31   >>>>>>>>>>>>>>>>>>>>>>>>>>>>>>\n",
            "14:32:31   Epoch 65 begin\n",
            "14:32:31   >>>>>>>>>>>>>>>>>>>>>>>>>>>>>>\n",
            "14:32:31   Epoch 65 end\n",
            "14:32:31   duration: 0.29 secs\n",
            "14:32:31   speed: 6.83 batch / sec\n",
            "14:32:31   ETA: 10.12 secs\n",
            "14:32:31   max GPU memory: 732.8 MiB\n",
            "14:32:31   ------------------------------\n",
            "14:32:31   average binary cross entropy: 0.128094\n",
            "14:32:31   >>>>>>>>>>>>>>>>>>>>>>>>>>>>>>\n",
            "14:32:31   Epoch 66 begin\n",
            "14:32:31   >>>>>>>>>>>>>>>>>>>>>>>>>>>>>>\n",
            "14:32:31   Epoch 66 end\n",
            "14:32:31   duration: 0.30 secs\n",
            "14:32:31   speed: 6.75 batch / sec\n",
            "14:32:31   ETA: 9.82 secs\n",
            "14:32:31   max GPU memory: 730.9 MiB\n",
            "14:32:31   ------------------------------\n",
            "14:32:31   average binary cross entropy: 0.133774\n",
            "14:32:31   >>>>>>>>>>>>>>>>>>>>>>>>>>>>>>\n",
            "14:32:31   Epoch 67 begin\n",
            "14:32:31   >>>>>>>>>>>>>>>>>>>>>>>>>>>>>>\n",
            "14:32:31   Epoch 67 end\n",
            "14:32:32   duration: 0.29 secs\n",
            "14:32:32   speed: 6.84 batch / sec\n",
            "14:32:32   ETA: 9.52 secs\n",
            "14:32:32   max GPU memory: 723.4 MiB\n",
            "14:32:32   ------------------------------\n",
            "14:32:32   average binary cross entropy: 0.158694\n",
            "14:32:32   >>>>>>>>>>>>>>>>>>>>>>>>>>>>>>\n",
            "14:32:32   Epoch 68 begin\n",
            "14:32:32   >>>>>>>>>>>>>>>>>>>>>>>>>>>>>>\n",
            "14:32:32   Epoch 68 end\n",
            "14:32:32   duration: 0.30 secs\n",
            "14:32:32   speed: 6.61 batch / sec\n",
            "14:32:32   ETA: 9.22 secs\n",
            "14:32:32   max GPU memory: 730.2 MiB\n",
            "14:32:32   ------------------------------\n",
            "14:32:32   average binary cross entropy: 0.11246\n",
            "14:32:32   >>>>>>>>>>>>>>>>>>>>>>>>>>>>>>\n",
            "14:32:32   Epoch 69 begin\n",
            "14:32:32   >>>>>>>>>>>>>>>>>>>>>>>>>>>>>>\n",
            "14:32:32   Epoch 69 end\n",
            "14:32:32   duration: 0.30 secs\n",
            "14:32:32   speed: 6.71 batch / sec\n",
            "14:32:32   ETA: 8.93 secs\n",
            "14:32:32   max GPU memory: 727.2 MiB\n",
            "14:32:32   ------------------------------\n",
            "14:32:32   average binary cross entropy: 0.117103\n",
            "14:32:32   >>>>>>>>>>>>>>>>>>>>>>>>>>>>>>\n",
            "14:32:32   Epoch 70 begin\n",
            "14:32:32   >>>>>>>>>>>>>>>>>>>>>>>>>>>>>>\n",
            "14:32:32   Epoch 70 end\n",
            "14:32:32   duration: 0.30 secs\n",
            "14:32:32   speed: 6.67 batch / sec\n",
            "14:32:32   ETA: 8.63 secs\n",
            "14:32:32   max GPU memory: 722.1 MiB\n",
            "14:32:32   ------------------------------\n",
            "14:32:32   average binary cross entropy: 0.176488\n",
            "14:32:32   >>>>>>>>>>>>>>>>>>>>>>>>>>>>>>\n",
            "14:32:32   Epoch 71 begin\n",
            "14:32:33   >>>>>>>>>>>>>>>>>>>>>>>>>>>>>>\n",
            "14:32:33   Epoch 71 end\n",
            "14:32:33   duration: 0.29 secs\n",
            "14:32:33   speed: 6.88 batch / sec\n",
            "14:32:33   ETA: 8.33 secs\n",
            "14:32:33   max GPU memory: 724.2 MiB\n",
            "14:32:33   ------------------------------\n",
            "14:32:33   average binary cross entropy: 0.133686\n",
            "14:32:33   >>>>>>>>>>>>>>>>>>>>>>>>>>>>>>\n",
            "14:32:33   Epoch 72 begin\n",
            "14:32:33   >>>>>>>>>>>>>>>>>>>>>>>>>>>>>>\n",
            "14:32:33   Epoch 72 end\n",
            "14:32:33   duration: 0.30 secs\n",
            "14:32:33   speed: 6.59 batch / sec\n",
            "14:32:33   ETA: 8.03 secs\n",
            "14:32:33   max GPU memory: 722.4 MiB\n",
            "14:32:33   ------------------------------\n",
            "14:32:33   average binary cross entropy: 0.129669\n",
            "14:32:33   >>>>>>>>>>>>>>>>>>>>>>>>>>>>>>\n",
            "14:32:33   Epoch 73 begin\n",
            "14:32:33   >>>>>>>>>>>>>>>>>>>>>>>>>>>>>>\n",
            "14:32:33   Epoch 73 end\n",
            "14:32:33   duration: 0.29 secs\n",
            "14:32:33   speed: 6.81 batch / sec\n",
            "14:32:33   ETA: 7.74 secs\n",
            "14:32:33   max GPU memory: 732.2 MiB\n",
            "14:32:33   ------------------------------\n",
            "14:32:33   average binary cross entropy: 0.144432\n",
            "14:32:33   >>>>>>>>>>>>>>>>>>>>>>>>>>>>>>\n",
            "14:32:33   Epoch 74 begin\n",
            "14:32:34   >>>>>>>>>>>>>>>>>>>>>>>>>>>>>>\n",
            "14:32:34   Epoch 74 end\n",
            "14:32:34   duration: 0.29 secs\n",
            "14:32:34   speed: 6.90 batch / sec\n",
            "14:32:34   ETA: 7.44 secs\n",
            "14:32:34   max GPU memory: 729.5 MiB\n",
            "14:32:34   ------------------------------\n",
            "14:32:34   average binary cross entropy: 0.134563\n",
            "14:32:34   >>>>>>>>>>>>>>>>>>>>>>>>>>>>>>\n",
            "14:32:34   Epoch 75 begin\n",
            "14:32:34   >>>>>>>>>>>>>>>>>>>>>>>>>>>>>>\n",
            "14:32:34   Epoch 75 end\n",
            "14:32:34   duration: 0.28 secs\n",
            "14:32:34   speed: 7.06 batch / sec\n",
            "14:32:34   ETA: 7.13 secs\n",
            "14:32:34   max GPU memory: 731.0 MiB\n",
            "14:32:34   ------------------------------\n",
            "14:32:34   average binary cross entropy: 0.115472\n",
            "14:32:34   >>>>>>>>>>>>>>>>>>>>>>>>>>>>>>\n",
            "14:32:34   Epoch 76 begin\n",
            "14:32:34   >>>>>>>>>>>>>>>>>>>>>>>>>>>>>>\n",
            "14:32:34   Epoch 76 end\n",
            "14:32:34   duration: 0.30 secs\n",
            "14:32:34   speed: 6.62 batch / sec\n",
            "14:32:34   ETA: 6.84 secs\n",
            "14:32:34   max GPU memory: 727.0 MiB\n",
            "14:32:34   ------------------------------\n",
            "14:32:34   average binary cross entropy: 0.151885\n",
            "14:32:34   >>>>>>>>>>>>>>>>>>>>>>>>>>>>>>\n",
            "14:32:34   Epoch 77 begin\n",
            "14:32:34   >>>>>>>>>>>>>>>>>>>>>>>>>>>>>>\n",
            "14:32:34   Epoch 77 end\n",
            "14:32:34   duration: 0.29 secs\n",
            "14:32:34   speed: 6.89 batch / sec\n",
            "14:32:34   ETA: 6.54 secs\n",
            "14:32:34   max GPU memory: 730.9 MiB\n",
            "14:32:34   ------------------------------\n",
            "14:32:34   average binary cross entropy: 0.134444\n",
            "14:32:34   >>>>>>>>>>>>>>>>>>>>>>>>>>>>>>\n",
            "14:32:34   Epoch 78 begin\n",
            "14:32:35   >>>>>>>>>>>>>>>>>>>>>>>>>>>>>>\n",
            "14:32:35   Epoch 78 end\n",
            "14:32:35   duration: 0.29 secs\n",
            "14:32:35   speed: 6.94 batch / sec\n",
            "14:32:35   ETA: 6.24 secs\n",
            "14:32:35   max GPU memory: 723.2 MiB\n",
            "14:32:35   ------------------------------\n",
            "14:32:35   average binary cross entropy: 0.139185\n",
            "14:32:35   >>>>>>>>>>>>>>>>>>>>>>>>>>>>>>\n",
            "14:32:35   Epoch 79 begin\n",
            "14:32:35   >>>>>>>>>>>>>>>>>>>>>>>>>>>>>>\n",
            "14:32:35   Epoch 79 end\n",
            "14:32:35   duration: 0.29 secs\n",
            "14:32:35   speed: 6.90 batch / sec\n",
            "14:32:35   ETA: 5.94 secs\n",
            "14:32:35   max GPU memory: 736.3 MiB\n",
            "14:32:35   ------------------------------\n",
            "14:32:35   average binary cross entropy: 0.146216\n",
            "14:32:35   >>>>>>>>>>>>>>>>>>>>>>>>>>>>>>\n",
            "14:32:35   Epoch 80 begin\n",
            "14:32:35   >>>>>>>>>>>>>>>>>>>>>>>>>>>>>>\n",
            "14:32:35   Epoch 80 end\n",
            "14:32:35   duration: 0.29 secs\n",
            "14:32:35   speed: 6.86 batch / sec\n",
            "14:32:35   ETA: 5.64 secs\n",
            "14:32:35   max GPU memory: 730.7 MiB\n",
            "14:32:35   ------------------------------\n",
            "14:32:35   average binary cross entropy: 0.141897\n",
            "14:32:35   >>>>>>>>>>>>>>>>>>>>>>>>>>>>>>\n",
            "14:32:35   Epoch 81 begin\n",
            "14:32:36   >>>>>>>>>>>>>>>>>>>>>>>>>>>>>>\n",
            "14:32:36   Epoch 81 end\n",
            "14:32:36   duration: 0.29 secs\n",
            "14:32:36   speed: 6.83 batch / sec\n",
            "14:32:36   ETA: 5.34 secs\n",
            "14:32:36   max GPU memory: 723.2 MiB\n",
            "14:32:36   ------------------------------\n",
            "14:32:36   average binary cross entropy: 0.149881\n",
            "14:32:36   >>>>>>>>>>>>>>>>>>>>>>>>>>>>>>\n",
            "14:32:36   Epoch 82 begin\n",
            "14:32:36   >>>>>>>>>>>>>>>>>>>>>>>>>>>>>>\n",
            "14:32:36   Epoch 82 end\n",
            "14:32:36   duration: 0.30 secs\n",
            "14:32:36   speed: 6.78 batch / sec\n",
            "14:32:36   ETA: 5.05 secs\n",
            "14:32:36   max GPU memory: 724.1 MiB\n",
            "14:32:36   ------------------------------\n",
            "14:32:36   average binary cross entropy: 0.100236\n",
            "14:32:36   >>>>>>>>>>>>>>>>>>>>>>>>>>>>>>\n",
            "14:32:36   Epoch 83 begin\n",
            "14:32:36   >>>>>>>>>>>>>>>>>>>>>>>>>>>>>>\n",
            "14:32:36   Epoch 83 end\n",
            "14:32:36   duration: 0.29 secs\n",
            "14:32:36   speed: 6.83 batch / sec\n",
            "14:32:36   ETA: 4.75 secs\n",
            "14:32:36   max GPU memory: 732.4 MiB\n",
            "14:32:36   ------------------------------\n",
            "14:32:36   average binary cross entropy: 0.110719\n",
            "14:32:36   >>>>>>>>>>>>>>>>>>>>>>>>>>>>>>\n",
            "14:32:36   Epoch 84 begin\n",
            "14:32:36   >>>>>>>>>>>>>>>>>>>>>>>>>>>>>>\n",
            "14:32:36   Epoch 84 end\n",
            "14:32:36   duration: 0.29 secs\n",
            "14:32:36   speed: 6.91 batch / sec\n",
            "14:32:37   ETA: 4.45 secs\n",
            "14:32:37   max GPU memory: 717.9 MiB\n",
            "14:32:37   ------------------------------\n",
            "14:32:37   average binary cross entropy: 0.137645\n",
            "14:32:37   >>>>>>>>>>>>>>>>>>>>>>>>>>>>>>\n",
            "14:32:37   Epoch 85 begin\n",
            "14:32:37   >>>>>>>>>>>>>>>>>>>>>>>>>>>>>>\n",
            "14:32:37   Epoch 85 end\n",
            "14:32:37   duration: 0.31 secs\n",
            "14:32:37   speed: 6.49 batch / sec\n",
            "14:32:37   ETA: 4.16 secs\n",
            "14:32:37   max GPU memory: 729.7 MiB\n",
            "14:32:37   ------------------------------\n",
            "14:32:37   average binary cross entropy: 0.102546\n",
            "14:32:37   >>>>>>>>>>>>>>>>>>>>>>>>>>>>>>\n",
            "14:32:37   Epoch 86 begin\n",
            "14:32:37   >>>>>>>>>>>>>>>>>>>>>>>>>>>>>>\n",
            "14:32:37   Epoch 86 end\n",
            "14:32:37   duration: 0.29 secs\n",
            "14:32:37   speed: 6.80 batch / sec\n",
            "14:32:37   ETA: 3.86 secs\n",
            "14:32:37   max GPU memory: 726.4 MiB\n",
            "14:32:37   ------------------------------\n",
            "14:32:37   average binary cross entropy: 0.13446\n",
            "14:32:37   >>>>>>>>>>>>>>>>>>>>>>>>>>>>>>\n",
            "14:32:37   Epoch 87 begin\n",
            "14:32:37   >>>>>>>>>>>>>>>>>>>>>>>>>>>>>>\n",
            "14:32:37   Epoch 87 end\n",
            "14:32:37   duration: 0.30 secs\n",
            "14:32:37   speed: 6.63 batch / sec\n",
            "14:32:37   ETA: 3.56 secs\n",
            "14:32:37   max GPU memory: 734.7 MiB\n",
            "14:32:37   ------------------------------\n",
            "14:32:37   average binary cross entropy: 0.176458\n",
            "14:32:37   >>>>>>>>>>>>>>>>>>>>>>>>>>>>>>\n",
            "14:32:37   Epoch 88 begin\n",
            "14:32:38   >>>>>>>>>>>>>>>>>>>>>>>>>>>>>>\n",
            "14:32:38   Epoch 88 end\n",
            "14:32:38   duration: 0.28 secs\n",
            "14:32:38   speed: 7.08 batch / sec\n",
            "14:32:38   ETA: 3.26 secs\n",
            "14:32:38   max GPU memory: 730.0 MiB\n",
            "14:32:38   ------------------------------\n",
            "14:32:38   average binary cross entropy: 0.124782\n",
            "14:32:38   >>>>>>>>>>>>>>>>>>>>>>>>>>>>>>\n",
            "14:32:38   Epoch 89 begin\n",
            "14:32:38   >>>>>>>>>>>>>>>>>>>>>>>>>>>>>>\n",
            "14:32:38   Epoch 89 end\n",
            "14:32:38   duration: 0.30 secs\n",
            "14:32:38   speed: 6.76 batch / sec\n",
            "14:32:38   ETA: 2.97 secs\n",
            "14:32:38   max GPU memory: 722.3 MiB\n",
            "14:32:38   ------------------------------\n",
            "14:32:38   average binary cross entropy: 0.11764\n",
            "14:32:38   >>>>>>>>>>>>>>>>>>>>>>>>>>>>>>\n",
            "14:32:38   Epoch 90 begin\n",
            "14:32:38   >>>>>>>>>>>>>>>>>>>>>>>>>>>>>>\n",
            "14:32:38   Epoch 90 end\n",
            "14:32:38   duration: 0.30 secs\n",
            "14:32:38   speed: 6.74 batch / sec\n",
            "14:32:38   ETA: 2.67 secs\n",
            "14:32:38   max GPU memory: 732.5 MiB\n",
            "14:32:38   ------------------------------\n",
            "14:32:38   average binary cross entropy: 0.108988\n",
            "14:32:38   >>>>>>>>>>>>>>>>>>>>>>>>>>>>>>\n",
            "14:32:38   Epoch 91 begin\n",
            "14:32:39   >>>>>>>>>>>>>>>>>>>>>>>>>>>>>>\n",
            "14:32:39   Epoch 91 end\n",
            "14:32:39   duration: 0.29 secs\n",
            "14:32:39   speed: 6.89 batch / sec\n",
            "14:32:39   ETA: 2.37 secs\n",
            "14:32:39   max GPU memory: 726.8 MiB\n",
            "14:32:39   ------------------------------\n",
            "14:32:39   average binary cross entropy: 0.11654\n",
            "14:32:39   >>>>>>>>>>>>>>>>>>>>>>>>>>>>>>\n",
            "14:32:39   Epoch 92 begin\n",
            "14:32:39   >>>>>>>>>>>>>>>>>>>>>>>>>>>>>>\n",
            "14:32:39   Epoch 92 end\n",
            "14:32:39   duration: 0.30 secs\n",
            "14:32:39   speed: 6.70 batch / sec\n",
            "14:32:39   ETA: 2.08 secs\n",
            "14:32:39   max GPU memory: 735.0 MiB\n",
            "14:32:39   ------------------------------\n",
            "14:32:39   average binary cross entropy: 0.120181\n",
            "14:32:39   >>>>>>>>>>>>>>>>>>>>>>>>>>>>>>\n",
            "14:32:39   Epoch 93 begin\n",
            "14:32:39   >>>>>>>>>>>>>>>>>>>>>>>>>>>>>>\n",
            "14:32:39   Epoch 93 end\n",
            "14:32:39   duration: 0.30 secs\n",
            "14:32:39   speed: 6.74 batch / sec\n",
            "14:32:39   ETA: 1.78 secs\n",
            "14:32:39   max GPU memory: 727.9 MiB\n",
            "14:32:39   ------------------------------\n",
            "14:32:39   average binary cross entropy: 0.134786\n",
            "14:32:39   >>>>>>>>>>>>>>>>>>>>>>>>>>>>>>\n",
            "14:32:39   Epoch 94 begin\n",
            "14:32:39   >>>>>>>>>>>>>>>>>>>>>>>>>>>>>>\n",
            "14:32:39   Epoch 94 end\n",
            "14:32:39   duration: 0.29 secs\n",
            "14:32:39   speed: 6.79 batch / sec\n",
            "14:32:39   ETA: 1.48 secs\n",
            "14:32:39   max GPU memory: 730.7 MiB\n",
            "14:32:39   ------------------------------\n",
            "14:32:39   average binary cross entropy: 0.110646\n",
            "14:32:39   >>>>>>>>>>>>>>>>>>>>>>>>>>>>>>\n",
            "14:32:39   Epoch 95 begin\n",
            "14:32:40   >>>>>>>>>>>>>>>>>>>>>>>>>>>>>>\n",
            "14:32:40   Epoch 95 end\n",
            "14:32:40   duration: 0.29 secs\n",
            "14:32:40   speed: 6.81 batch / sec\n",
            "14:32:40   ETA: 1.19 secs\n",
            "14:32:40   max GPU memory: 725.3 MiB\n",
            "14:32:40   ------------------------------\n",
            "14:32:40   average binary cross entropy: 0.119258\n",
            "14:32:40   >>>>>>>>>>>>>>>>>>>>>>>>>>>>>>\n",
            "14:32:40   Epoch 96 begin\n",
            "14:32:40   >>>>>>>>>>>>>>>>>>>>>>>>>>>>>>\n",
            "14:32:40   Epoch 96 end\n",
            "14:32:40   duration: 0.29 secs\n",
            "14:32:40   speed: 6.80 batch / sec\n",
            "14:32:40   ETA: 0.89 secs\n",
            "14:32:40   max GPU memory: 735.4 MiB\n",
            "14:32:40   ------------------------------\n",
            "14:32:40   average binary cross entropy: 0.109694\n",
            "14:32:40   >>>>>>>>>>>>>>>>>>>>>>>>>>>>>>\n",
            "14:32:40   Epoch 97 begin\n",
            "14:32:40   >>>>>>>>>>>>>>>>>>>>>>>>>>>>>>\n",
            "14:32:40   Epoch 97 end\n",
            "14:32:40   duration: 0.31 secs\n",
            "14:32:40   speed: 6.40 batch / sec\n",
            "14:32:40   ETA: 0.59 secs\n",
            "14:32:40   max GPU memory: 729.9 MiB\n",
            "14:32:40   ------------------------------\n",
            "14:32:40   average binary cross entropy: 0.10199\n",
            "14:32:40   >>>>>>>>>>>>>>>>>>>>>>>>>>>>>>\n",
            "14:32:40   Epoch 98 begin\n",
            "14:32:41   >>>>>>>>>>>>>>>>>>>>>>>>>>>>>>\n",
            "14:32:41   Epoch 98 end\n",
            "14:32:41   duration: 0.30 secs\n",
            "14:32:41   speed: 6.75 batch / sec\n",
            "14:32:41   ETA: 0.30 secs\n",
            "14:32:41   max GPU memory: 731.4 MiB\n",
            "14:32:41   ------------------------------\n",
            "14:32:41   average binary cross entropy: 0.117966\n",
            "14:32:41   >>>>>>>>>>>>>>>>>>>>>>>>>>>>>>\n",
            "14:32:41   Epoch 99 begin\n",
            "14:32:41   >>>>>>>>>>>>>>>>>>>>>>>>>>>>>>\n",
            "14:32:41   Epoch 99 end\n",
            "14:32:41   duration: 0.30 secs\n",
            "14:32:41   speed: 6.72 batch / sec\n",
            "14:32:41   ETA: 0.00 secs\n",
            "14:32:41   max GPU memory: 723.4 MiB\n",
            "14:32:41   ------------------------------\n",
            "14:32:41   average binary cross entropy: 0.0929077\n"
          ]
        }
      ],
      "source": [
        "optimizer = torch.optim.Adam(task.parameters(), lr=1e-4)\n",
        "solver = core.Engine(task, train_set, valid_set, test_set, optimizer,\n",
        "                     batch_size=1024, gpus=[0])\n",
        "solver.train(num_epoch=100)"
      ]
    },
    {
      "cell_type": "markdown",
      "metadata": {
        "id": "p6aONUbqfTFJ"
      },
      "source": [
        "### Test the Model\n",
        "To test the model on validation set, it only takes one line."
      ]
    },
    {
      "cell_type": "code",
      "execution_count": 26,
      "metadata": {
        "colab": {
          "base_uri": "https://localhost:8080/"
        },
        "id": "X85oBLXMfKY0",
        "outputId": "9e195db9-674c-4ffc-b91b-260f1bc436b0"
      },
      "outputs": [
        {
          "name": "stdout",
          "output_type": "stream",
          "text": [
            "14:32:58   Evaluate on valid\n",
            "14:32:58   >>>>>>>>>>>>>>>>>>>>>>>>>>>>>>\n",
            "14:32:58   auprc [CT_TOX]: 0.363413\n",
            "14:32:58   auprc [FDA_APPROVED]: 0.965732\n",
            "14:32:58   auroc [CT_TOX]: 0.639506\n",
            "14:32:58   auroc [FDA_APPROVED]: 0.767153\n"
          ]
        },
        {
          "data": {
            "text/plain": [
              "{'auprc [CT_TOX]': tensor(0.3634, device='cuda:0'),\n",
              " 'auprc [FDA_APPROVED]': tensor(0.9657, device='cuda:0'),\n",
              " 'auroc [CT_TOX]': tensor(0.6395, device='cuda:0'),\n",
              " 'auroc [FDA_APPROVED]': tensor(0.7672, device='cuda:0')}"
            ]
          },
          "execution_count": 26,
          "metadata": {},
          "output_type": "execute_result"
        }
      ],
      "source": [
        "solver.evaluate(\"valid\")"
      ]
    },
    {
      "cell_type": "markdown",
      "metadata": {
        "id": "M6w-y8JLfen_"
      },
      "source": [
        "Alternatively, we can make prediction on arbitrary input batches. The following code shows the prediction for the first 8 samples in the validation set.\n",
        "\n"
      ]
    },
    {
      "cell_type": "code",
      "execution_count": 27,
      "metadata": {
        "colab": {
          "base_uri": "https://localhost:8080/",
          "height": 329
        },
        "id": "l4DBfG4WfbNa",
        "outputId": "be6f0c77-f805-4a7f-e88e-f6dee9e837c3"
      },
      "outputs": [
        {
          "name": "stderr",
          "output_type": "stream",
          "text": [
            "/usr/local/lib/python3.7/dist-packages/torch/nn/functional.py:1806: UserWarning: nn.functional.sigmoid is deprecated. Use torch.sigmoid instead.\n",
            "  warnings.warn(\"nn.functional.sigmoid is deprecated. Use torch.sigmoid instead.\")\n"
          ]
        },
        {
          "name": "stdout",
          "output_type": "stream",
          "text": [
            "FDA_APPROVED: tensor([9.9944e-01, 8.6398e-01, 9.7093e-01, 2.8671e-03, 9.7622e-01, 4.9462e-01,\n",
            "        1.4024e-01, 1.0420e-10], device='cuda:0', grad_fn=<UnbindBackward0>)\n",
            "CT_TOX: tensor([7.9267e-04, 2.5161e-02, 1.5683e-02, 2.5941e-01, 9.5388e-02, 8.7684e-02,\n",
            "        4.0686e-01, 8.7811e-01], device='cuda:0', grad_fn=<UnbindBackward0>)\n"
          ]
        },
        {
          "data": {
            "image/png": "[encoded data removed]",
            "text/plain": [
              "<Figure size 1728x216 with 8 Axes>"
            ]
          },
          "metadata": {
            "needs_background": "light"
          },
          "output_type": "display_data"
        }
      ],
      "source": [
        "from torchdrug import utils\n",
        "\n",
        "batch = data.graph_collate(valid_set[:8])\n",
        "batch[\"graph\"].visualize(num_row=1)\n",
        "batch = utils.cuda(batch, device=solver.device)\n",
        "pred = F.sigmoid(task.predict(batch))\n",
        "for t, p in zip(task.task, pred.t()):\n",
        "    print(\"%s: %s\" % (t, p))"
      ]
    },
    {
      "cell_type": "code",
      "execution_count": null,
      "metadata": {
        "id": "L_acfYhZAx-U"
      },
      "outputs": [],
      "source": []
    }
  ],
  "metadata": {
    "accelerator": "GPU",
    "colab": {
      "collapsed_sections": [],
      "name": "TorchDrug Basic Usage and Pipeline",
      "provenance": []
    },
    "kernelspec": {
      "display_name": "Python 3",
      "name": "python3"
    },
    "language_info": {
      "codemirror_mode": {
        "name": "ipython",
        "version": 3
      },
      "file_extension": ".py",
      "mimetype": "text/x-python",
      "name": "python",
      "nbconvert_exporter": "python",
      "pygments_lexer": "ipython3",
      "version": "3.7.11"
    }
  },
  "nbformat": 4,
  "nbformat_minor": 0
}
