{
 "cells": [
  {
   "cell_type": "markdown",
   "metadata": {},
   "source": [
    "in this video, I want to introduce graph Convolution Network which is basically convolution like you've seen for images\n",
    "bur for graphs, actually "
   ]
  },
  {
   "cell_type": "code",
   "execution_count": 1,
   "metadata": {
    "tags": []
   },
   "outputs": [
    {
     "name": "stdout",
     "output_type": "stream",
     "text": [
      "--2022-03-22 16:42:40--  https://repo.continuum.io/miniconda/Miniconda3-latest-Linux-x86_64.sh\n",
      "Resolving repo.continuum.io (repo.continuum.io)... 104.18.200.79, 104.18.201.79, 2606:4700::6812:c94f, ...\n",
      "Connecting to repo.continuum.io (repo.continuum.io)|104.18.200.79|:443... connected.\n",
      "HTTP request sent, awaiting response... 301 Moved Permanently\n",
      "Location: https://repo.anaconda.com/miniconda/Miniconda3-latest-Linux-x86_64.sh [following]\n",
      "--2022-03-22 16:42:40--  https://repo.anaconda.com/miniconda/Miniconda3-latest-Linux-x86_64.sh\n",
      "Resolving repo.anaconda.com (repo.anaconda.com)... 104.16.130.3, 104.16.131.3, 2606:4700::6810:8303, ...\n",
      "Connecting to repo.anaconda.com (repo.anaconda.com)|104.16.130.3|:443... connected.\n",
      "HTTP request sent, awaiting response... 200 OK\n",
      "Length: 75660608 (72M) [application/x-sh]\n",
      "Saving to: ‘Miniconda3-latest-Linux-x86_64.sh’\n",
      "\n",
      "Miniconda3-latest-L 100%[===================>]  72.16M  4.38MB/s    in 9.5s    \n",
      "\n",
      "2022-03-22 16:42:50 (7.61 MB/s) - ‘Miniconda3-latest-Linux-x86_64.sh’ saved [75660608/75660608]\n",
      "\n",
      "PREFIX=/usr/local\n",
      "./Miniconda3-latest-Linux-x86_64.sh: line 404: /usr/local/conda.exe: Permission denied\n",
      "chmod: cannot access '/usr/local/conda.exe': No such file or directory\n",
      "Unpacking payload ...\n",
      "./Miniconda3-latest-Linux-x86_64.sh: line 416: /usr/local/conda.exe: No such file or directory\n",
      "./Miniconda3-latest-Linux-x86_64.sh: line 418: /usr/local/conda.exe: No such file or directory\n",
      "bash ./Miniconda3-latest-Linux-x86_64.sh -b -f -p /usr/local  0.20s user 0.09s system 135% cpu 0.217 total\n",
      "Collecting package metadata (current_repodata.json): ...working... done\n",
      "Solving environment: ...working... done\n",
      "\n",
      "## Package Plan ##\n",
      "\n",
      "  environment location: /home/kangjunekoo/anaconda3/envs/pytorch\n",
      "\n",
      "  added / updated specs:\n",
      "    - rdkit\n",
      "\n",
      "\n",
      "The following packages will be downloaded:\n",
      "\n",
      "    package                    |            build\n",
      "    ---------------------------|-----------------\n",
      "    boost-1.74.0               |   py37h6dcda5c_3         342 KB  conda-forge\n",
      "    boost-cpp-1.74.0           |       h9359b55_0        16.4 MB  conda-forge\n",
      "    ca-certificates-2021.10.8  |       ha878542_0         139 KB  conda-forge\n",
      "    certifi-2021.10.8          |   py37h89c1867_1         145 KB  conda-forge\n",
      "    cycler-0.11.0              |     pyhd8ed1ab_0          10 KB  conda-forge\n",
      "    glib-2.69.1                |       h4ff587b_1         1.7 MB\n",
      "    icu-67.1                   |       he1b5a44_0        12.9 MB  conda-forge\n",
      "    kiwisolver-1.3.2           |   py37h295c915_0          80 KB\n",
      "    libxml2-2.9.10             |       h72b56ed_2         1.3 MB  conda-forge\n",
      "    matplotlib-base-3.3.4      |   py37h0c9df89_0         6.7 MB  conda-forge\n",
      "    openssl-1.1.1n             |       h7f8727e_0         2.5 MB\n",
      "    pandas-1.2.3               |   py37hdc94413_0        11.8 MB  conda-forge\n",
      "    pcre-8.45                  |       h9c3ff4c_0         253 KB  conda-forge\n",
      "    pixman-0.40.0              |       h36c2ea0_0         627 KB  conda-forge\n",
      "    pycairo-1.19.1             |   py37h708ec4a_0          73 KB\n",
      "    pyparsing-3.0.7            |     pyhd8ed1ab_0          79 KB  conda-forge\n",
      "    python-dateutil-2.8.2      |     pyhd8ed1ab_0         240 KB  conda-forge\n",
      "    python_abi-3.7             |          2_cp37m           4 KB  conda-forge\n",
      "    pytz-2021.3                |     pyhd8ed1ab_0         242 KB  conda-forge\n",
      "    rdkit-2020.09.5            |   py37he53b9e1_0        26.0 MB  conda-forge\n",
      "    reportlab-3.5.68           |   py37h69800bb_0         2.4 MB  conda-forge\n",
      "    sqlalchemy-1.3.23          |   py37h5e8e339_0         1.8 MB  conda-forge\n",
      "    tornado-6.1                |   py37h5e8e339_1         646 KB  conda-forge\n",
      "    ------------------------------------------------------------\n",
      "                                           Total:        86.3 MB\n",
      "\n",
      "The following NEW packages will be INSTALLED:\n",
      "\n",
      "  boost              conda-forge/linux-64::boost-1.74.0-py37h6dcda5c_3\n",
      "  boost-cpp          conda-forge/linux-64::boost-cpp-1.74.0-h9359b55_0\n",
      "  cairo              pkgs/main/linux-64::cairo-1.16.0-hf32fb01_1\n",
      "  cycler             conda-forge/noarch::cycler-0.11.0-pyhd8ed1ab_0\n",
      "  fontconfig         pkgs/main/linux-64::fontconfig-2.13.1-h6c09931_0\n",
      "  glib               pkgs/main/linux-64::glib-2.69.1-h4ff587b_1\n",
      "  icu                conda-forge/linux-64::icu-67.1-he1b5a44_0\n",
      "  kiwisolver         pkgs/main/linux-64::kiwisolver-1.3.2-py37h295c915_0\n",
      "  libuuid            pkgs/main/linux-64::libuuid-1.0.3-h7f8727e_2\n",
      "  libxcb             pkgs/main/linux-64::libxcb-1.14-h7b6447c_0\n",
      "  libxml2            conda-forge/linux-64::libxml2-2.9.10-h72b56ed_2\n",
      "  matplotlib-base    conda-forge/linux-64::matplotlib-base-3.3.4-py37h0c9df89_0\n",
      "  pandas             conda-forge/linux-64::pandas-1.2.3-py37hdc94413_0\n",
      "  pcre               conda-forge/linux-64::pcre-8.45-h9c3ff4c_0\n",
      "  pixman             conda-forge/linux-64::pixman-0.40.0-h36c2ea0_0\n",
      "  pycairo            pkgs/main/linux-64::pycairo-1.19.1-py37h708ec4a_0\n",
      "  pyparsing          conda-forge/noarch::pyparsing-3.0.7-pyhd8ed1ab_0\n",
      "  python-dateutil    conda-forge/noarch::python-dateutil-2.8.2-pyhd8ed1ab_0\n",
      "  python_abi         conda-forge/linux-64::python_abi-3.7-2_cp37m\n",
      "  pytz               conda-forge/noarch::pytz-2021.3-pyhd8ed1ab_0\n",
      "  rdkit              conda-forge/linux-64::rdkit-2020.09.5-py37he53b9e1_0\n",
      "  reportlab          conda-forge/linux-64::reportlab-3.5.68-py37h69800bb_0\n",
      "  sqlalchemy         conda-forge/linux-64::sqlalchemy-1.3.23-py37h5e8e339_0\n",
      "  tornado            conda-forge/linux-64::tornado-6.1-py37h5e8e339_1\n",
      "\n",
      "The following packages will be UPDATED:\n",
      "\n",
      "  certifi            pkgs/main::certifi-2021.10.8-py37h06a~ --> conda-forge::certifi-2021.10.8-py37h89c1867_1\n",
      "  openssl                                 1.1.1l-h7f8727e_0 --> 1.1.1n-h7f8727e_0\n",
      "\n",
      "The following packages will be SUPERSEDED by a higher-priority channel:\n",
      "\n",
      "  ca-certificates    pkgs/main::ca-certificates-2021.10.26~ --> conda-forge::ca-certificates-2021.10.8-ha878542_0\n",
      "\n",
      "\n",
      "Preparing transaction: ...working... done\n",
      "Verifying transaction: ...working... done\n",
      "Executing transaction: ...working... done\n",
      "conda install -q -y -c conda-forge rdkit  26.08s user 2.68s system 31% cpu 1:31.93 total\n"
     ]
    }
   ],
   "source": [
    "!wget -c https://repo.continuum.io/miniconda/Miniconda3-latest-Linux-x86_64.sh\n",
    "!chmod +x Miniconda3-latest-Linux-x86_64.sh\n",
    "!time bash ./Miniconda3-latest-Linux-x86_64.sh -b -f -p /usr/local\n",
    "!time conda install -q -y -c conda-forge rdkit"
   ]
  },
  {
   "cell_type": "code",
   "execution_count": 2,
   "metadata": {},
   "outputs": [],
   "source": [
    "from rdkit import Chem\n",
    "from rdkit.Chem import Draw\n",
    "from rdkit.Chem.Draw import IPythonConsole\n",
    "from rdkit.Chem import Descriptors\n",
    "from rdkit.Chem import AllChem\n",
    "from rdkit import DataStructs\n",
    "import numpy as np"
   ]
  },
  {
   "cell_type": "code",
   "execution_count": 3,
   "metadata": {},
   "outputs": [
    {
     "data": {
      "image/png": "[encoded data removed]",
      "text/plain": [
       "<rdkit.Chem.rdchem.Mol at 0x7f7eb28743f0>"
      ]
     },
     "execution_count": 3,
     "metadata": {},
     "output_type": "execute_result"
    }
   ],
   "source": [
    "mol=Chem.MolFromSmiles('CNC')\n",
    "mol"
   ]
  },
  {
   "cell_type": "code",
   "execution_count": 6,
   "metadata": {},
   "outputs": [],
   "source": [
    "def label(mol):\n",
    "    for i,at in enumerate(mol.GetAtoms()):\n",
    "        lbl=str(i)\n",
    "        at.SetProp('atomLabel',lbl)\n",
    "    return mol   "
   ]
  },
  {
   "cell_type": "code",
   "execution_count": 8,
   "metadata": {},
   "outputs": [
    {
     "data": {
      "image/png": "[encoded data removed]",
      "text/plain": [
       "<rdkit.Chem.rdchem.Mol at 0x7f7eb28743f0>"
      ]
     },
     "execution_count": 8,
     "metadata": {},
     "output_type": "execute_result"
    }
   ],
   "source": [
    "A=Chem.GetAdjacencyMatrix(mol)\n",
    "label(mol)"
   ]
  },
  {
   "cell_type": "code",
   "execution_count": 9,
   "metadata": {},
   "outputs": [
    {
     "data": {
      "text/plain": [
       "array([[0, 1, 0],\n",
       "       [1, 0, 1],\n",
       "       [0, 1, 0]], dtype=int32)"
      ]
     },
     "execution_count": 9,
     "metadata": {},
     "output_type": "execute_result"
    }
   ],
   "source": [
    "A=Chem.GetAdjacencyMatrix(mol)\n",
    "A"
   ]
  },
  {
   "cell_type": "code",
   "execution_count": 11,
   "metadata": {},
   "outputs": [
    {
     "data": {
      "text/plain": [
       "matrix([[0, 1, 0],\n",
       "        [1, 0, 1],\n",
       "        [0, 1, 0]], dtype=int32)"
      ]
     },
     "execution_count": 11,
     "metadata": {},
     "output_type": "execute_result"
    }
   ],
   "source": [
    "A=np.asmatrix(A)\n",
    "A"
   ]
  },
  {
   "cell_type": "code",
   "execution_count": 12,
   "metadata": {},
   "outputs": [
    {
     "data": {
      "text/plain": [
       "array([[1, 0],\n",
       "       [0, 1],\n",
       "       [1, 0]])"
      ]
     },
     "execution_count": 12,
     "metadata": {},
     "output_type": "execute_result"
    }
   ],
   "source": [
    "C=[1,0]\n",
    "N=[0,1]\n",
    "X=np.array([C,N,C])\n",
    "X"
   ]
  },
  {
   "cell_type": "markdown",
   "metadata": {},
   "source": [
    "...C N  \n",
    " C 0 1  \n",
    " N 2 0  \n",
    " C 0 1  \n",
    " atom 0 is bound to 1 N and 0 C  \n",
    " atom 1 is bound to 2 C and 0 N  \n",
    " atom 2 is bound to 1 N and 0 C"
   ]
  },
  {
   "cell_type": "code",
   "execution_count": 13,
   "metadata": {},
   "outputs": [
    {
     "data": {
      "text/plain": [
       "matrix([[0, 1],\n",
       "        [2, 0],\n",
       "        [0, 1]])"
      ]
     },
     "execution_count": 13,
     "metadata": {},
     "output_type": "execute_result"
    }
   ],
   "source": [
    "A @ X"
   ]
  },
  {
   "cell_type": "code",
   "execution_count": 14,
   "metadata": {},
   "outputs": [
    {
     "data": {
      "text/plain": [
       "matrix([[1., 0., 0.],\n",
       "        [0., 1., 0.],\n",
       "        [0., 0., 1.]])"
      ]
     },
     "execution_count": 14,
     "metadata": {},
     "output_type": "execute_result"
    }
   ],
   "source": [
    "I=np.matrix(np.eye(A.shape[0]))\n",
    "I"
   ]
  },
  {
   "cell_type": "code",
   "execution_count": 15,
   "metadata": {},
   "outputs": [
    {
     "data": {
      "text/plain": [
       "matrix([[1., 1., 0.],\n",
       "        [1., 1., 1.],\n",
       "        [0., 1., 1.]])"
      ]
     },
     "execution_count": 15,
     "metadata": {},
     "output_type": "execute_result"
    }
   ],
   "source": [
    "A_hat=A+I\n",
    "A_hat"
   ]
  },
  {
   "cell_type": "markdown",
   "metadata": {},
   "source": [
    "...C N  \n",
    " C 0 1  \n",
    " N 2 0  \n",
    " C 0 1  \n",
    " atom 0 is bound to 1 N and 0 C and is a A  \n",
    " atom 1 is bound to 2 C and 0 N and is a N  \n",
    " atom 2 is bound to 1 N and 0 C and is a C  "
   ]
  },
  {
   "cell_type": "code",
   "execution_count": 16,
   "metadata": {},
   "outputs": [
    {
     "data": {
      "text/plain": [
       "matrix([[1., 1.],\n",
       "        [2., 1.],\n",
       "        [1., 1.]])"
      ]
     },
     "execution_count": 16,
     "metadata": {},
     "output_type": "execute_result"
    }
   ],
   "source": [
    "A_hat * X"
   ]
  },
  {
   "cell_type": "markdown",
   "metadata": {},
   "source": [
    "we want to take this and put it into a diagonal matrix so a matrix here and we're gonna use the diagnal function to put it in diagonal form"
   ]
  },
  {
   "cell_type": "code",
   "execution_count": 17,
   "metadata": {},
   "outputs": [
    {
     "data": {
      "text/plain": [
       "array([2., 3., 2.])"
      ]
     },
     "execution_count": 17,
     "metadata": {},
     "output_type": "execute_result"
    }
   ],
   "source": [
    "D_hat=np.array(np.sum(A_hat,axis=0))[0]\n",
    "D_hat"
   ]
  },
  {
   "cell_type": "code",
   "execution_count": 18,
   "metadata": {},
   "outputs": [
    {
     "data": {
      "text/plain": [
       "matrix([[2., 0., 0.],\n",
       "        [0., 3., 0.],\n",
       "        [0., 0., 2.]])"
      ]
     },
     "execution_count": 18,
     "metadata": {},
     "output_type": "execute_result"
    }
   ],
   "source": [
    "D_hat=np.matrix(np.diag(D_hat))\n",
    "D_hat"
   ]
  },
  {
   "cell_type": "code",
   "execution_count": 26,
   "metadata": {},
   "outputs": [],
   "source": [
    "D_hat_inv=np.sqrt(D_hat**-1)\n",
    "H=D_hat_inv * A_hat * D_hat_inv * X"
   ]
  },
  {
   "cell_type": "code",
   "execution_count": 22,
   "metadata": {},
   "outputs": [],
   "source": [
    "import numpy as np"
   ]
  },
  {
   "cell_type": "code",
   "execution_count": 25,
   "metadata": {},
   "outputs": [
    {
     "data": {
      "text/plain": [
       "matrix([[ 0.09762701,  0.43037873,  0.20552675,  0.08976637, -0.1526904 ],\n",
       "        [ 0.29178823, -0.12482558,  0.783546  ,  0.92732552, -0.23311696]])"
      ]
     },
     "execution_count": 25,
     "metadata": {},
     "output_type": "execute_result"
    }
   ],
   "source": [
    "np.random.seed(0)\n",
    "W=2*np.random.rand(2,5)-1 #number of descriptors x number of filter\n",
    "W=np.asmatrix(W)\n",
    "W"
   ]
  },
  {
   "cell_type": "code",
   "execution_count": 27,
   "metadata": {},
   "outputs": [
    {
     "data": {
      "text/plain": [
       "matrix([[ 0.16793555,  0.16422954,  0.42264469,  0.42346224, -0.1715148 ],\n",
       "        [ 0.17697486,  0.30979424,  0.42899389,  0.38240244, -0.20237684],\n",
       "        [ 0.16793555,  0.16422954,  0.42264469,  0.42346224, -0.1715148 ]])"
      ]
     },
     "execution_count": 27,
     "metadata": {},
     "output_type": "execute_result"
    }
   ],
   "source": [
    "Z=H*W\n",
    "Z"
   ]
  },
  {
   "cell_type": "code",
   "execution_count": 28,
   "metadata": {},
   "outputs": [],
   "source": [
    "def relu(x):\n",
    "    return np.maximum(0,x)"
   ]
  },
  {
   "cell_type": "code",
   "execution_count": 29,
   "metadata": {},
   "outputs": [
    {
     "data": {
      "text/plain": [
       "matrix([[0.16793555, 0.16422954, 0.42264469, 0.42346224, 0.        ],\n",
       "        [0.17697486, 0.30979424, 0.42899389, 0.38240244, 0.        ],\n",
       "        [0.16793555, 0.16422954, 0.42264469, 0.42346224, 0.        ]])"
      ]
     },
     "execution_count": 29,
     "metadata": {},
     "output_type": "execute_result"
    }
   ],
   "source": [
    "relu(Z)"
   ]
  },
  {
   "cell_type": "code",
   "execution_count": 30,
   "metadata": {},
   "outputs": [
    {
     "data": {
      "image/png": "[encoded data removed]",
      "text/plain": [
       "<rdkit.Chem.rdchem.Mol at 0x7f7eb27b5170>"
      ]
     },
     "execution_count": 30,
     "metadata": {},
     "output_type": "execute_result"
    }
   ],
   "source": [
    "mol2=Chem.MolFromSmiles('CNCNC')\n",
    "label(mol2)"
   ]
  },
  {
   "cell_type": "code",
   "execution_count": 31,
   "metadata": {},
   "outputs": [
    {
     "name": "stdout",
     "output_type": "stream",
     "text": [
      "[[0 1]\n",
      " [2 0]\n",
      " [0 2]\n",
      " [2 0]\n",
      " [0 1]]\n",
      "[[2 0]\n",
      " [0 3]\n",
      " [4 0]\n",
      " [0 3]\n",
      " [2 0]]\n"
     ]
    }
   ],
   "source": [
    "A=Chem.GetAdjacencyMatrix(mol2)\n",
    "A=np.asmatrix(A)\n",
    "\n",
    "C=[1,0]\n",
    "N=[0,1]\n",
    "X=np.array([C,N,C,N,C])\n",
    "\n",
    "H1=A * X \n",
    "\n",
    "print(H1)\n",
    "\n",
    "H2 = A * H1\n",
    "print(H2)"
   ]
  },
  {
   "cell_type": "code",
   "execution_count": null,
   "metadata": {},
   "outputs": [],
   "source": []
  }
 ],
 "metadata": {
  "kernelspec": {
   "display_name": "Python 3",
   "language": "python",
   "name": "python3"
  },
  "language_info": {
   "codemirror_mode": {
    "name": "ipython",
    "version": 3
   },
   "file_extension": ".py",
   "mimetype": "text/x-python",
   "name": "python",
   "nbconvert_exporter": "python",
   "pygments_lexer": "ipython3",
   "version": "3.7.11"
  }
 },
 "nbformat": 4,
 "nbformat_minor": 4
}
