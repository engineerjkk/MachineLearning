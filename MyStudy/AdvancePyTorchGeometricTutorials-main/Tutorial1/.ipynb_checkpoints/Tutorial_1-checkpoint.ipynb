{
 "cells": [
  {
   "cell_type": "markdown",
   "id": "04c6a537",
   "metadata": {},
   "source": [
    "# Advance PyTorch Geometric Tutorial\n",
    "## Tutorial 1\n",
    "#### Antonio Longa, 15 Nov 2021\n",
    "\n",
    "# Open Graph Benchmark and PyG\n",
    "original [code](https://github.com/snap-stanford/ogb/tree/master/examples/nodeproppred/arxiv) made by Matthias Fey"
   ]
  },
  {
   "cell_type": "code",
   "execution_count": 1,
   "id": "5924f9e4",
   "metadata": {},
   "outputs": [],
   "source": [
    "!pip install -q torch-scatter -f https://data.pyg.org/whl/torch-1.10.0+cu113.html\n",
    "!pip install -q torch-sparse -f https://data.pyg.org/whl/torch-1.10.0+cu113.html\n",
    "!pip install -q git+https://github.com/pyg-team/pytorch_geometric.git"
   ]
  },
  {
   "cell_type": "code",
   "execution_count": 86,
   "id": "7f6a619f",
   "metadata": {},
   "outputs": [],
   "source": [
    "# import libraries \n",
    "import torch\n",
    "import torch.nn.functional as F\n",
    "\n",
    "import torch_geometric.transforms as T\n",
    "from torch_geometric.nn import GCNConv, SAGEConv\n"
   ]
  },
  {
   "cell_type": "code",
   "execution_count": 87,
   "id": "a384a3b5",
   "metadata": {},
   "outputs": [],
   "source": [
    "# define GCN\n",
    "class GCN(torch.nn.Module):\n",
    "    def __init__(self, in_channels, hidden_channels, out_channels, num_layers,\n",
    "                 dropout):\n",
    "        super(GCN, self).__init__()\n",
    "\n",
    "        self.convs = torch.nn.ModuleList()\n",
    "        self.convs.append(GCNConv(in_channels, hidden_channels, cached=True))\n",
    "        self.bns = torch.nn.ModuleList()\n",
    "        self.bns.append(torch.nn.BatchNorm1d(hidden_channels))\n",
    "        for _ in range(num_layers - 2):\n",
    "            self.convs.append(\n",
    "                GCNConv(hidden_channels, hidden_channels, cached=True))\n",
    "            self.bns.append(torch.nn.BatchNorm1d(hidden_channels))\n",
    "        self.convs.append(GCNConv(hidden_channels, out_channels, cached=True))\n",
    "\n",
    "        self.dropout = dropout\n",
    "\n",
    "    def reset_parameters(self):\n",
    "        for conv in self.convs:\n",
    "            conv.reset_parameters()\n",
    "        for bn in self.bns:\n",
    "            bn.reset_parameters()\n",
    "\n",
    "    def forward(self, x, adj_t):\n",
    "        for i, conv in enumerate(self.convs[:-1]):\n",
    "            x = conv(x, adj_t)\n",
    "            x = self.bns[i](x)\n",
    "            x = F.relu(x)\n",
    "            x = F.dropout(x, p=self.dropout, training=self.training)\n",
    "        x = self.convs[-1](x, adj_t)\n",
    "        return x.log_softmax(dim=-1)"
   ]
  },
  {
   "cell_type": "code",
   "execution_count": 114,
   "id": "5e1871e5",
   "metadata": {},
   "outputs": [],
   "source": [
    "#Define train and test\n",
    "def train(model, data, train_idx, optimizer):\n",
    "    model.train()\n",
    "\n",
    "    optimizer.zero_grad()\n",
    "    out = model(data.x, data.adj_t)[train_idx]\n",
    "    loss = F.nll_loss(out, data.y.squeeze(1)[train_idx])\n",
    "    loss.backward()\n",
    "    optimizer.step()\n",
    "\n",
    "    return loss.item()\n",
    "\n",
    "\n",
    "\n",
    "\n",
    "@torch.no_grad()\n",
    "def test(model, data, split_idx, evaluator):\n",
    "    model.eval()\n",
    "\n",
    "    out = model(data.x, data.adj_t)\n",
    "    y_pred = out.argmax(dim=-1, keepdim=True)\n",
    "    \n",
    "    # update the evaluator\n",
    "    train_acc = evaluator.eval({'y_true': data.y[split_idx['train']],\n",
    "                                'y_pred': y_pred[split_idx['train']],\n",
    "                               })['acc']\n",
    "    valid_acc = evaluator.eval({'y_true': data.y[split_idx['valid']],\n",
    "                                'y_pred': y_pred[split_idx['valid']],\n",
    "                               })['acc']\n",
    "    test_acc = evaluator.eval({'y_true': data.y[split_idx['test']],\n",
    "                               'y_pred': y_pred[split_idx['test']],\n",
    "                              })['acc']\n",
    "\n",
    "    return train_acc, valid_acc, test_acc"
   ]
  },
  {
   "cell_type": "code",
   "execution_count": 89,
   "id": "b47a4f29",
   "metadata": {},
   "outputs": [],
   "source": [
    "# define the device\n",
    "device = 'cuda' if torch.cuda.is_available() else 'cpu'\n",
    "device = torch.device(device)"
   ]
  },
  {
   "cell_type": "markdown",
   "id": "733a6482",
   "metadata": {},
   "source": [
    "### OGB get the dataset"
   ]
  },
  {
   "cell_type": "markdown",
   "id": "2c6652f1",
   "metadata": {},
   "source": []
  },
  {
   "cell_type": "code",
   "execution_count": 102,
   "id": "75e4cafb",
   "metadata": {},
   "outputs": [
    {
     "name": "stdout",
     "output_type": "stream",
     "text": [
      "Downloading http://snap.stanford.edu/ogb/data/nodeproppred/arxiv.zip\n"
     ]
    },
    {
     "name": "stderr",
     "output_type": "stream",
     "text": [
      "Downloaded 0.08 GB: 100%|██████████| 81/81 [00:14<00:00,  5.48it/s]\n"
     ]
    },
    {
     "name": "stdout",
     "output_type": "stream",
     "text": [
      "Extracting dataset/arxiv.zip\n"
     ]
    },
    {
     "name": "stderr",
     "output_type": "stream",
     "text": [
      "Processing...\n"
     ]
    },
    {
     "name": "stdout",
     "output_type": "stream",
     "text": [
      "Loading necessary files...\n",
      "This might take a while.\n",
      "Processing graphs...\n"
     ]
    },
    {
     "name": "stderr",
     "output_type": "stream",
     "text": [
      "100%|██████████| 1/1 [00:00<00:00, 8035.07it/s]\n"
     ]
    },
    {
     "name": "stdout",
     "output_type": "stream",
     "text": [
      "Converting graphs into PyG objects...\n"
     ]
    },
    {
     "name": "stderr",
     "output_type": "stream",
     "text": [
      "100%|██████████| 1/1 [00:00<00:00, 2880.70it/s]"
     ]
    },
    {
     "name": "stdout",
     "output_type": "stream",
     "text": [
      "Saving...\n"
     ]
    },
    {
     "name": "stderr",
     "output_type": "stream",
     "text": [
      "\n",
      "Done!\n"
     ]
    }
   ],
   "source": [
    "#From node property prediction import :\n",
    "from ogb.nodeproppred import PygNodePropPredDataset, Evaluator\n",
    "\n",
    "\n",
    "# download the dataset\n",
    "dataset = PygNodePropPredDataset(name='ogbn-arxiv',transform=T.ToSparseTensor())\n",
    "# I have already downloaded the dataset, so it is loaded from my pc"
   ]
  },
  {
   "cell_type": "code",
   "execution_count": 103,
   "id": "2b16cb31",
   "metadata": {},
   "outputs": [],
   "source": [
    "data = dataset[0]\n",
    "data.adj_t = data.adj_t.to_symmetric()\n",
    "data = data.to(device) # move the data to the device"
   ]
  },
  {
   "cell_type": "code",
   "execution_count": 104,
   "id": "929be4ac",
   "metadata": {},
   "outputs": [],
   "source": [
    "split_idx = dataset.get_idx_split()"
   ]
  },
  {
   "cell_type": "code",
   "execution_count": 105,
   "id": "32d870d3",
   "metadata": {},
   "outputs": [
    {
     "data": {
      "text/plain": [
       "Data(num_nodes=169343, x=[169343, 128], node_year=[169343, 1], y=[169343, 1], adj_t=[169343, 169343, nnz=2315598])"
      ]
     },
     "execution_count": 105,
     "metadata": {},
     "output_type": "execute_result"
    }
   ],
   "source": [
    "# it is a Data object for PyG\n",
    "data"
   ]
  },
  {
   "cell_type": "code",
   "execution_count": 106,
   "id": "cf58e367",
   "metadata": {},
   "outputs": [],
   "source": [
    "import pandas as pd"
   ]
  },
  {
   "cell_type": "code",
   "execution_count": 107,
   "id": "1c0fe60c",
   "metadata": {},
   "outputs": [
    {
     "data": {
      "text/plain": [
       "169343"
      ]
     },
     "execution_count": 107,
     "metadata": {},
     "output_type": "execute_result"
    }
   ],
   "source": [
    "data.num_nodes"
   ]
  },
  {
   "cell_type": "code",
   "execution_count": 108,
   "id": "928e401a",
   "metadata": {},
   "outputs": [
    {
     "data": {
      "text/html": [
       "<div>\n",
       "<style scoped>\n",
       "    .dataframe tbody tr th:only-of-type {\n",
       "        vertical-align: middle;\n",
       "    }\n",
       "\n",
       "    .dataframe tbody tr th {\n",
       "        vertical-align: top;\n",
       "    }\n",
       "\n",
       "    .dataframe thead th {\n",
       "        text-align: right;\n",
       "    }\n",
       "</style>\n",
       "<table border=\"1\" class=\"dataframe\">\n",
       "  <thead>\n",
       "    <tr style=\"text-align: right;\">\n",
       "      <th></th>\n",
       "      <th>0</th>\n",
       "      <th>1</th>\n",
       "      <th>2</th>\n",
       "      <th>3</th>\n",
       "      <th>4</th>\n",
       "      <th>5</th>\n",
       "      <th>6</th>\n",
       "      <th>7</th>\n",
       "      <th>8</th>\n",
       "      <th>9</th>\n",
       "      <th>...</th>\n",
       "      <th>118</th>\n",
       "      <th>119</th>\n",
       "      <th>120</th>\n",
       "      <th>121</th>\n",
       "      <th>122</th>\n",
       "      <th>123</th>\n",
       "      <th>124</th>\n",
       "      <th>125</th>\n",
       "      <th>126</th>\n",
       "      <th>127</th>\n",
       "    </tr>\n",
       "  </thead>\n",
       "  <tbody>\n",
       "    <tr>\n",
       "      <th>0</th>\n",
       "      <td>-0.057943</td>\n",
       "      <td>-0.052530</td>\n",
       "      <td>-0.072603</td>\n",
       "      <td>-0.026555</td>\n",
       "      <td>0.130435</td>\n",
       "      <td>-0.241386</td>\n",
       "      <td>-0.449242</td>\n",
       "      <td>-0.018443</td>\n",
       "      <td>-0.087218</td>\n",
       "      <td>0.112320</td>\n",
       "      <td>...</td>\n",
       "      <td>0.211490</td>\n",
       "      <td>-0.226118</td>\n",
       "      <td>-0.185603</td>\n",
       "      <td>0.053230</td>\n",
       "      <td>0.332873</td>\n",
       "      <td>0.104175</td>\n",
       "      <td>0.007408</td>\n",
       "      <td>0.173364</td>\n",
       "      <td>-0.172796</td>\n",
       "      <td>-0.140059</td>\n",
       "    </tr>\n",
       "    <tr>\n",
       "      <th>1</th>\n",
       "      <td>-0.124500</td>\n",
       "      <td>-0.070665</td>\n",
       "      <td>-0.325202</td>\n",
       "      <td>0.007779</td>\n",
       "      <td>-0.001559</td>\n",
       "      <td>0.074189</td>\n",
       "      <td>-0.191013</td>\n",
       "      <td>0.049689</td>\n",
       "      <td>0.026369</td>\n",
       "      <td>0.099364</td>\n",
       "      <td>...</td>\n",
       "      <td>0.106316</td>\n",
       "      <td>0.052926</td>\n",
       "      <td>-0.258378</td>\n",
       "      <td>0.021567</td>\n",
       "      <td>0.281503</td>\n",
       "      <td>-0.173423</td>\n",
       "      <td>0.202082</td>\n",
       "      <td>0.068524</td>\n",
       "      <td>-0.372111</td>\n",
       "      <td>-0.301036</td>\n",
       "    </tr>\n",
       "    <tr>\n",
       "      <th>2</th>\n",
       "      <td>-0.080242</td>\n",
       "      <td>-0.023328</td>\n",
       "      <td>-0.183787</td>\n",
       "      <td>-0.180707</td>\n",
       "      <td>0.075765</td>\n",
       "      <td>-0.125818</td>\n",
       "      <td>-0.394573</td>\n",
       "      <td>-0.219078</td>\n",
       "      <td>-0.108931</td>\n",
       "      <td>0.056966</td>\n",
       "      <td>...</td>\n",
       "      <td>0.019453</td>\n",
       "      <td>-0.070291</td>\n",
       "      <td>-0.177562</td>\n",
       "      <td>-0.214012</td>\n",
       "      <td>0.182186</td>\n",
       "      <td>-0.121589</td>\n",
       "      <td>-0.073642</td>\n",
       "      <td>0.109919</td>\n",
       "      <td>0.117589</td>\n",
       "      <td>-0.139883</td>\n",
       "    </tr>\n",
       "    <tr>\n",
       "      <th>3</th>\n",
       "      <td>-0.145044</td>\n",
       "      <td>0.054915</td>\n",
       "      <td>-0.126666</td>\n",
       "      <td>0.039971</td>\n",
       "      <td>-0.055909</td>\n",
       "      <td>-0.101278</td>\n",
       "      <td>-0.339202</td>\n",
       "      <td>-0.115801</td>\n",
       "      <td>-0.080058</td>\n",
       "      <td>-0.001633</td>\n",
       "      <td>...</td>\n",
       "      <td>-0.065752</td>\n",
       "      <td>0.042735</td>\n",
       "      <td>0.066338</td>\n",
       "      <td>-0.226921</td>\n",
       "      <td>0.188418</td>\n",
       "      <td>-0.017295</td>\n",
       "      <td>0.063449</td>\n",
       "      <td>0.017816</td>\n",
       "      <td>0.085364</td>\n",
       "      <td>-0.081804</td>\n",
       "    </tr>\n",
       "    <tr>\n",
       "      <th>4</th>\n",
       "      <td>-0.071154</td>\n",
       "      <td>0.070766</td>\n",
       "      <td>-0.281432</td>\n",
       "      <td>-0.161892</td>\n",
       "      <td>-0.165246</td>\n",
       "      <td>-0.029116</td>\n",
       "      <td>-0.338593</td>\n",
       "      <td>-0.138727</td>\n",
       "      <td>0.100015</td>\n",
       "      <td>0.132794</td>\n",
       "      <td>...</td>\n",
       "      <td>-0.056130</td>\n",
       "      <td>0.047475</td>\n",
       "      <td>-0.263795</td>\n",
       "      <td>0.026462</td>\n",
       "      <td>0.376349</td>\n",
       "      <td>-0.253772</td>\n",
       "      <td>0.084472</td>\n",
       "      <td>0.098033</td>\n",
       "      <td>-0.075347</td>\n",
       "      <td>-0.111687</td>\n",
       "    </tr>\n",
       "    <tr>\n",
       "      <th>...</th>\n",
       "      <td>...</td>\n",
       "      <td>...</td>\n",
       "      <td>...</td>\n",
       "      <td>...</td>\n",
       "      <td>...</td>\n",
       "      <td>...</td>\n",
       "      <td>...</td>\n",
       "      <td>...</td>\n",
       "      <td>...</td>\n",
       "      <td>...</td>\n",
       "      <td>...</td>\n",
       "      <td>...</td>\n",
       "      <td>...</td>\n",
       "      <td>...</td>\n",
       "      <td>...</td>\n",
       "      <td>...</td>\n",
       "      <td>...</td>\n",
       "      <td>...</td>\n",
       "      <td>...</td>\n",
       "      <td>...</td>\n",
       "      <td>...</td>\n",
       "    </tr>\n",
       "    <tr>\n",
       "      <th>169338</th>\n",
       "      <td>-0.321351</td>\n",
       "      <td>-0.039335</td>\n",
       "      <td>-0.011121</td>\n",
       "      <td>0.024434</td>\n",
       "      <td>-0.010934</td>\n",
       "      <td>-0.125384</td>\n",
       "      <td>-0.490196</td>\n",
       "      <td>0.170707</td>\n",
       "      <td>0.065013</td>\n",
       "      <td>0.136422</td>\n",
       "      <td>...</td>\n",
       "      <td>0.189792</td>\n",
       "      <td>-0.138938</td>\n",
       "      <td>-0.281634</td>\n",
       "      <td>-0.031904</td>\n",
       "      <td>0.435017</td>\n",
       "      <td>0.036357</td>\n",
       "      <td>-0.126336</td>\n",
       "      <td>0.069767</td>\n",
       "      <td>-0.003338</td>\n",
       "      <td>-0.242013</td>\n",
       "    </tr>\n",
       "    <tr>\n",
       "      <th>169339</th>\n",
       "      <td>-0.151212</td>\n",
       "      <td>-0.124702</td>\n",
       "      <td>-0.221386</td>\n",
       "      <td>-0.089370</td>\n",
       "      <td>-0.013997</td>\n",
       "      <td>-0.067091</td>\n",
       "      <td>-0.234838</td>\n",
       "      <td>-0.063793</td>\n",
       "      <td>0.208427</td>\n",
       "      <td>0.134944</td>\n",
       "      <td>...</td>\n",
       "      <td>-0.119714</td>\n",
       "      <td>-0.107352</td>\n",
       "      <td>-0.213279</td>\n",
       "      <td>-0.178972</td>\n",
       "      <td>0.307967</td>\n",
       "      <td>0.008814</td>\n",
       "      <td>0.104214</td>\n",
       "      <td>0.120340</td>\n",
       "      <td>-0.062759</td>\n",
       "      <td>-0.316333</td>\n",
       "    </tr>\n",
       "    <tr>\n",
       "      <th>169340</th>\n",
       "      <td>-0.220530</td>\n",
       "      <td>-0.036568</td>\n",
       "      <td>-0.402199</td>\n",
       "      <td>0.023286</td>\n",
       "      <td>-0.073210</td>\n",
       "      <td>-0.039768</td>\n",
       "      <td>-0.302267</td>\n",
       "      <td>0.170705</td>\n",
       "      <td>0.145221</td>\n",
       "      <td>0.063539</td>\n",
       "      <td>...</td>\n",
       "      <td>0.066331</td>\n",
       "      <td>-0.163570</td>\n",
       "      <td>-0.023279</td>\n",
       "      <td>-0.027070</td>\n",
       "      <td>0.369248</td>\n",
       "      <td>0.131152</td>\n",
       "      <td>0.333832</td>\n",
       "      <td>0.113360</td>\n",
       "      <td>-0.161393</td>\n",
       "      <td>-0.145171</td>\n",
       "    </tr>\n",
       "    <tr>\n",
       "      <th>169341</th>\n",
       "      <td>-0.138236</td>\n",
       "      <td>0.040885</td>\n",
       "      <td>-0.251811</td>\n",
       "      <td>-0.225074</td>\n",
       "      <td>0.250449</td>\n",
       "      <td>-0.216719</td>\n",
       "      <td>-0.342307</td>\n",
       "      <td>0.174997</td>\n",
       "      <td>0.169612</td>\n",
       "      <td>0.370719</td>\n",
       "      <td>...</td>\n",
       "      <td>0.074614</td>\n",
       "      <td>-0.054579</td>\n",
       "      <td>0.075444</td>\n",
       "      <td>0.084619</td>\n",
       "      <td>0.481700</td>\n",
       "      <td>0.004581</td>\n",
       "      <td>0.096515</td>\n",
       "      <td>-0.089290</td>\n",
       "      <td>-0.041253</td>\n",
       "      <td>-0.376132</td>\n",
       "    </tr>\n",
       "    <tr>\n",
       "      <th>169342</th>\n",
       "      <td>-0.029875</td>\n",
       "      <td>0.268417</td>\n",
       "      <td>-0.161124</td>\n",
       "      <td>-0.109336</td>\n",
       "      <td>0.045708</td>\n",
       "      <td>-0.049695</td>\n",
       "      <td>-0.300318</td>\n",
       "      <td>-0.078786</td>\n",
       "      <td>0.220354</td>\n",
       "      <td>-0.033874</td>\n",
       "      <td>...</td>\n",
       "      <td>0.096920</td>\n",
       "      <td>-0.044086</td>\n",
       "      <td>-0.123901</td>\n",
       "      <td>0.063297</td>\n",
       "      <td>0.336742</td>\n",
       "      <td>-0.193049</td>\n",
       "      <td>0.108415</td>\n",
       "      <td>0.120807</td>\n",
       "      <td>0.077647</td>\n",
       "      <td>-0.091018</td>\n",
       "    </tr>\n",
       "  </tbody>\n",
       "</table>\n",
       "<p>169343 rows × 128 columns</p>\n",
       "</div>"
      ],
      "text/plain": [
       "             0         1         2         3         4         5         6    \\\n",
       "0      -0.057943 -0.052530 -0.072603 -0.026555  0.130435 -0.241386 -0.449242   \n",
       "1      -0.124500 -0.070665 -0.325202  0.007779 -0.001559  0.074189 -0.191013   \n",
       "2      -0.080242 -0.023328 -0.183787 -0.180707  0.075765 -0.125818 -0.394573   \n",
       "3      -0.145044  0.054915 -0.126666  0.039971 -0.055909 -0.101278 -0.339202   \n",
       "4      -0.071154  0.070766 -0.281432 -0.161892 -0.165246 -0.029116 -0.338593   \n",
       "...          ...       ...       ...       ...       ...       ...       ...   \n",
       "169338 -0.321351 -0.039335 -0.011121  0.024434 -0.010934 -0.125384 -0.490196   \n",
       "169339 -0.151212 -0.124702 -0.221386 -0.089370 -0.013997 -0.067091 -0.234838   \n",
       "169340 -0.220530 -0.036568 -0.402199  0.023286 -0.073210 -0.039768 -0.302267   \n",
       "169341 -0.138236  0.040885 -0.251811 -0.225074  0.250449 -0.216719 -0.342307   \n",
       "169342 -0.029875  0.268417 -0.161124 -0.109336  0.045708 -0.049695 -0.300318   \n",
       "\n",
       "             7         8         9    ...       118       119       120  \\\n",
       "0      -0.018443 -0.087218  0.112320  ...  0.211490 -0.226118 -0.185603   \n",
       "1       0.049689  0.026369  0.099364  ...  0.106316  0.052926 -0.258378   \n",
       "2      -0.219078 -0.108931  0.056966  ...  0.019453 -0.070291 -0.177562   \n",
       "3      -0.115801 -0.080058 -0.001633  ... -0.065752  0.042735  0.066338   \n",
       "4      -0.138727  0.100015  0.132794  ... -0.056130  0.047475 -0.263795   \n",
       "...          ...       ...       ...  ...       ...       ...       ...   \n",
       "169338  0.170707  0.065013  0.136422  ...  0.189792 -0.138938 -0.281634   \n",
       "169339 -0.063793  0.208427  0.134944  ... -0.119714 -0.107352 -0.213279   \n",
       "169340  0.170705  0.145221  0.063539  ...  0.066331 -0.163570 -0.023279   \n",
       "169341  0.174997  0.169612  0.370719  ...  0.074614 -0.054579  0.075444   \n",
       "169342 -0.078786  0.220354 -0.033874  ...  0.096920 -0.044086 -0.123901   \n",
       "\n",
       "             121       122       123       124       125       126       127  \n",
       "0       0.053230  0.332873  0.104175  0.007408  0.173364 -0.172796 -0.140059  \n",
       "1       0.021567  0.281503 -0.173423  0.202082  0.068524 -0.372111 -0.301036  \n",
       "2      -0.214012  0.182186 -0.121589 -0.073642  0.109919  0.117589 -0.139883  \n",
       "3      -0.226921  0.188418 -0.017295  0.063449  0.017816  0.085364 -0.081804  \n",
       "4       0.026462  0.376349 -0.253772  0.084472  0.098033 -0.075347 -0.111687  \n",
       "...          ...       ...       ...       ...       ...       ...       ...  \n",
       "169338 -0.031904  0.435017  0.036357 -0.126336  0.069767 -0.003338 -0.242013  \n",
       "169339 -0.178972  0.307967  0.008814  0.104214  0.120340 -0.062759 -0.316333  \n",
       "169340 -0.027070  0.369248  0.131152  0.333832  0.113360 -0.161393 -0.145171  \n",
       "169341  0.084619  0.481700  0.004581  0.096515 -0.089290 -0.041253 -0.376132  \n",
       "169342  0.063297  0.336742 -0.193049  0.108415  0.120807  0.077647 -0.091018  \n",
       "\n",
       "[169343 rows x 128 columns]"
      ]
     },
     "execution_count": 108,
     "metadata": {},
     "output_type": "execute_result"
    }
   ],
   "source": [
    "data_xr=pd.DataFrame((data.x).numpy())\n",
    "data_x"
   ]
  },
  {
   "cell_type": "code",
   "execution_count": 111,
   "id": "49b2bb7b",
   "metadata": {},
   "outputs": [
    {
     "data": {
      "text/html": [
       "<div>\n",
       "<style scoped>\n",
       "    .dataframe tbody tr th:only-of-type {\n",
       "        vertical-align: middle;\n",
       "    }\n",
       "\n",
       "    .dataframe tbody tr th {\n",
       "        vertical-align: top;\n",
       "    }\n",
       "\n",
       "    .dataframe thead th {\n",
       "        text-align: right;\n",
       "    }\n",
       "</style>\n",
       "<table border=\"1\" class=\"dataframe\">\n",
       "  <thead>\n",
       "    <tr style=\"text-align: right;\">\n",
       "      <th></th>\n",
       "      <th>0</th>\n",
       "    </tr>\n",
       "  </thead>\n",
       "  <tbody>\n",
       "    <tr>\n",
       "      <th>0</th>\n",
       "      <td>2013</td>\n",
       "    </tr>\n",
       "    <tr>\n",
       "      <th>1</th>\n",
       "      <td>2015</td>\n",
       "    </tr>\n",
       "    <tr>\n",
       "      <th>2</th>\n",
       "      <td>2014</td>\n",
       "    </tr>\n",
       "    <tr>\n",
       "      <th>3</th>\n",
       "      <td>2014</td>\n",
       "    </tr>\n",
       "    <tr>\n",
       "      <th>4</th>\n",
       "      <td>2014</td>\n",
       "    </tr>\n",
       "    <tr>\n",
       "      <th>...</th>\n",
       "      <td>...</td>\n",
       "    </tr>\n",
       "    <tr>\n",
       "      <th>169338</th>\n",
       "      <td>2020</td>\n",
       "    </tr>\n",
       "    <tr>\n",
       "      <th>169339</th>\n",
       "      <td>2020</td>\n",
       "    </tr>\n",
       "    <tr>\n",
       "      <th>169340</th>\n",
       "      <td>2020</td>\n",
       "    </tr>\n",
       "    <tr>\n",
       "      <th>169341</th>\n",
       "      <td>2020</td>\n",
       "    </tr>\n",
       "    <tr>\n",
       "      <th>169342</th>\n",
       "      <td>2020</td>\n",
       "    </tr>\n",
       "  </tbody>\n",
       "</table>\n",
       "<p>169343 rows × 1 columns</p>\n",
       "</div>"
      ],
      "text/plain": [
       "           0\n",
       "0       2013\n",
       "1       2015\n",
       "2       2014\n",
       "3       2014\n",
       "4       2014\n",
       "...      ...\n",
       "169338  2020\n",
       "169339  2020\n",
       "169340  2020\n",
       "169341  2020\n",
       "169342  2020\n",
       "\n",
       "[169343 rows x 1 columns]"
      ]
     },
     "execution_count": 111,
     "metadata": {},
     "output_type": "execute_result"
    }
   ],
   "source": [
    "data_node_year=pd.DataFrame((data.node_year).numpy())\n",
    "data_node_year"
   ]
  },
  {
   "cell_type": "code",
   "execution_count": 112,
   "id": "29317922",
   "metadata": {},
   "outputs": [
    {
     "data": {
      "text/html": [
       "<div>\n",
       "<style scoped>\n",
       "    .dataframe tbody tr th:only-of-type {\n",
       "        vertical-align: middle;\n",
       "    }\n",
       "\n",
       "    .dataframe tbody tr th {\n",
       "        vertical-align: top;\n",
       "    }\n",
       "\n",
       "    .dataframe thead th {\n",
       "        text-align: right;\n",
       "    }\n",
       "</style>\n",
       "<table border=\"1\" class=\"dataframe\">\n",
       "  <thead>\n",
       "    <tr style=\"text-align: right;\">\n",
       "      <th></th>\n",
       "      <th>0</th>\n",
       "    </tr>\n",
       "  </thead>\n",
       "  <tbody>\n",
       "    <tr>\n",
       "      <th>0</th>\n",
       "      <td>4</td>\n",
       "    </tr>\n",
       "    <tr>\n",
       "      <th>1</th>\n",
       "      <td>5</td>\n",
       "    </tr>\n",
       "    <tr>\n",
       "      <th>2</th>\n",
       "      <td>28</td>\n",
       "    </tr>\n",
       "    <tr>\n",
       "      <th>3</th>\n",
       "      <td>8</td>\n",
       "    </tr>\n",
       "    <tr>\n",
       "      <th>4</th>\n",
       "      <td>27</td>\n",
       "    </tr>\n",
       "    <tr>\n",
       "      <th>...</th>\n",
       "      <td>...</td>\n",
       "    </tr>\n",
       "    <tr>\n",
       "      <th>169338</th>\n",
       "      <td>4</td>\n",
       "    </tr>\n",
       "    <tr>\n",
       "      <th>169339</th>\n",
       "      <td>24</td>\n",
       "    </tr>\n",
       "    <tr>\n",
       "      <th>169340</th>\n",
       "      <td>10</td>\n",
       "    </tr>\n",
       "    <tr>\n",
       "      <th>169341</th>\n",
       "      <td>4</td>\n",
       "    </tr>\n",
       "    <tr>\n",
       "      <th>169342</th>\n",
       "      <td>1</td>\n",
       "    </tr>\n",
       "  </tbody>\n",
       "</table>\n",
       "<p>169343 rows × 1 columns</p>\n",
       "</div>"
      ],
      "text/plain": [
       "         0\n",
       "0        4\n",
       "1        5\n",
       "2       28\n",
       "3        8\n",
       "4       27\n",
       "...     ..\n",
       "169338   4\n",
       "169339  24\n",
       "169340  10\n",
       "169341   4\n",
       "169342   1\n",
       "\n",
       "[169343 rows x 1 columns]"
      ]
     },
     "execution_count": 112,
     "metadata": {},
     "output_type": "execute_result"
    }
   ],
   "source": [
    "data_y=pd.DataFrame((data.y).numpy())\n",
    "data_y"
   ]
  },
  {
   "cell_type": "code",
   "execution_count": 113,
   "id": "6ae3c464",
   "metadata": {},
   "outputs": [
    {
     "data": {
      "text/plain": [
       "SparseTensor(row=tensor([     0,      0,      0,  ..., 169341, 169342, 169342]),\n",
       "             col=tensor([   411,    640,   1162,  ..., 163274,  27824, 158981]),\n",
       "             size=(169343, 169343), nnz=2315598, density=0.01%)"
      ]
     },
     "execution_count": 113,
     "metadata": {},
     "output_type": "execute_result"
    }
   ],
   "source": [
    "#data_adj_t=pd.DataFrame((data.adj_t).numpy())\n",
    "data.adj_t"
   ]
  },
  {
   "cell_type": "markdown",
   "id": "9598e069",
   "metadata": {},
   "source": [
    "### PygNodePropPredDataset allows to get datasets.\n",
    "### Are there other datasets? (for node property predictions)"
   ]
  },
  {
   "cell_type": "code",
   "execution_count": 8,
   "id": "f4c3f469",
   "metadata": {},
   "outputs": [
    {
     "ename": "ValueError",
     "evalue": "Invalid dataset name ogbn.\nAvailable datasets are as follows:\nogbn-proteins\nogbn-products\nogbn-arxiv\nogbn-mag\nogbn-papers100M",
     "output_type": "error",
     "traceback": [
      "\u001b[0;31m---------------------------------------------------------------------------\u001b[0m",
      "\u001b[0;31mValueError\u001b[0m                                Traceback (most recent call last)",
      "\u001b[0;32m/tmp/ipykernel_42615/4121643198.py\u001b[0m in \u001b[0;36m<module>\u001b[0;34m\u001b[0m\n\u001b[0;32m----> 1\u001b[0;31m \u001b[0mdataset2\u001b[0m \u001b[0;34m=\u001b[0m \u001b[0mPygNodePropPredDataset\u001b[0m\u001b[0;34m(\u001b[0m\u001b[0mname\u001b[0m\u001b[0;34m=\u001b[0m\u001b[0;34m'ogbn'\u001b[0m\u001b[0;34m)\u001b[0m\u001b[0;34m\u001b[0m\u001b[0;34m\u001b[0m\u001b[0m\n\u001b[0m",
      "\u001b[0;32m~/anaconda3/envs/geometric/lib/python3.9/site-packages/ogb/nodeproppred/dataset_pyg.py\u001b[0m in \u001b[0;36m__init__\u001b[0;34m(self, name, root, transform, pre_transform, meta_dict)\u001b[0m\n\u001b[1;32m     38\u001b[0m                 \u001b[0merror_mssg\u001b[0m \u001b[0;34m+=\u001b[0m \u001b[0;34m'Available datasets are as follows:\\n'\u001b[0m\u001b[0;34m\u001b[0m\u001b[0;34m\u001b[0m\u001b[0m\n\u001b[1;32m     39\u001b[0m                 \u001b[0merror_mssg\u001b[0m \u001b[0;34m+=\u001b[0m \u001b[0;34m'\\n'\u001b[0m\u001b[0;34m.\u001b[0m\u001b[0mjoin\u001b[0m\u001b[0;34m(\u001b[0m\u001b[0mmaster\u001b[0m\u001b[0;34m.\u001b[0m\u001b[0mkeys\u001b[0m\u001b[0;34m(\u001b[0m\u001b[0;34m)\u001b[0m\u001b[0;34m)\u001b[0m\u001b[0;34m\u001b[0m\u001b[0;34m\u001b[0m\u001b[0m\n\u001b[0;32m---> 40\u001b[0;31m                 \u001b[0;32mraise\u001b[0m \u001b[0mValueError\u001b[0m\u001b[0;34m(\u001b[0m\u001b[0merror_mssg\u001b[0m\u001b[0;34m)\u001b[0m\u001b[0;34m\u001b[0m\u001b[0;34m\u001b[0m\u001b[0m\n\u001b[0m\u001b[1;32m     41\u001b[0m             \u001b[0mself\u001b[0m\u001b[0;34m.\u001b[0m\u001b[0mmeta_info\u001b[0m \u001b[0;34m=\u001b[0m \u001b[0mmaster\u001b[0m\u001b[0;34m[\u001b[0m\u001b[0mself\u001b[0m\u001b[0;34m.\u001b[0m\u001b[0mname\u001b[0m\u001b[0;34m]\u001b[0m\u001b[0;34m\u001b[0m\u001b[0;34m\u001b[0m\u001b[0m\n\u001b[1;32m     42\u001b[0m \u001b[0;34m\u001b[0m\u001b[0m\n",
      "\u001b[0;31mValueError\u001b[0m: Invalid dataset name ogbn.\nAvailable datasets are as follows:\nogbn-proteins\nogbn-products\nogbn-arxiv\nogbn-mag\nogbn-papers100M"
     ]
    }
   ],
   "source": [
    "dataset2 = PygNodePropPredDataset(name='ogbn')"
   ]
  },
  {
   "cell_type": "markdown",
   "id": "2572367a",
   "metadata": {},
   "source": [
    "# Instanciate the GNN"
   ]
  },
  {
   "cell_type": "code",
   "execution_count": 115,
   "id": "8a5dc989",
   "metadata": {},
   "outputs": [],
   "source": [
    "train_idx, valid_idx, test_idx = split_idx[\"train\"], split_idx[\"valid\"], split_idx[\"test\"]"
   ]
  },
  {
   "cell_type": "code",
   "execution_count": 125,
   "id": "b079836f",
   "metadata": {},
   "outputs": [],
   "source": [
    "hidden_channels = 64\n",
    "num_layers = 2\n",
    "dropout = 0.5 \n",
    "epochs = 50\n",
    "print_steps = 1\n",
    "\n",
    "\n",
    "split_idx = dataset.get_idx_split()\n",
    "train_idx = split_idx['train'].to(device)\n",
    "\n",
    "model = GCN(data.num_features, hidden_channels,\n",
    "            dataset.num_classes, num_layers,\n",
    "            dropout).to(device)"
   ]
  },
  {
   "cell_type": "markdown",
   "id": "206f2972",
   "metadata": {},
   "source": [
    "# Evaluator"
   ]
  },
  {
   "cell_type": "code",
   "execution_count": 126,
   "id": "f2ccadfe",
   "metadata": {},
   "outputs": [
    {
     "data": {
      "text/plain": [
       "<ogb.nodeproppred.evaluate.Evaluator at 0x7f33073e8a50>"
      ]
     },
     "execution_count": 126,
     "metadata": {},
     "output_type": "execute_result"
    }
   ],
   "source": [
    "evaluator = Evaluator(name='ogbn-arxiv')\n",
    "\n",
    "evaluator"
   ]
  },
  {
   "cell_type": "code",
   "execution_count": 127,
   "id": "71a240c9",
   "metadata": {},
   "outputs": [
    {
     "name": "stdout",
     "output_type": "stream",
     "text": [
      "==== Expected input format of Evaluator for ogbn-arxiv\n",
      "{'y_true': y_true, 'y_pred': y_pred}\n",
      "- y_true: numpy ndarray or torch tensor of shape (num_node, num_task)\n",
      "- y_pred: numpy ndarray or torch tensor of shape (num_node, num_task)\n",
      "where y_pred stores predicted class label (integer),\n",
      "num_task is 1, and each row corresponds to one node.\n",
      "\n"
     ]
    }
   ],
   "source": [
    "print(evaluator.expected_input_format) "
   ]
  },
  {
   "cell_type": "code",
   "execution_count": 128,
   "id": "d2a58d85",
   "metadata": {},
   "outputs": [
    {
     "name": "stdout",
     "output_type": "stream",
     "text": [
      "==== Expected output format of Evaluator for ogbn-arxiv\n",
      "{'acc': acc}\n",
      "- acc (float): Accuracy score averaged across 1 task(s)\n",
      "\n"
     ]
    }
   ],
   "source": [
    "print(evaluator.expected_output_format)"
   ]
  },
  {
   "cell_type": "raw",
   "id": "6ab865ab",
   "metadata": {},
   "source": [
    "def test(...):\n",
    "    ....\n",
    "    ....\n",
    "    # update the evaluator\n",
    "    train_acc = evaluator.eval({'y_true': data.y[split_idx['train']],\n",
    "                                'y_pred': y_pred[split_idx['train']],\n",
    "                               })['acc']\n",
    "    ...\n",
    "    ..."
   ]
  },
  {
   "cell_type": "markdown",
   "id": "2d81c6c8",
   "metadata": {},
   "source": [
    "### NOTE:\n",
    "we have different evaluators for node property predictions, graphs predictions and link predictions"
   ]
  },
  {
   "cell_type": "code",
   "execution_count": 130,
   "id": "1e67ba9e",
   "metadata": {},
   "outputs": [
    {
     "data": {
      "text/plain": [
       "\"==== Expected input format of Evaluator for ogbl-ppa\\n{'y_pred_pos': y_pred_pos, 'y_pred_neg': y_pred_neg}\\n- y_pred_pos: numpy ndarray or torch tensor of shape (num_edge, ). Torch tensor on GPU is recommended for efficiency.\\n- y_pred_neg: numpy ndarray or torch tensor of shape (num_edge, ). Torch tensor on GPU is recommended for efficiency.\\ny_pred_pos is the predicted scores for positive edges.\\ny_pred_neg is the predicted scores for negative edges.\\nNote: As the evaluation metric is ranking-based, the predicted scores need to be different for different edges.\""
      ]
     },
     "execution_count": 130,
     "metadata": {},
     "output_type": "execute_result"
    }
   ],
   "source": [
    "# link property prediction\n",
    "from ogb.linkproppred import Evaluator as ev\n",
    "ev(name='ogbl-ppa').expected_input_format"
   ]
  },
  {
   "cell_type": "code",
   "execution_count": 131,
   "id": "90e48cd6",
   "metadata": {},
   "outputs": [
    {
     "data": {
      "text/plain": [
       "\"==== Expected input format of Evaluator for ogbg-molesol\\n{'y_true': y_true, 'y_pred': y_pred}\\n- y_true: numpy ndarray or torch tensor of shape (num_graph, num_task)\\n- y_pred: numpy ndarray or torch tensor of shape (num_graph, num_task)\\nwhere num_task is 1, and each row corresponds to one graph.\\nnan values in y_true are ignored during evaluation.\\n\""
      ]
     },
     "execution_count": 131,
     "metadata": {},
     "output_type": "execute_result"
    }
   ],
   "source": [
    "# link property prediction\n",
    "from ogb.graphproppred import Evaluator as ev\n",
    "ev(name='ogbg-molesol').expected_input_format"
   ]
  },
  {
   "cell_type": "markdown",
   "id": "eeadf291",
   "metadata": {},
   "source": [
    "### END NOTE."
   ]
  },
  {
   "cell_type": "markdown",
   "id": "36fae77f",
   "metadata": {},
   "source": [
    "## Train as usual "
   ]
  },
  {
   "cell_type": "code",
   "execution_count": 133,
   "id": "c2980694",
   "metadata": {},
   "outputs": [
    {
     "name": "stdout",
     "output_type": "stream",
     "text": [
      "Epoch: 01, Loss: 3.8387, Train: 3.13%, Valid: 3.50% Test: 3.05%\n",
      "Epoch: 02, Loss: 3.7599, Train: 6.91%, Valid: 11.72% Test: 10.12%\n",
      "Epoch: 03, Loss: 3.6827, Train: 10.27%, Valid: 20.56% Test: 18.83%\n",
      "Epoch: 04, Loss: 3.6160, Train: 11.34%, Valid: 23.01% Test: 21.72%\n",
      "Epoch: 05, Loss: 3.5406, Train: 11.57%, Valid: 23.51% Test: 22.15%\n",
      "Epoch: 06, Loss: 3.4743, Train: 12.00%, Valid: 23.75% Test: 22.22%\n",
      "Epoch: 07, Loss: 3.4187, Train: 14.14%, Valid: 24.40% Test: 22.72%\n",
      "Epoch: 08, Loss: 3.3502, Train: 17.28%, Valid: 25.72% Test: 23.49%\n",
      "Epoch: 09, Loss: 3.2883, Train: 20.09%, Valid: 26.78% Test: 24.07%\n",
      "Epoch: 10, Loss: 3.2392, Train: 22.03%, Valid: 27.60% Test: 24.58%\n",
      "Epoch: 11, Loss: 3.1865, Train: 23.41%, Valid: 28.13% Test: 25.04%\n",
      "Epoch: 12, Loss: 3.1393, Train: 24.44%, Valid: 28.61% Test: 25.48%\n",
      "Epoch: 13, Loss: 3.0874, Train: 25.27%, Valid: 28.95% Test: 25.82%\n",
      "Epoch: 14, Loss: 3.0547, Train: 25.98%, Valid: 29.19% Test: 26.07%\n",
      "Epoch: 15, Loss: 2.9981, Train: 26.52%, Valid: 29.46% Test: 26.33%\n",
      "Epoch: 16, Loss: 2.9524, Train: 27.03%, Valid: 29.71% Test: 26.48%\n",
      "Epoch: 17, Loss: 2.9182, Train: 27.43%, Valid: 29.84% Test: 26.63%\n",
      "Epoch: 18, Loss: 2.8850, Train: 27.81%, Valid: 30.02% Test: 26.78%\n",
      "Epoch: 19, Loss: 2.8547, Train: 28.18%, Valid: 30.20% Test: 26.89%\n",
      "Epoch: 20, Loss: 2.8149, Train: 28.49%, Valid: 30.41% Test: 26.98%\n",
      "Epoch: 21, Loss: 2.7804, Train: 28.80%, Valid: 30.60% Test: 27.16%\n",
      "Epoch: 22, Loss: 2.7477, Train: 29.11%, Valid: 30.81% Test: 27.31%\n",
      "Epoch: 23, Loss: 2.7211, Train: 29.46%, Valid: 31.02% Test: 27.48%\n",
      "Epoch: 24, Loss: 2.6955, Train: 29.85%, Valid: 31.29% Test: 27.65%\n",
      "Epoch: 25, Loss: 2.6604, Train: 30.36%, Valid: 31.71% Test: 27.88%\n",
      "Epoch: 26, Loss: 2.6347, Train: 30.96%, Valid: 32.08% Test: 28.17%\n",
      "Epoch: 27, Loss: 2.6080, Train: 31.65%, Valid: 32.51% Test: 28.48%\n",
      "Epoch: 28, Loss: 2.5830, Train: 32.42%, Valid: 33.12% Test: 28.92%\n",
      "Epoch: 29, Loss: 2.5569, Train: 33.30%, Valid: 33.91% Test: 29.42%\n",
      "Epoch: 30, Loss: 2.5335, Train: 34.27%, Valid: 34.65% Test: 30.09%\n",
      "Epoch: 31, Loss: 2.5080, Train: 35.19%, Valid: 35.43% Test: 30.83%\n",
      "Epoch: 32, Loss: 2.4859, Train: 36.30%, Valid: 36.33% Test: 31.67%\n",
      "Epoch: 33, Loss: 2.4606, Train: 37.45%, Valid: 37.36% Test: 32.68%\n",
      "Epoch: 34, Loss: 2.4387, Train: 38.62%, Valid: 38.42% Test: 33.87%\n",
      "Epoch: 35, Loss: 2.4225, Train: 39.61%, Valid: 39.42% Test: 35.05%\n",
      "Epoch: 36, Loss: 2.4015, Train: 40.47%, Valid: 40.65% Test: 36.52%\n",
      "Epoch: 37, Loss: 2.3758, Train: 41.41%, Valid: 41.72% Test: 37.85%\n",
      "Epoch: 38, Loss: 2.3556, Train: 42.14%, Valid: 42.75% Test: 39.23%\n",
      "Epoch: 39, Loss: 2.3405, Train: 42.85%, Valid: 43.78% Test: 40.62%\n",
      "Epoch: 40, Loss: 2.3219, Train: 43.41%, Valid: 44.55% Test: 41.94%\n",
      "Epoch: 41, Loss: 2.3042, Train: 43.82%, Valid: 45.28% Test: 42.99%\n",
      "Epoch: 42, Loss: 2.2835, Train: 44.19%, Valid: 45.90% Test: 43.81%\n",
      "Epoch: 43, Loss: 2.2683, Train: 44.52%, Valid: 46.38% Test: 44.44%\n",
      "Epoch: 44, Loss: 2.2519, Train: 44.85%, Valid: 46.72% Test: 44.92%\n",
      "Epoch: 45, Loss: 2.2330, Train: 45.20%, Valid: 47.07% Test: 45.32%\n",
      "Epoch: 46, Loss: 2.2186, Train: 45.50%, Valid: 47.28% Test: 45.66%\n",
      "Epoch: 47, Loss: 2.2076, Train: 45.84%, Valid: 47.55% Test: 46.08%\n",
      "Epoch: 48, Loss: 2.1941, Train: 46.16%, Valid: 47.75% Test: 46.30%\n",
      "Epoch: 49, Loss: 2.1755, Train: 46.51%, Valid: 48.03% Test: 46.55%\n",
      "Epoch: 50, Loss: 2.1628, Train: 46.92%, Valid: 48.29% Test: 46.74%\n"
     ]
    }
   ],
   "source": [
    "optimizer = torch.optim.Adam(model.parameters(), lr=0.001)\n",
    "for epoch in range(1, 1 + epochs):\n",
    "    loss = train(model, data, train_idx, optimizer)\n",
    "    result = test(model, data, split_idx, evaluator)\n",
    "\n",
    "    if epoch % print_steps == 0:\n",
    "        train_acc, valid_acc, test_acc = result\n",
    "        print(f'Epoch: {epoch:02d}, '\n",
    "              f'Loss: {loss:.4f}, '\n",
    "              f'Train: {100 * train_acc:.2f}%, '\n",
    "              f'Valid: {100 * valid_acc:.2f}% '\n",
    "              f'Test: {100 * test_acc:.2f}%')\n"
   ]
  },
  {
   "cell_type": "code",
   "execution_count": 16,
   "id": "f8a9b9e1",
   "metadata": {},
   "outputs": [
    {
     "data": {
      "text/plain": [
       "'/home/kangjunekoo/MachineLearning/MachineLearning/MyStudy/AdvancePyTorchGeometricTutorials-main/Tutorial1/.ipynb_checkpoints'"
      ]
     },
     "execution_count": 16,
     "metadata": {},
     "output_type": "execute_result"
    }
   ],
   "source": [
    "pwd"
   ]
  },
  {
   "cell_type": "code",
   "execution_count": 17,
   "id": "6990da73",
   "metadata": {},
   "outputs": [
    {
     "name": "stdout",
     "output_type": "stream",
     "text": [
      "\u001b[0m\u001b[01;34mdataset\u001b[0m/  Tutorial_1-checkpoint.ipynb\n"
     ]
    }
   ],
   "source": [
    "ls"
   ]
  },
  {
   "cell_type": "code",
   "execution_count": 18,
   "id": "ad22174c",
   "metadata": {},
   "outputs": [
    {
     "name": "stdout",
     "output_type": "stream",
     "text": [
      "/home/kangjunekoo/MachineLearning/MachineLearning/MyStudy/AdvancePyTorchGeometricTutorials-main/Tutorial1/.ipynb_checkpoints/dataset/ogbn_arxiv\n"
     ]
    }
   ],
   "source": [
    "cd dataset/ogbn_arxiv"
   ]
  },
  {
   "cell_type": "code",
   "execution_count": 19,
   "id": "ff648441",
   "metadata": {},
   "outputs": [
    {
     "data": {
      "text/plain": [
       "'/home/kangjunekoo/MachineLearning/MachineLearning/MyStudy/AdvancePyTorchGeometricTutorials-main/Tutorial1/.ipynb_checkpoints/dataset/ogbn_arxiv'"
      ]
     },
     "execution_count": 19,
     "metadata": {},
     "output_type": "execute_result"
    }
   ],
   "source": [
    "pwd"
   ]
  },
  {
   "cell_type": "code",
   "execution_count": 20,
   "id": "0e69f5e1",
   "metadata": {},
   "outputs": [
    {
     "name": "stdout",
     "output_type": "stream",
     "text": [
      "\u001b[0m\u001b[01;34mmapping\u001b[0m/  \u001b[01;34mprocessed\u001b[0m/  \u001b[01;34mraw\u001b[0m/  RELEASE_v1.txt  \u001b[01;34msplit\u001b[0m/\n"
     ]
    }
   ],
   "source": [
    "ls"
   ]
  },
  {
   "cell_type": "markdown",
   "id": "06933721",
   "metadata": {},
   "source": []
  },
  {
   "cell_type": "code",
   "execution_count": 21,
   "id": "33e49ed8",
   "metadata": {},
   "outputs": [
    {
     "name": "stdout",
     "output_type": "stream",
     "text": [
      "/home/kangjunekoo/MachineLearning/MachineLearning/MyStudy/AdvancePyTorchGeometricTutorials-main/Tutorial1/.ipynb_checkpoints/dataset/ogbn_arxiv/mapping\n"
     ]
    }
   ],
   "source": [
    "cd mapping"
   ]
  },
  {
   "cell_type": "code",
   "execution_count": 30,
   "id": "826703a2",
   "metadata": {},
   "outputs": [
    {
     "ename": "SyntaxError",
     "evalue": "invalid syntax (2234638568.py, line 1)",
     "output_type": "error",
     "traceback": [
      "\u001b[0;36m  File \u001b[0;32m\"/tmp/ipykernel_155887/2234638568.py\"\u001b[0;36m, line \u001b[0;32m1\u001b[0m\n\u001b[0;31m    gzip -d nodeidx2paperid.csv.gz\u001b[0m\n\u001b[0m                          ^\u001b[0m\n\u001b[0;31mSyntaxError\u001b[0m\u001b[0;31m:\u001b[0m invalid syntax\n"
     ]
    }
   ],
   "source": [
    "gzip -d nodeidx2paperid.csv.gz"
   ]
  },
  {
   "cell_type": "code",
   "execution_count": null,
   "id": "8c7f4393",
   "metadata": {},
   "outputs": [],
   "source": []
  }
 ],
 "metadata": {
  "kernelspec": {
   "display_name": "Python 3 (ipykernel)",
   "language": "python",
   "name": "python3"
  },
  "language_info": {
   "codemirror_mode": {
    "name": "ipython",
    "version": 3
   },
   "file_extension": ".py",
   "mimetype": "text/x-python",
   "name": "python",
   "nbconvert_exporter": "python",
   "pygments_lexer": "ipython3",
   "version": "3.7.11"
  }
 },
 "nbformat": 4,
 "nbformat_minor": 5
}
