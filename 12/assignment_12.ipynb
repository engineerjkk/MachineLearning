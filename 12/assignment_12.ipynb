{
 "cells": [
  {
   "cell_type": "markdown",
   "metadata": {},
   "source": [
    "# Principal Component Analysis"
   ]
  },
  {
   "cell_type": "markdown",
   "metadata": {},
   "source": [
    "## import library"
   ]
  },
  {
   "cell_type": "code",
   "execution_count": 231,
   "metadata": {},
   "outputs": [],
   "source": [
    "import numpy as np\n",
    "import matplotlib.pyplot as plt\n",
    "import matplotlib.colors as colors\n",
    "from matplotlib import cm"
   ]
  },
  {
   "cell_type": "markdown",
   "metadata": {},
   "source": [
    "## load data"
   ]
  },
  {
   "cell_type": "code",
   "execution_count": 232,
   "metadata": {},
   "outputs": [
    {
     "name": "stdout",
     "output_type": "stream",
     "text": [
      "number of data : 50\n",
      "number of feature : 2\n"
     ]
    }
   ],
   "source": [
    "fname_data  = 'assignment_12_data.txt'\n",
    "feature0    = np.genfromtxt(fname_data, delimiter=',')\n",
    "\n",
    "number_data     = np.size(feature0, 0)\n",
    "number_feature  = np.size(feature0, 1)\n",
    "\n",
    "print('number of data : {}'.format(number_data))\n",
    "print('number of feature : {}'.format(number_feature))"
   ]
  },
  {
   "cell_type": "markdown",
   "metadata": {},
   "source": [
    "## plot the input data"
   ]
  },
  {
   "cell_type": "code",
   "execution_count": 233,
   "metadata": {},
   "outputs": [
    {
     "data": {
      "image/png": "[encoded data removed]",
      "text/plain": [
       "<Figure size 576x576 with 1 Axes>"
      ]
     },
     "metadata": {
      "needs_background": "light"
     },
     "output_type": "display_data"
    }
   ],
   "source": [
    "plt.figure(figsize=(8,8))   \n",
    "plt.title('input data')\n",
    "\n",
    "x0 = feature0[:,0]\n",
    "y0 = feature0[:,1]\n",
    "\n",
    "plt.scatter(x0, y0, color='blue')\n",
    "\n",
    "plt.tight_layout()\n",
    "plt.show()"
   ]
  },
  {
   "cell_type": "markdown",
   "metadata": {},
   "source": [
    "## Normalization (Z-scoring)\n",
    "- shape of feature = $n \\times m$ where $n$ is the number of data and $m$ is the dimension of features"
   ]
  },
  {
   "cell_type": "code",
   "execution_count": 234,
   "metadata": {},
   "outputs": [],
   "source": [
    "def normalize(feature):\n",
    "\n",
    "    # ++++++++++++++++++++++++++++++++++++++++++++++++++\n",
    "    # complete the blanks\n",
    "    #\n",
    "\n",
    "    feature_normalize = feature - np.mean(feature , axis = 0)\n",
    "    #\n",
    "    # ++++++++++++++++++++++++++++++++++++++++++++++++++\n",
    "    \n",
    "    return feature_normalize"
   ]
  },
  {
   "cell_type": "code",
   "execution_count": 235,
   "metadata": {},
   "outputs": [],
   "source": [
    "feature = normalize(feature0)\n",
    "\n",
    "x   = feature[:, 0]\n",
    "y   = feature[:, 1]\n",
    "\n",
    "min_x = np.min(x)\n",
    "min_y = np.min(y)\n",
    "\n",
    "max_x = np.max(x)\n",
    "max_y = np.max(y)"
   ]
  },
  {
   "cell_type": "markdown",
   "metadata": {},
   "source": []
  },
  {
   "cell_type": "markdown",
   "metadata": {},
   "source": [
    "## compute covariance matrix\n",
    "- shape of feature = $n \\times m$ where $n$ is the number of data and $m$ is the dimension of features"
   ]
  },
  {
   "cell_type": "code",
   "execution_count": 236,
   "metadata": {},
   "outputs": [],
   "source": [
    "def compute_covariance(feature):\n",
    "\n",
    "    # ++++++++++++++++++++++++++++++++++++++++++++++++++\n",
    "    # complete the blanks\n",
    "    #\n",
    "    #Sigma= (1/len(feature)) * np.sum(np.inner(feature,feature))\n",
    "    #feature_normalize=normalize(feature)\n",
    "    #Sigma = np.cov(feature_normalize , rowvar = False)\n",
    "    std=np.std(feature, axis = 0)\n",
    "    feature=feature/std\n",
    "    Sigma=(feature.T @ feature)/(feature.shape[0]-1)\n",
    "    #X = (dataset - dataset.mean(axis=0))/dataset.std(axis=0)\n",
    "\n",
    "    #cov_mat = (X_std - mean_vec).T.dot((X_std - mean_vec)) / (X_std.shape[0]-1)\n",
    "\n",
    "    #\n",
    "    # ++++++++++++++++++++++++++++++++++++++++++++++++++\n",
    "\n",
    "    return Sigma"
   ]
  },
  {
   "cell_type": "markdown",
   "metadata": {},
   "source": [
    "## compute principal components\n",
    "- `np.linalg.eig`\n",
    "- `argsort()`\n",
    "- return the eigenvalues and the eigenvectors in a decreasing order according to the eigenvalues"
   ]
  },
  {
   "cell_type": "code",
   "execution_count": 237,
   "metadata": {},
   "outputs": [],
   "source": [
    "def compute_principal_component(feature):\n",
    "\n",
    "    # ++++++++++++++++++++++++++++++++++++++++++++++++++\n",
    "    # complete the blanks\n",
    "    #\n",
    "\n",
    "    cov_mat=compute_covariance(feature)\n",
    "    global eig_vals\n",
    "    global eig_vecs \n",
    "    eig_vals, eig_vecs = np.linalg.eig(cov_mat) \n",
    "\n",
    "    max_abs_idx = np.argmax(np.abs(eig_vecs), axis=0)\n",
    "    signs = np.sign(eig_vecs[max_abs_idx, range(eig_vecs.shape[0])])\n",
    "    eig_vecs = eig_vecs*signs[np.newaxis,:]\n",
    "    eig_vecs = eig_vecs.T\n",
    "\n",
    "    eig_pairs = [(np.abs(eig_vals[i]), eig_vecs[i,:]) for i in range(len(eig_vals))]\n",
    "\n",
    "    # Then, we sort the tuples from the highest to the lowest based on eigenvalues magnitude\n",
    "    eig_pairs.sort(key=lambda x: x[0], reverse=True)\n",
    "\n",
    "    # For further usage\n",
    "    eig_vals_sorted = np.array([x[0] for x in eig_pairs])\n",
    "    eig_vecs_sorted = np.array([x[1] for x in eig_pairs])\n",
    "\n",
    "    print(eig_pairs)\n",
    "    principal_component_1=eig_pairs[0]\n",
    "    principal_component_2=eig_pairs[1]\n",
    "\n",
    "\n",
    "    #\n",
    "    # ++++++++++++++++++++++++++++++++++++++++++++++++++\n",
    "     \n",
    "    return (principal_component_1, principal_component_2)"
   ]
  },
  {
   "cell_type": "code",
   "execution_count": 238,
   "metadata": {},
   "outputs": [],
   "source": [
    "# cov_mat=compute_covariance(feature)\n",
    "# eig_vals, eig_vecs = np.linalg.eig(cov_mat) \n",
    "\n",
    "# max_abs_idx = np.argmax(np.abs(eig_vecs), axis=0)\n",
    "# signs = np.sign(eig_vecs[max_abs_idx, range(eig_vecs.shape[0])])\n",
    "# eig_vecs = eig_vecs*signs[np.newaxis,:]\n",
    "# eig_vecs = eig_vecs.T\n",
    "\n",
    "# eig_pairs = [(np.abs(eig_vals[i]), eig_vecs[i,:]) for i in range(len(eig_vals))]\n",
    "\n",
    "# # Then, we sort the tuples from the highest to the lowest based on eigenvalues magnitude\n",
    "# eig_pairs.sort(key=lambda x: x[0], reverse=True)\n",
    "\n",
    "# # For further usage\n",
    "# eig_vals_sorted = np.array([x[0] for x in eig_pairs])\n",
    "# eig_vecs_sorted = np.array([x[1] for x in eig_pairs])\n",
    "\n",
    "# principal_component_1=eig_pairs[0]\n",
    "# principal_component_2=eig_pairs[1]\n",
    "\n",
    "# print(principal_component_1)\n",
    "# print(principal_component_2)"
   ]
  },
  {
   "cell_type": "code",
   "execution_count": 239,
   "metadata": {},
   "outputs": [
    {
     "data": {
      "image/png": "[encoded data removed]",
      "text/plain": [
       "<Figure size 432x288 with 1 Axes>"
      ]
     },
     "metadata": {
      "needs_background": "light"
     },
     "output_type": "display_data"
    }
   ],
   "source": [
    "line = np.linspace(min_x, max_x, 1000)\n",
    "plt.scatter(feature[:, 0],feature[:, 1])\n",
    "plt.plot(line, eig_vecs[0][1]/eig_vecs[0][0] * line , linestyle='solid', label='First eigenvector')\n",
    "plt.plot(line, eig_vecs[1][1]/eig_vecs[1][0] * line , linestyle='solid', label='Second eigenvector')\n",
    "plt.legend()\n",
    "plt.show()"
   ]
  },
  {
   "cell_type": "code",
   "execution_count": 240,
   "metadata": {},
   "outputs": [],
   "source": [
    "w_ord_indx = np.argsort(np.abs(eig_vals))[::-1]\n",
    "feature_vector = eig_vecs[:,w_ord_indx[:1]]\n",
    "T = feature @ feature_vector"
   ]
  },
  {
   "cell_type": "code",
   "execution_count": 241,
   "metadata": {},
   "outputs": [
    {
     "data": {
      "image/png": "[encoded data removed]",
      "text/plain": [
       "<Figure size 432x288 with 1 Axes>"
      ]
     },
     "metadata": {
      "needs_background": "light"
     },
     "output_type": "display_data"
    }
   ],
   "source": [
    "plt.scatter(T,[1]*len(T)) #Put this at height 1 to see our distribution well\n",
    "plt.show()"
   ]
  },
  {
   "cell_type": "markdown",
   "metadata": {},
   "source": [
    "## compute the projection of point onto the axis\n",
    "- `np.matmul`\n",
    "- `np.dot`\n",
    "- shape of feature = $n \\times m$ where $n$ is the number of data and $m$ is the dimension of features\n",
    "- shape of vector = $m \\times 1$ where $m$ is the dimension of features"
   ]
  },
  {
   "cell_type": "code",
   "execution_count": 242,
   "metadata": {},
   "outputs": [],
   "source": [
    "def compute_projection_onto_line(feature, vector):\n",
    "\n",
    "    # ++++++++++++++++++++++++++++++++++++++++++++++++++\n",
    "    # complete the blanks\n",
    "    #\n",
    "\n",
    "    projection=np.matmul(feature,vector)\n",
    "\n",
    "    #\n",
    "    # ++++++++++++++++++++++++++++++++++++++++++++++++++\n",
    "\n",
    "    return projection"
   ]
  },
  {
   "cell_type": "markdown",
   "metadata": {},
   "source": [
    "## compute the principal components and the projection of feature"
   ]
  },
  {
   "cell_type": "code",
   "execution_count": 243,
   "metadata": {},
   "outputs": [
    {
     "name": "stdout",
     "output_type": "stream",
     "text": [
      "[(1.7709489835143186, array([0.70710678, 0.70710678])), (0.26986734301629334, array([-0.70710678,  0.70710678]))]\n"
     ]
    }
   ],
   "source": [
    "\n",
    "(principal_component_1, principal_component_2) = compute_principal_component(feature)\n",
    "\n",
    "projection1 = compute_projection_onto_line(feature, principal_component_1)\n",
    "projection2 = compute_projection_onto_line(feature, principal_component_2)"
   ]
  },
  {
   "cell_type": "markdown",
   "metadata": {},
   "source": [
    "---"
   ]
  },
  {
   "cell_type": "markdown",
   "metadata": {},
   "source": [
    "---"
   ]
  },
  {
   "cell_type": "markdown",
   "metadata": {},
   "source": [
    "## functions for presenting the results"
   ]
  },
  {
   "cell_type": "markdown",
   "metadata": {},
   "source": [
    "---"
   ]
  },
  {
   "cell_type": "markdown",
   "metadata": {},
   "source": [
    "---"
   ]
  },
  {
   "cell_type": "code",
   "execution_count": 244,
   "metadata": {},
   "outputs": [],
   "source": [
    "def function_result_01():\n",
    "   \n",
    "    plt.figure(figsize=(8,8))\n",
    "    plt.title('data normalized by z-scoring')\n",
    "    plt.scatter(x, y, color='blue')\n",
    "\n",
    "    plt.xlim(min_x - 0.5, max_x + 0.5)\n",
    "    plt.ylim(min_y - 0.5, max_y + 0.5)\n",
    "\n",
    "    plt.tight_layout()\n",
    "    plt.show()"
   ]
  },
  {
   "cell_type": "code",
   "execution_count": 245,
   "metadata": {},
   "outputs": [],
   "source": [
    "def function_result_02():\n",
    "\n",
    "    plt.figure(figsize=(8,8))\n",
    "    plt.title('principal components')\n",
    "\n",
    "    # ++++++++++++++++++++++++++++++++++++++++++++++++++\n",
    "    # complete the blanks\n",
    "    #\n",
    "\n",
    "\n",
    "\n",
    "\n",
    "    #\n",
    "    # ++++++++++++++++++++++++++++++++++++++++++++++++++\n",
    "\n",
    "    plt.xlim(min_x - 0.5, max_x + 0.5)\n",
    "    plt.ylim(min_y - 0.5, max_y + 0.5)\n",
    "\n",
    "    plt.tight_layout()\n",
    "    plt.show()"
   ]
  },
  {
   "cell_type": "code",
   "execution_count": 246,
   "metadata": {},
   "outputs": [],
   "source": [
    "def function_result_03():\n",
    "\n",
    "    plt.figure(figsize=(8,8))\n",
    "    plt.title('first principle axis')\n",
    "\n",
    "    # ++++++++++++++++++++++++++++++++++++++++++++++++++\n",
    "    # complete the blanks\n",
    "    #\n",
    "    line = np.linspace(min_x, max_x, 1000)\n",
    "    plt.scatter(feature[:, 0],feature[:, 1])\n",
    "    plt.plot(line, eig_vecs[0][1]/eig_vecs[0][0] * line , linestyle='solid', label='First eigenvector')\n",
    "    #plt.plot(line, eig_vecs[1][1]/eig_vecs[1][0] * line , linestyle='solid', label='Second eigenvector')\n",
    "\n",
    "\n",
    "    #\n",
    "    # ++++++++++++++++++++++++++++++++++++++++++++++++++\n",
    "\n",
    "    plt.xlim(min_x - 0.5, max_x + 0.5)\n",
    "    plt.ylim(min_y - 0.5, max_y + 0.5)\n",
    "\n",
    "    plt.tight_layout()\n",
    "    plt.show()"
   ]
  },
  {
   "cell_type": "code",
   "execution_count": 247,
   "metadata": {},
   "outputs": [],
   "source": [
    "def function_result_04():\n",
    "\n",
    "    plt.figure(figsize=(8,8))\n",
    "    plt.title('second principle axis')\n",
    "\n",
    "    # ++++++++++++++++++++++++++++++++++++++++++++++++++\n",
    "    # complete the blanks\n",
    "    #\n",
    "    line = np.linspace(min_x, max_x, 1000)\n",
    "    plt.scatter(feature[:, 0],feature[:, 1])\n",
    "    #plt.plot(line, eig_vecs[0][1]/eig_vecs[0][0] * line , linestyle='solid', label='First eigenvector')\n",
    "    plt.plot(line, eig_vecs[1][1]/eig_vecs[1][0] * line , linestyle='solid', label='Second eigenvector')\n",
    "\n",
    "\n",
    "    #\n",
    "    # ++++++++++++++++++++++++++++++++++++++++++++++++++\n",
    "\n",
    "    plt.xlim(min_x - 0.5, max_x + 0.5)\n",
    "    plt.ylim(min_y - 0.5, max_y + 0.5)\n",
    "\n",
    "    plt.tight_layout()\n",
    "    plt.show()"
   ]
  },
  {
   "cell_type": "code",
   "execution_count": 248,
   "metadata": {},
   "outputs": [],
   "source": [
    "def function_result_05():\n",
    "\n",
    "    plt.figure(figsize=(8,8))\n",
    "    plt.title('projection onto the first principle axis')\n",
    "\n",
    "    # ++++++++++++++++++++++++++++++++++++++++++++++++++\n",
    "    # complete the blanks\n",
    "    #\n",
    "\n",
    "\n",
    "\n",
    "    #\n",
    "    # ++++++++++++++++++++++++++++++++++++++++++++++++++\n",
    "\n",
    "    plt.xlim(min_x - 0.5, max_x + 0.5)\n",
    "    plt.ylim(min_y - 0.5, max_y + 0.5)\n",
    "\n",
    "    plt.tight_layout()\n",
    "    plt.show()\n"
   ]
  },
  {
   "cell_type": "code",
   "execution_count": 249,
   "metadata": {},
   "outputs": [],
   "source": [
    "def function_result_06():\n",
    "\n",
    "    plt.figure(figsize=(8,8))\n",
    "    plt.title('projection onto the second principle axis')\n",
    "\n",
    "    # ++++++++++++++++++++++++++++++++++++++++++++++++++\n",
    "    # complete the blanks\n",
    "    #\n",
    "\n",
    "\n",
    "\n",
    "    #\n",
    "    # ++++++++++++++++++++++++++++++++++++++++++++++++++\n",
    "\n",
    "    plt.xlim(min_x - 0.5, max_x + 0.5)\n",
    "    plt.ylim(min_y - 0.5, max_y + 0.5)\n",
    "\n",
    "    plt.tight_layout()\n",
    "    plt.show()"
   ]
  },
  {
   "cell_type": "code",
   "execution_count": 250,
   "metadata": {},
   "outputs": [],
   "source": [
    "def function_result_07():\n",
    "\n",
    "    plt.figure(figsize=(8,8))\n",
    "    plt.title('projection onto the first principle axis')\n",
    "\n",
    "    # ++++++++++++++++++++++++++++++++++++++++++++++++++\n",
    "    # complete the blanks\n",
    "    #\n",
    "\n",
    "\n",
    "\n",
    "    #\n",
    "    # ++++++++++++++++++++++++++++++++++++++++++++++++++\n",
    "\n",
    "    plt.xlim(min_x - 0.5, max_x + 0.5)\n",
    "    plt.ylim(min_y - 0.5, max_y + 0.5)\n",
    "\n",
    "    plt.tight_layout()\n",
    "    plt.show()"
   ]
  },
  {
   "cell_type": "code",
   "execution_count": 251,
   "metadata": {},
   "outputs": [],
   "source": [
    "def function_result_08():\n",
    "\n",
    "    plt.figure(figsize=(8,8))\n",
    "    plt.title('projection to the second principle axis')\n",
    "\n",
    "    # ++++++++++++++++++++++++++++++++++++++++++++++++++\n",
    "    # complete the blanks\n",
    "    #\n",
    "\n",
    "\n",
    "\n",
    "    #\n",
    "    # ++++++++++++++++++++++++++++++++++++++++++++++++++\n",
    "\n",
    "    plt.xlim(min_x - 0.5, max_x + 0.5)\n",
    "    plt.ylim(min_y - 0.5, max_y + 0.5)\n",
    "\n",
    "    plt.tight_layout()\n",
    "    plt.show()"
   ]
  },
  {
   "cell_type": "markdown",
   "metadata": {},
   "source": [
    "---"
   ]
  },
  {
   "cell_type": "markdown",
   "metadata": {},
   "source": [
    "---"
   ]
  },
  {
   "cell_type": "markdown",
   "metadata": {},
   "source": [
    "## results"
   ]
  },
  {
   "cell_type": "markdown",
   "metadata": {},
   "source": [
    "---"
   ]
  },
  {
   "cell_type": "markdown",
   "metadata": {},
   "source": [
    "---"
   ]
  },
  {
   "cell_type": "code",
   "execution_count": 252,
   "metadata": {},
   "outputs": [
    {
     "name": "stdout",
     "output_type": "stream",
     "text": [
      "**************************************************\n",
      "## [RESULT 01]\n",
      "**************************************************\n"
     ]
    },
    {
     "data": {
      "image/png": "[encoded data removed]",
      "text/plain": [
       "<Figure size 576x576 with 1 Axes>"
      ]
     },
     "metadata": {
      "needs_background": "light"
     },
     "output_type": "display_data"
    },
    {
     "name": "stdout",
     "output_type": "stream",
     "text": [
      "**************************************************\n",
      "## [RESULT 02]\n",
      "**************************************************\n"
     ]
    },
    {
     "data": {
      "image/png": "[encoded data removed]",
      "text/plain": [
       "<Figure size 576x576 with 1 Axes>"
      ]
     },
     "metadata": {
      "needs_background": "light"
     },
     "output_type": "display_data"
    },
    {
     "name": "stdout",
     "output_type": "stream",
     "text": [
      "**************************************************\n",
      "## [RESULT 03]\n",
      "**************************************************\n"
     ]
    },
    {
     "data": {
      "image/png": "[encoded data removed]",
      "text/plain": [
       "<Figure size 576x576 with 1 Axes>"
      ]
     },
     "metadata": {
      "needs_background": "light"
     },
     "output_type": "display_data"
    },
    {
     "name": "stdout",
     "output_type": "stream",
     "text": [
      "**************************************************\n",
      "## [RESULT 04]\n",
      "**************************************************\n"
     ]
    },
    {
     "data": {
      "image/png": "[encoded data removed]",
      "text/plain": [
       "<Figure size 576x576 with 1 Axes>"
      ]
     },
     "metadata": {
      "needs_background": "light"
     },
     "output_type": "display_data"
    },
    {
     "name": "stdout",
     "output_type": "stream",
     "text": [
      "**************************************************\n",
      "## [RESULT 05]\n",
      "**************************************************\n"
     ]
    },
    {
     "data": {
      "image/png": "[encoded data removed]",
      "text/plain": [
       "<Figure size 576x576 with 1 Axes>"
      ]
     },
     "metadata": {
      "needs_background": "light"
     },
     "output_type": "display_data"
    },
    {
     "name": "stdout",
     "output_type": "stream",
     "text": [
      "**************************************************\n",
      "## [RESULT 06]\n",
      "**************************************************\n"
     ]
    },
    {
     "data": {
      "image/png": "[encoded data removed]",
      "text/plain": [
       "<Figure size 576x576 with 1 Axes>"
      ]
     },
     "metadata": {
      "needs_background": "light"
     },
     "output_type": "display_data"
    },
    {
     "name": "stdout",
     "output_type": "stream",
     "text": [
      "**************************************************\n",
      "## [RESULT 07]\n",
      "**************************************************\n"
     ]
    },
    {
     "data": {
      "image/png": "[encoded data removed]",
      "text/plain": [
       "<Figure size 576x576 with 1 Axes>"
      ]
     },
     "metadata": {
      "needs_background": "light"
     },
     "output_type": "display_data"
    },
    {
     "name": "stdout",
     "output_type": "stream",
     "text": [
      "**************************************************\n",
      "## [RESULT 08]\n",
      "**************************************************\n"
     ]
    },
    {
     "data": {
      "image/png": "[encoded data removed]",
      "text/plain": [
       "<Figure size 576x576 with 1 Axes>"
      ]
     },
     "metadata": {
      "needs_background": "light"
     },
     "output_type": "display_data"
    }
   ],
   "source": [
    "number_result = 8\n",
    "\n",
    "for i in range(number_result):\n",
    "    title = '## [RESULT {:02d}]'.format(i+1)\n",
    "    name_function = 'function_result_{:02d}()'.format(i+1)\n",
    "\n",
    "    print('**************************************************')\n",
    "    print(title)\n",
    "    print('**************************************************')\n",
    "    eval(name_function)"
   ]
  }
 ],
 "metadata": {
  "interpreter": {
   "hash": "5b08175206277820f0c44fd2a13babdee03b1be52cf5dcfd1d18de0248cbfd15"
  },
  "kernelspec": {
   "display_name": "Python 3.7.11 ('pytorch')",
   "language": "python",
   "name": "python3"
  },
  "language_info": {
   "codemirror_mode": {
    "name": "ipython",
    "version": 3
   },
   "file_extension": ".py",
   "mimetype": "text/x-python",
   "name": "python",
   "nbconvert_exporter": "python",
   "pygments_lexer": "ipython3",
   "version": "3.7.11"
  },
  "metadata": {
   "interpreter": {
    "hash": "aee8b7b246df8f9039afb4144a1f6fd8d2ca17a180786b69acc140d282b71a49"
   }
  }
 },
 "nbformat": 4,
 "nbformat_minor": 1
}
