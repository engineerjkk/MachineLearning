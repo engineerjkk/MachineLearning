{
 "cells": [
  {
   "cell_type": "markdown",
   "metadata": {},
   "source": [
    "# Logistic Regression with non-linear features"
   ]
  },
  {
   "cell_type": "markdown",
   "metadata": {},
   "source": [
    "## import library"
   ]
  },
  {
   "cell_type": "code",
   "execution_count": 92,
   "metadata": {},
   "outputs": [],
   "source": [
    "import numpy as np\n",
    "import matplotlib.pyplot as plt\n",
    "import matplotlib.colors as colors\n",
    "from matplotlib import ticker, cm"
   ]
  },
  {
   "cell_type": "markdown",
   "metadata": {},
   "source": [
    "## load training data"
   ]
  },
  {
   "cell_type": "code",
   "execution_count": 93,
   "metadata": {},
   "outputs": [
    {
     "name": "stdout",
     "output_type": "stream",
     "text": [
      "shape of point in train data =  (500, 2)\n",
      "shape of point in test data =  (500, 2)\n",
      "shape of label in train data =  (500,)\n",
      "shape of label in test data =  (500,)\n",
      "data type of point x in train data =  float64\n",
      "data type of point y in train data =  float64\n",
      "data type of point x in test data =  float64\n",
      "data type of point y in test data =  float64\n"
     ]
    }
   ],
   "source": [
    "fname_data_train    = 'assignment_10_data_train.csv'\n",
    "fname_data_test     = 'assignment_10_data_test.csv'\n",
    "\n",
    "data_train          = np.genfromtxt(fname_data_train, delimiter=',')\n",
    "data_test           = np.genfromtxt(fname_data_test, delimiter=',')\n",
    "\n",
    "number_data_train   = data_train.shape[0]\n",
    "number_data_test    = data_test.shape[0]\n",
    "\n",
    "data_train_point    = data_train[:, 0:2]\n",
    "data_train_point_x  = data_train_point[:, 0]\n",
    "data_train_point_y  = data_train_point[:, 1]\n",
    "data_train_label    = data_train[:, 2]\n",
    "\n",
    "data_test_point     = data_test[:, 0:2]\n",
    "data_test_point_x   = data_test_point[:, 0]\n",
    "data_test_point_y   = data_test_point[:, 1]\n",
    "data_test_label     = data_test[:, 2]\n",
    "\n",
    "data_train_label_class_0    = (data_train_label == 0)\n",
    "data_train_label_class_1    = (data_train_label == 1)\n",
    "\n",
    "data_test_label_class_0     = (data_test_label == 0)\n",
    "data_test_label_class_1     = (data_test_label == 1)\n",
    "\n",
    "data_train_point_x_class_0  = data_train_point_x[data_train_label_class_0]\n",
    "data_train_point_y_class_0  = data_train_point_y[data_train_label_class_0]\n",
    "\n",
    "data_train_point_x_class_1  = data_train_point_x[data_train_label_class_1]\n",
    "data_train_point_y_class_1  = data_train_point_y[data_train_label_class_1]\n",
    "\n",
    "data_test_point_x_class_0   = data_test_point_x[data_test_label_class_0]\n",
    "data_test_point_y_class_0   = data_test_point_y[data_test_label_class_0]\n",
    "\n",
    "data_test_point_x_class_1   = data_test_point_x[data_test_label_class_1]\n",
    "data_test_point_y_class_1   = data_test_point_y[data_test_label_class_1]\n",
    "\n",
    "print('shape of point in train data = ', data_train_point.shape)\n",
    "print('shape of point in test data = ', data_train_point.shape)\n",
    "\n",
    "print('shape of label in train data = ', data_test_label.shape)\n",
    "print('shape of label in test data = ', data_test_label.shape)\n",
    "\n",
    "print('data type of point x in train data = ', data_train_point_x.dtype)\n",
    "print('data type of point y in train data = ', data_train_point_y.dtype)\n",
    "\n",
    "print('data type of point x in test data = ', data_test_point_x.dtype)\n",
    "print('data type of point y in test data = ', data_test_point_y.dtype)\n"
   ]
  },
  {
   "cell_type": "code",
   "execution_count": 94,
   "metadata": {},
   "outputs": [
    {
     "data": {
      "text/plain": [
       "array([[ 1.13519776e+00, -4.28388638e-03],\n",
       "       [ 1.11377161e+00,  4.58133671e-01],\n",
       "       [ 1.72780268e+00,  2.12184711e-01],\n",
       "       [ 1.95124583e+00,  4.02954242e-01],\n",
       "       [ 1.12486145e+00,  3.15589788e-01],\n",
       "       [ 1.97493322e+00,  2.66385515e-01],\n",
       "       [ 1.59623892e+00,  1.69884250e-01],\n",
       "       [ 1.38612850e+00,  1.01692049e+00],\n",
       "       [ 1.70863145e+00,  1.04569430e+00],\n",
       "       [ 1.43985800e+00,  9.01284857e-01],\n",
       "       [ 1.26158063e+00,  4.37532043e-01],\n",
       "       [ 1.69326225e+00,  8.20650514e-01],\n",
       "       [ 1.64222171e+00,  8.66117578e-01],\n",
       "       [ 1.74692488e+00,  9.51397236e-01],\n",
       "       [ 1.23733984e+00,  1.95444477e-01],\n",
       "       [ 1.43558970e+00,  4.35472819e-01],\n",
       "       [ 1.64826051e+00,  6.27122237e-01],\n",
       "       [ 1.21170924e+00,  4.27833288e-01],\n",
       "       [ 1.62070668e+00,  3.74800382e-01],\n",
       "       [ 1.44343403e+00,  3.75441398e-01],\n",
       "       [ 1.17091175e+00,  7.91520297e-01],\n",
       "       [ 1.48746685e+00,  5.19493341e-01],\n",
       "       [ 1.11213962e+00,  4.27371429e-01],\n",
       "       [ 1.59328011e+00,  9.14423179e-01],\n",
       "       [ 1.25837213e+00,  1.06883433e+00],\n",
       "       [ 1.34850779e+00,  4.74496183e-01],\n",
       "       [ 1.50321594e+00,  7.56841194e-01],\n",
       "       [ 1.94104714e+00,  8.77594626e-01],\n",
       "       [ 1.60644126e+00,  1.22501086e+00],\n",
       "       [ 1.74033834e+00,  6.66559678e-01],\n",
       "       [ 1.51085991e+00,  1.32422199e+00],\n",
       "       [ 1.07915891e+00,  1.36092805e+00],\n",
       "       [ 1.81845589e+00,  2.00215891e-01],\n",
       "       [ 1.55745903e+00,  8.36653833e-01],\n",
       "       [ 1.67536715e+00,  8.10058490e-01],\n",
       "       [ 1.40585602e+00,  1.12540306e+00],\n",
       "       [ 1.51120898e+00,  1.22985691e+00],\n",
       "       [ 1.81199747e+00,  7.68503827e-01],\n",
       "       [ 9.02020248e-01,  1.08141744e+00],\n",
       "       [ 1.49153436e+00,  4.97849704e-01],\n",
       "       [ 1.76531870e+00,  8.47716154e-01],\n",
       "       [ 1.91439387e+00,  5.95273783e-01],\n",
       "       [ 1.76852463e+00,  5.83367576e-01],\n",
       "       [ 1.92272246e+00,  6.04328355e-01],\n",
       "       [ 1.37062108e+00,  5.55955606e-01],\n",
       "       [ 1.70392535e+00,  8.50444360e-01],\n",
       "       [ 1.68004425e+00,  1.43133638e+00],\n",
       "       [ 9.73230496e-01,  9.86015067e-01],\n",
       "       [ 1.53817344e+00,  8.77282843e-01],\n",
       "       [ 1.06396197e+00,  1.44028933e+00],\n",
       "       [ 1.00465721e+00,  1.28949145e+00],\n",
       "       [ 9.11881563e-01,  1.32276742e+00],\n",
       "       [ 1.21395537e+00,  9.64803804e-01],\n",
       "       [ 1.36989757e+00,  1.28440068e+00],\n",
       "       [ 1.12754539e+00,  9.58562940e-01],\n",
       "       [ 1.76721854e+00,  1.22236360e+00],\n",
       "       [ 1.04719336e+00,  1.46527980e+00],\n",
       "       [ 5.76437584e-01,  1.03976379e+00],\n",
       "       [ 1.76210774e+00,  6.83370230e-01],\n",
       "       [ 8.91669037e-01,  8.00372127e-01],\n",
       "       [ 9.50366313e-01,  1.57073811e+00],\n",
       "       [ 1.55708323e+00,  1.15983856e+00],\n",
       "       [ 1.45261893e+00,  1.20490098e+00],\n",
       "       [ 1.60830913e+00,  1.48142831e+00],\n",
       "       [ 8.07180359e-01,  1.46620716e+00],\n",
       "       [ 7.48206641e-01,  1.52955177e+00],\n",
       "       [ 1.34983131e+00,  1.76427764e+00],\n",
       "       [ 1.55013934e+00,  1.00912959e+00],\n",
       "       [ 9.44755333e-01,  1.06309269e+00],\n",
       "       [ 1.41968753e+00,  1.69082489e+00],\n",
       "       [ 1.38169308e+00,  7.38291579e-01],\n",
       "       [ 9.63341794e-01,  1.46668924e+00],\n",
       "       [ 9.50597805e-01,  1.10256393e+00],\n",
       "       [ 1.17989218e+00,  1.25010376e+00],\n",
       "       [ 9.32228965e-01,  1.34508860e+00],\n",
       "       [ 9.58083013e-01,  1.15827801e+00],\n",
       "       [ 1.17517709e+00,  1.53526635e+00],\n",
       "       [ 1.41231449e+00,  1.65248178e+00],\n",
       "       [ 8.93018520e-01,  1.61481801e+00],\n",
       "       [ 9.50437802e-01,  1.01755182e+00],\n",
       "       [ 8.21655296e-01,  1.62421436e+00],\n",
       "       [ 7.14628995e-01,  9.48405117e-01],\n",
       "       [ 7.41457174e-01,  1.45426419e+00],\n",
       "       [ 1.10167752e+00,  8.81259180e-01],\n",
       "       [ 9.77879404e-01,  1.95425786e+00],\n",
       "       [ 1.38299509e+00,  1.18630659e+00],\n",
       "       [ 9.66027357e-01,  1.41397872e+00],\n",
       "       [ 1.00818724e+00,  1.38873985e+00],\n",
       "       [ 7.35212771e-01,  1.21243801e+00],\n",
       "       [ 1.20991790e+00,  1.67994751e+00],\n",
       "       [ 1.11760228e+00,  1.58351184e+00],\n",
       "       [ 1.12997170e+00,  1.38311600e+00],\n",
       "       [ 8.03764392e-01,  1.20169709e+00],\n",
       "       [ 6.73774633e-01,  1.62446066e+00],\n",
       "       [ 1.17324613e+00,  1.93691526e+00],\n",
       "       [ 6.84936344e-01,  1.93964642e+00],\n",
       "       [ 8.31329223e-01,  1.66351774e+00],\n",
       "       [ 1.02186394e+00,  1.94957846e+00],\n",
       "       [ 9.38905599e-01,  1.49064985e+00],\n",
       "       [ 7.92829034e-01,  1.13585000e+00],\n",
       "       [ 4.81177031e-01,  1.84309391e+00],\n",
       "       [ 5.86939294e-01,  1.38557856e+00],\n",
       "       [ 8.93805032e-01,  8.64865783e-01],\n",
       "       [ 6.87556948e-01,  1.50199807e+00],\n",
       "       [ 5.56407006e-01,  1.80553166e+00],\n",
       "       [ 4.57256939e-01,  1.92520306e+00],\n",
       "       [ 1.56645764e-01,  9.95024471e-01],\n",
       "       [ 8.27770038e-01,  1.86863318e+00],\n",
       "       [ 1.17626549e+00,  1.58651515e+00],\n",
       "       [ 1.83722159e-01,  1.68885496e+00],\n",
       "       [ 9.87993499e-01,  1.36687991e+00],\n",
       "       [ 2.90622858e-02,  1.52808967e+00],\n",
       "       [ 7.13345889e-02,  1.91352202e+00],\n",
       "       [ 7.20424170e-01,  1.38036720e+00],\n",
       "       [ 1.05288647e+00,  1.13080126e+00],\n",
       "       [ 7.69124816e-01,  1.00442771e+00],\n",
       "       [ 6.62124632e-02,  1.22497656e+00],\n",
       "       [ 8.66514935e-01,  1.05702911e+00],\n",
       "       [ 1.04162643e+00,  1.49226078e+00],\n",
       "       [ 1.19748019e-01,  1.80835416e+00],\n",
       "       [ 7.08117813e-01,  1.88915185e+00],\n",
       "       [ 2.12476816e-01,  1.07439966e+00],\n",
       "       [ 7.98778240e-01,  1.30455619e+00],\n",
       "       [ 2.68091446e-01,  1.22652827e+00],\n",
       "       [ 8.53899113e-02,  2.08613396e+00],\n",
       "       [ 7.13749160e-01,  1.67871030e+00],\n",
       "       [ 5.10437070e-01,  1.74965732e+00],\n",
       "       [ 8.42849853e-01,  1.40895238e+00],\n",
       "       [ 7.03588269e-01,  1.63085073e+00],\n",
       "       [-2.20316714e-01,  9.58197651e-01],\n",
       "       [ 1.54950271e-01,  1.85942305e+00],\n",
       "       [ 5.57950368e-01,  1.49223125e+00],\n",
       "       [ 4.82632131e-01,  2.10107649e+00],\n",
       "       [ 3.07916570e-01,  1.05448616e+00],\n",
       "       [ 4.64350997e-01,  1.39507631e+00],\n",
       "       [ 8.92709390e-01,  1.55676994e+00],\n",
       "       [ 5.44902584e-01,  1.88128642e+00],\n",
       "       [-6.87057683e-02,  1.39677996e+00],\n",
       "       [ 3.83125690e-01,  1.17480408e+00],\n",
       "       [ 7.30131316e-01,  1.91258847e+00],\n",
       "       [ 3.86157084e-01,  1.72350293e+00],\n",
       "       [-1.39371691e-01,  9.91876635e-01],\n",
       "       [ 7.43630823e-01,  1.50176528e+00],\n",
       "       [-7.44492283e-02,  1.32970201e+00],\n",
       "       [-7.86284834e-02,  1.71211465e+00],\n",
       "       [ 3.92215900e-01,  1.93636970e+00],\n",
       "       [ 9.67982646e-02,  1.32105487e+00],\n",
       "       [ 1.02196935e-01,  1.85380848e+00],\n",
       "       [ 6.67514399e-01,  1.10971278e+00],\n",
       "       [ 4.96055872e-01,  1.04242131e+00],\n",
       "       [ 3.33514115e-01,  1.49531800e+00],\n",
       "       [-5.99042725e-04,  1.96750395e+00],\n",
       "       [ 4.98763871e-01,  1.49856583e+00],\n",
       "       [ 2.78245845e-01,  1.30912497e+00],\n",
       "       [ 3.20336351e-01,  1.89295320e+00],\n",
       "       [ 1.23596630e-01,  9.04800125e-01],\n",
       "       [ 5.57571648e-01,  1.68355649e+00],\n",
       "       [-1.05702737e-01,  1.64578627e+00],\n",
       "       [ 2.90229204e-03,  1.40877560e+00],\n",
       "       [ 3.58152817e-01,  1.14867833e+00],\n",
       "       [-1.36581741e-01,  1.11151242e+00],\n",
       "       [-9.70950868e-02,  1.42624208e+00],\n",
       "       [ 1.44832512e-01,  1.74382920e+00],\n",
       "       [-2.77090914e-01,  1.31472282e+00],\n",
       "       [ 5.14492932e-01,  1.33050558e+00],\n",
       "       [ 3.44410862e-01,  1.05249255e+00],\n",
       "       [-3.62219695e-01,  1.31295131e+00],\n",
       "       [ 5.62014664e-01,  1.24399490e+00],\n",
       "       [ 1.08968346e-01,  1.32290365e+00],\n",
       "       [-3.43548765e-01,  1.62818344e+00],\n",
       "       [ 1.24602774e-01,  1.80849747e+00],\n",
       "       [-3.75681802e-01,  1.51450373e+00],\n",
       "       [ 4.26278993e-01,  1.18973535e+00],\n",
       "       [ 2.36776457e-01,  8.21540985e-01],\n",
       "       [ 1.33593361e-01,  1.15520213e+00],\n",
       "       [ 2.29213850e-01,  1.46161690e+00],\n",
       "       [-4.17007408e-01,  1.39052776e+00],\n",
       "       [ 3.12292103e-01,  1.11289316e+00],\n",
       "       [-1.75773441e-01,  1.28729282e+00],\n",
       "       [ 5.19688091e-03,  1.40652292e+00],\n",
       "       [-6.62797861e-01,  1.29897795e+00],\n",
       "       [ 2.72605618e-01,  1.86810658e+00],\n",
       "       [ 3.60283728e-02,  1.22776150e+00],\n",
       "       [-2.22535177e-01,  1.32870954e+00],\n",
       "       [ 1.20582150e-01,  1.40918298e+00],\n",
       "       [ 3.05604657e-01,  1.27598953e+00],\n",
       "       [ 5.83546050e-02,  7.77636677e-01],\n",
       "       [-5.47644084e-01,  1.22093986e+00],\n",
       "       [-5.14223202e-01,  9.27510859e-01],\n",
       "       [-6.12458102e-01,  1.05725667e+00],\n",
       "       [-6.96949479e-01,  1.34349706e+00],\n",
       "       [-3.25358976e-01,  1.15788449e+00],\n",
       "       [-4.83928305e-01,  1.62485458e+00],\n",
       "       [ 3.71454066e-01,  1.37825215e+00],\n",
       "       [-8.51145422e-01,  8.31275329e-01],\n",
       "       [-6.06426986e-01,  1.13079334e+00],\n",
       "       [-8.99972485e-02,  1.55727759e+00],\n",
       "       [-2.29737189e-01,  1.37491913e+00],\n",
       "       [-2.98582977e-02,  8.30509288e-01],\n",
       "       [-1.51674789e-01,  8.02451705e-01],\n",
       "       [-1.18804293e-01,  1.51996777e+00],\n",
       "       [-5.98826073e-01,  1.26445383e+00],\n",
       "       [-5.80114933e-01,  7.80282214e-01],\n",
       "       [ 3.92578580e-01,  7.79025692e-01],\n",
       "       [-4.78164709e-01,  1.29206205e+00],\n",
       "       [-3.86185745e-01,  4.80375511e-01],\n",
       "       [-3.76288953e-01,  6.17105209e-01],\n",
       "       [-4.07166813e-01,  6.45963949e-01],\n",
       "       [-2.85632115e-01,  1.30767452e+00],\n",
       "       [-7.73354380e-01,  9.52187343e-01],\n",
       "       [-4.29416298e-01,  1.22135320e+00],\n",
       "       [-7.40979178e-01,  1.47564721e+00],\n",
       "       [-6.35875611e-01,  1.43429207e+00],\n",
       "       [-8.86092292e-01,  1.13885947e+00],\n",
       "       [-4.91809554e-01,  1.22966764e+00],\n",
       "       [-4.86125532e-01,  1.02611875e+00],\n",
       "       [-3.05514070e-01,  5.67948199e-01],\n",
       "       [-5.61478673e-02,  8.51528265e-01],\n",
       "       [-5.92521421e-01,  1.37273177e+00],\n",
       "       [-5.71435825e-01,  6.40137411e-01],\n",
       "       [-1.45407005e-01,  8.17274142e-01],\n",
       "       [-4.89315400e-01,  6.61483934e-01],\n",
       "       [-4.59112494e-01,  1.17985222e+00],\n",
       "       [-9.97202971e-01,  9.66242600e-01],\n",
       "       [-7.97687236e-01,  1.23950237e+00],\n",
       "       [-1.12613642e+00,  1.03992864e+00],\n",
       "       [-1.01954244e+00,  5.39334108e-01],\n",
       "       [-6.53732050e-01,  1.32167916e+00],\n",
       "       [-5.61977141e-01,  1.20389351e+00],\n",
       "       [-3.98988588e-01,  6.54544748e-01],\n",
       "       [-1.96013449e-01,  8.47381532e-01],\n",
       "       [-8.94728848e-01,  8.08590336e-01],\n",
       "       [-4.54639484e-01,  1.15161165e+00],\n",
       "       [-7.36156949e-01,  1.01412316e+00],\n",
       "       [-6.13941054e-01,  6.72594286e-01],\n",
       "       [-5.34307377e-01,  7.54646919e-01],\n",
       "       [ 3.02892523e-03,  6.62182315e-01],\n",
       "       [-7.28400050e-01,  5.58862640e-01],\n",
       "       [-9.09228927e-01,  3.07141692e-02],\n",
       "       [-7.26001834e-01,  8.12269232e-01],\n",
       "       [-8.76694881e-01,  7.12631711e-01],\n",
       "       [-5.98969312e-01,  8.20548388e-01],\n",
       "       [-2.81181749e-01,  9.85853109e-02],\n",
       "       [-7.78273882e-01, -1.33020606e-01],\n",
       "       [-1.73912360e-01,  7.51656463e-01],\n",
       "       [-3.80581364e-01,  4.37303423e-01],\n",
       "       [-2.94744072e-01,  7.39852518e-01],\n",
       "       [-1.95584139e-01,  1.04754509e+00],\n",
       "       [-1.96887539e-01,  9.08641056e-01],\n",
       "       [ 4.11694468e-02,  1.79335333e-01],\n",
       "       [ 2.73707964e+00,  6.15167802e-01],\n",
       "       [ 2.45769416e+00,  1.23019387e+00],\n",
       "       [ 2.54220436e+00,  1.01044322e+00],\n",
       "       [ 2.79377256e+00,  9.49814041e-01],\n",
       "       [ 2.80780844e+00,  5.04913900e-01],\n",
       "       [ 2.73660159e+00,  1.09888603e+00],\n",
       "       [ 2.58375544e+00,  4.31515693e-01],\n",
       "       [ 2.28991297e+00,  8.05590414e-01],\n",
       "       [ 2.36593872e+00,  1.52911535e+00],\n",
       "       [ 2.21754419e+00,  5.71098373e-01],\n",
       "       [ 2.90644543e+00,  1.15575568e+00],\n",
       "       [ 2.95497622e+00,  1.25753071e+00],\n",
       "       [ 2.93273212e+00,  7.90858824e-01],\n",
       "       [ 2.80220593e+00,  3.75276915e-01],\n",
       "       [ 2.01320719e+00,  6.80730191e-01],\n",
       "       [ 2.30332034e+00,  1.27319231e+00],\n",
       "       [ 2.40948349e+00,  1.09117954e+00],\n",
       "       [ 2.87250137e+00,  7.07797506e-01],\n",
       "       [ 2.56709648e+00,  1.20043342e+00],\n",
       "       [ 2.82662656e+00,  3.93523722e-01],\n",
       "       [ 2.72738594e+00,  4.12734545e-01],\n",
       "       [ 2.88302137e+00,  5.29007151e-01],\n",
       "       [ 2.78345946e+00,  1.75278154e-01],\n",
       "       [ 2.15086085e+00,  6.84440633e-01],\n",
       "       [ 2.93609642e+00,  5.73174335e-02],\n",
       "       [ 2.47357983e+00,  8.63979159e-01],\n",
       "       [ 2.65230681e+00,  3.70573423e-01],\n",
       "       [ 2.12647136e+00,  4.26776497e-01],\n",
       "       [ 2.45150526e+00,  1.39809441e-01],\n",
       "       [ 2.02187275e+00,  7.16359671e-01],\n",
       "       [ 2.40497440e+00,  8.86622670e-01],\n",
       "       [ 2.16675359e+00,  2.63855138e-01],\n",
       "       [ 2.30803108e+00,  1.60003120e-01],\n",
       "       [ 2.32139333e+00,  8.88515314e-01],\n",
       "       [ 2.39139926e+00,  1.88722494e-01],\n",
       "       [ 2.17191043e+00,  9.53847109e-01],\n",
       "       [ 2.69259251e+00,  7.69230434e-01],\n",
       "       [ 2.94121675e+00,  5.08072633e-01],\n",
       "       [ 2.28805431e+00,  9.17591828e-01],\n",
       "       [ 1.91043653e+00,  6.09973565e-01],\n",
       "       [ 2.69848728e+00,  4.50771061e-01],\n",
       "       [ 2.38175325e+00,  4.13821162e-01],\n",
       "       [ 2.05959274e+00,  1.07249389e+00],\n",
       "       [ 2.51560667e+00,  1.70898419e-01],\n",
       "       [ 2.42309392e+00,  1.18294509e-01],\n",
       "       [ 2.72751646e+00,  6.76216081e-01],\n",
       "       [ 2.01678914e+00,  4.76717014e-01],\n",
       "       [ 2.14060427e+00,  4.85403660e-01],\n",
       "       [ 2.00095387e+00,  1.34873697e-01],\n",
       "       [ 2.58753789e+00,  1.01112190e+00],\n",
       "       [ 2.01450106e+00,  4.00859875e-01],\n",
       "       [ 2.50985396e+00, -1.53303929e-01],\n",
       "       [ 2.30157589e+00,  2.82274024e-01],\n",
       "       [ 2.12935698e+00,  6.25532906e-01],\n",
       "       [ 2.12051489e+00,  1.89458517e-01],\n",
       "       [ 2.47282130e+00,  1.03542958e-01],\n",
       "       [ 2.44980054e+00,  7.79426144e-01],\n",
       "       [ 2.39575705e+00,  1.29893439e-02],\n",
       "       [ 2.07853223e+00,  4.78685050e-01],\n",
       "       [ 1.88914397e+00,  2.24147155e-01],\n",
       "       [ 2.35059333e+00,  8.34352625e-02],\n",
       "       [ 1.82353819e+00, -8.85210798e-02],\n",
       "       [ 2.18092123e+00,  3.85821446e-01],\n",
       "       [ 2.35001533e+00,  4.84435723e-01],\n",
       "       [ 2.03544260e+00,  4.03742915e-02],\n",
       "       [ 2.18896302e+00,  4.66934929e-01],\n",
       "       [ 2.56327884e+00,  5.03344994e-01],\n",
       "       [ 1.96246008e+00, -5.29065948e-02],\n",
       "       [ 2.59682369e+00, -1.24768332e-01],\n",
       "       [ 2.07560646e+00,  2.02811608e-01],\n",
       "       [ 1.56478690e+00,  4.17807279e-02],\n",
       "       [ 2.16127037e+00,  3.22216988e-01],\n",
       "       [ 1.91038512e+00,  1.77719381e-01],\n",
       "       [ 2.30146264e+00, -1.26850009e-01],\n",
       "       [ 1.75828310e+00,  3.77096998e-01],\n",
       "       [ 2.54272306e+00,  3.76592213e-01],\n",
       "       [ 2.42651524e+00,  5.27408638e-01],\n",
       "       [ 2.26105550e+00,  4.10453219e-01],\n",
       "       [ 2.35414322e+00,  1.73117341e-01],\n",
       "       [ 1.70956917e+00,  1.99976658e-01],\n",
       "       [ 1.95397242e+00,  2.81932027e-01],\n",
       "       [ 2.54578191e+00,  4.90997047e-01],\n",
       "       [ 1.93478709e+00,  4.91057783e-01],\n",
       "       [ 1.91678138e+00, -3.50472074e-01],\n",
       "       [ 1.62675576e+00, -1.03566673e-01],\n",
       "       [ 1.71741909e+00, -4.16656907e-01],\n",
       "       [ 2.32871019e+00,  6.91245492e-01],\n",
       "       [ 2.31553618e+00, -2.44662100e-01],\n",
       "       [ 1.69757162e+00,  2.92329796e-01],\n",
       "       [ 1.52554713e+00,  1.05143300e-01],\n",
       "       [ 1.72947313e+00,  1.29701558e-01],\n",
       "       [ 2.05987613e+00, -1.01779851e-01],\n",
       "       [ 1.61411880e+00,  8.80973337e-02],\n",
       "       [ 1.99627325e+00,  2.85076028e-01],\n",
       "       [ 1.59431896e+00, -1.80602316e-01],\n",
       "       [ 2.35359843e+00,  2.23840562e-02],\n",
       "       [ 2.32910042e+00,  2.79198867e-01],\n",
       "       [ 1.55487623e+00, -6.51502178e-02],\n",
       "       [ 2.05627554e+00, -2.11163686e-01],\n",
       "       [ 2.18294979e+00, -1.25300454e-01],\n",
       "       [ 1.76804785e+00, -9.22350360e-02],\n",
       "       [ 2.40645297e+00,  2.23026382e-01],\n",
       "       [ 1.72612705e+00,  4.28406485e-01],\n",
       "       [ 2.03257113e+00,  4.44697151e-01],\n",
       "       [ 1.77181065e+00,  3.78470633e-01],\n",
       "       [ 2.18497892e+00,  2.48767934e-01],\n",
       "       [ 1.86832000e+00,  2.11181186e-01],\n",
       "       [ 1.87093141e+00,  3.49233036e-01],\n",
       "       [ 1.66607777e+00, -3.67306256e-01],\n",
       "       [ 2.30394206e+00, -6.79537132e-02],\n",
       "       [ 1.80394146e+00,  6.72494514e-01],\n",
       "       [ 2.16027560e+00, -3.64469301e-01],\n",
       "       [ 2.00086927e+00,  1.78069347e-01],\n",
       "       [ 1.73739684e+00,  5.14433242e-01],\n",
       "       [ 1.03306189e+00,  1.01902050e-01],\n",
       "       [ 1.60937292e+00,  4.28016931e-01],\n",
       "       [ 1.83637287e+00,  4.73867516e-02],\n",
       "       [ 1.72301557e+00, -3.48812273e-01],\n",
       "       [ 1.78801992e+00, -5.88132299e-01],\n",
       "       [ 1.71659855e+00, -2.66418033e-01],\n",
       "       [ 1.46128180e+00,  2.69698864e-01],\n",
       "       [ 1.67738725e+00, -3.84149136e-01],\n",
       "       [ 2.00124147e+00, -5.74951469e-02],\n",
       "       [ 1.14911287e+00, -4.68629834e-01],\n",
       "       [ 1.33585888e+00, -2.55140826e-01],\n",
       "       [ 1.71083580e+00, -2.73696821e-01],\n",
       "       [ 1.63721368e+00, -4.47812557e-02],\n",
       "       [ 1.98115919e+00,  4.61109890e-01],\n",
       "       [ 1.78754153e+00,  1.54529831e-01],\n",
       "       [ 1.09334443e+00,  5.07069007e-01],\n",
       "       [ 1.44407903e+00, -4.68250314e-02],\n",
       "       [ 1.31011346e+00,  2.48669805e-01],\n",
       "       [ 1.04593425e+00, -4.87360000e-01],\n",
       "       [ 8.52304850e-01, -1.53065242e-01],\n",
       "       [ 1.38846148e+00, -1.99723923e-01],\n",
       "       [ 1.83658215e+00, -1.21666682e-01],\n",
       "       [ 1.19168876e+00, -2.26052305e-02],\n",
       "       [ 1.62942093e+00, -3.04896898e-01],\n",
       "       [ 8.53685320e-01,  3.88981095e-01],\n",
       "       [ 1.13893863e+00, -2.73767299e-01],\n",
       "       [ 1.01085240e+00,  9.63860245e-02],\n",
       "       [ 1.78045162e+00,  3.71579514e-01],\n",
       "       [ 1.77994301e+00,  4.19560770e-01],\n",
       "       [ 1.87810968e+00, -1.00793240e-01],\n",
       "       [ 6.87083663e-01, -2.66068595e-01],\n",
       "       [ 1.02634402e+00,  4.44967915e-01],\n",
       "       [ 1.33245805e+00, -1.28184078e-01],\n",
       "       [ 1.63045545e+00,  6.42989723e-01],\n",
       "       [ 1.09239869e+00,  3.28054002e-01],\n",
       "       [ 1.42397111e+00,  1.21122276e-01],\n",
       "       [ 1.49496134e+00, -4.09321094e-02],\n",
       "       [ 1.70362556e+00, -3.37859352e-01],\n",
       "       [ 1.14873347e+00, -3.65685580e-01],\n",
       "       [ 1.17342369e+00,  8.73300735e-02],\n",
       "       [ 1.07474145e+00,  4.65030893e-02],\n",
       "       [ 1.00065181e+00, -1.59463274e-01],\n",
       "       [ 1.68118407e+00, -1.29630469e-01],\n",
       "       [ 1.21566532e+00, -7.11856885e-04],\n",
       "       [ 1.56469385e+00, -6.73440867e-02],\n",
       "       [ 1.46794360e+00,  1.36328687e-01],\n",
       "       [ 1.41860254e+00,  4.12668650e-01],\n",
       "       [ 1.09950186e+00,  1.26741993e-01],\n",
       "       [ 1.55029216e+00,  2.05346061e-01],\n",
       "       [ 1.45954303e+00,  5.33360236e-01],\n",
       "       [ 7.88750010e-01,  3.31448210e-01],\n",
       "       [ 1.20278748e+00,  7.07661571e-03],\n",
       "       [ 1.04953168e+00,  3.22976359e-01],\n",
       "       [ 1.54924781e+00, -1.07113787e-01],\n",
       "       [ 6.50214755e-01,  5.13016284e-01],\n",
       "       [ 1.42406173e+00,  2.43517482e-01],\n",
       "       [ 1.74733585e+00,  6.90708484e-01],\n",
       "       [ 6.86142443e-01,  5.88774832e-01],\n",
       "       [ 9.88207702e-01, -1.29550845e-01],\n",
       "       [ 3.60135720e-01, -1.26468020e-01],\n",
       "       [ 1.20134462e+00, -7.46017145e-02],\n",
       "       [ 1.15087255e+00,  1.84843858e-01],\n",
       "       [ 8.56019899e-01,  2.70506776e-01],\n",
       "       [ 7.61599230e-01,  5.81033632e-01],\n",
       "       [ 8.55841363e-01,  1.32359277e-01],\n",
       "       [ 1.50614995e+00, -7.17036978e-02],\n",
       "       [ 1.11189018e+00,  4.95200453e-01],\n",
       "       [ 1.27287698e+00,  1.51252717e-01],\n",
       "       [ 4.93048670e-01,  2.92285895e-03],\n",
       "       [ 1.05023921e+00, -4.81766704e-01],\n",
       "       [ 5.32268096e-01,  6.30557311e-01],\n",
       "       [ 6.96597664e-01,  7.96379195e-01],\n",
       "       [ 7.15990862e-01,  5.65815765e-01],\n",
       "       [ 7.24321731e-01,  4.98307821e-01],\n",
       "       [ 9.39543762e-01,  6.92259071e-01],\n",
       "       [ 8.93421114e-01,  6.10178838e-01],\n",
       "       [ 7.16555315e-01,  3.86150604e-01],\n",
       "       [ 5.25829621e-01,  3.44040731e-01],\n",
       "       [ 3.24732132e-01,  3.90242778e-02],\n",
       "       [ 3.06799110e-01, -3.54586142e-02],\n",
       "       [ 5.28934696e-01,  3.24835845e-01],\n",
       "       [ 6.83311108e-01, -1.69206472e-03],\n",
       "       [ 7.33311531e-01,  4.24267328e-01],\n",
       "       [ 1.75541594e-01,  5.22313110e-01],\n",
       "       [ 8.78992152e-01, -1.52740529e-01],\n",
       "       [ 1.00842643e+00, -3.45468062e-02],\n",
       "       [ 8.28207575e-01, -3.47429646e-03],\n",
       "       [ 8.54719934e-01,  7.98327891e-01],\n",
       "       [ 4.42324496e-01,  4.04035855e-01],\n",
       "       [ 8.42015495e-01,  7.62599764e-01],\n",
       "       [ 7.91626611e-01, -3.88474235e-02],\n",
       "       [ 4.67092266e-01,  2.97425000e-01],\n",
       "       [ 6.69412487e-01, -1.75227279e-01],\n",
       "       [ 6.37581982e-01,  4.77770982e-01],\n",
       "       [ 9.38025146e-01, -1.13652812e-01],\n",
       "       [ 6.26426841e-02,  8.22290591e-01],\n",
       "       [ 6.07821140e-01,  2.64955189e-01],\n",
       "       [ 5.52587384e-01,  2.94650696e-01],\n",
       "       [ 4.81404325e-01,  2.64719243e-01],\n",
       "       [ 1.06948676e+00,  7.43906608e-01],\n",
       "       [ 3.93118248e-01,  3.80856746e-01],\n",
       "       [ 5.03322501e-01,  1.18584172e+00],\n",
       "       [ 4.07755009e-01,  2.18624951e-01],\n",
       "       [ 7.37189518e-01,  6.15340511e-01],\n",
       "       [ 3.91817100e-01,  1.02836346e+00],\n",
       "       [ 8.13904990e-01,  6.77232064e-01],\n",
       "       [ 1.06390932e+00,  5.86391492e-01],\n",
       "       [ 1.17786897e-01,  1.15554436e+00],\n",
       "       [ 4.99099783e-01,  3.89650020e-01],\n",
       "       [ 4.43697591e-01,  2.61752081e-01],\n",
       "       [ 2.55002975e-01,  7.28337084e-01],\n",
       "       [ 1.08315822e+00,  9.03739356e-01],\n",
       "       [ 7.74867519e-01,  3.70474723e-01],\n",
       "       [ 1.01459092e+00,  2.66150482e-01],\n",
       "       [ 4.51467790e-01,  1.22376365e+00],\n",
       "       [ 7.38358979e-02,  4.16494126e-01],\n",
       "       [ 1.02364843e+00,  2.83106478e-01],\n",
       "       [ 8.43298615e-01,  5.00774718e-01],\n",
       "       [ 4.37739762e-01,  9.63674013e-01],\n",
       "       [ 7.21649902e-01,  1.13129688e+00],\n",
       "       [ 8.75831715e-01,  1.19135373e+00],\n",
       "       [ 7.76132048e-01,  8.70594969e-01],\n",
       "       [ 7.15988931e-01,  9.48775477e-01],\n",
       "       [ 2.88209048e-01,  1.06843015e+00],\n",
       "       [ 6.09550225e-02,  5.45306533e-01],\n",
       "       [ 2.32547068e-01,  8.89539284e-01],\n",
       "       [ 6.49399544e-01,  1.41579019e+00],\n",
       "       [ 7.46396740e-01,  1.32098512e+00],\n",
       "       [ 4.86201512e-01,  3.31386963e-01],\n",
       "       [ 5.29821732e-01,  9.62908006e-01],\n",
       "       [ 9.76932983e-01,  6.15283728e-01],\n",
       "       [ 2.39269821e-01,  6.84831294e-01],\n",
       "       [ 3.10950551e-01,  5.50223758e-01],\n",
       "       [ 4.95656726e-01,  1.17607972e+00],\n",
       "       [ 3.52645705e-01,  1.39115925e+00],\n",
       "       [ 9.52140527e-02,  4.43803140e-01]])"
      ]
     },
     "execution_count": 94,
     "metadata": {},
     "output_type": "execute_result"
    }
   ],
   "source": [
    "data_train_point"
   ]
  },
  {
   "cell_type": "markdown",
   "metadata": {},
   "source": [
    "## plot the data"
   ]
  },
  {
   "cell_type": "code",
   "execution_count": 95,
   "metadata": {},
   "outputs": [
    {
     "data": {
      "image/png": "[encoded data removed]",
      "text/plain": [
       "<Figure size 576x576 with 1 Axes>"
      ]
     },
     "metadata": {
      "needs_background": "light"
     },
     "output_type": "display_data"
    }
   ],
   "source": [
    "f = plt.figure(figsize=(8,8))   \n",
    "\n",
    "plt.title('points in train data')\n",
    "plt.plot(data_train_point_x_class_0, data_train_point_y_class_0, 'o', color='blue', label='class = 0')\n",
    "plt.plot(data_train_point_x_class_1, data_train_point_y_class_1, 'o', color='red', label='class = 1')\n",
    "plt.axis('equal')\n",
    "plt.legend()\n",
    "plt.tight_layout()\n",
    "plt.show()"
   ]
  },
  {
   "cell_type": "code",
   "execution_count": 96,
   "metadata": {},
   "outputs": [
    {
     "data": {
      "image/png": "[encoded data removed]",
      "text/plain": [
       "<Figure size 576x576 with 1 Axes>"
      ]
     },
     "metadata": {
      "needs_background": "light"
     },
     "output_type": "display_data"
    }
   ],
   "source": [
    "f = plt.figure(figsize=(8,8))   \n",
    "\n",
    "plt.title('points in test data')\n",
    "plt.plot(data_test_point_x_class_0, data_test_point_y_class_0, 'o', color='blue', label='class = 0')\n",
    "plt.plot(data_test_point_x_class_1, data_test_point_y_class_1, 'o', color='red', label='class = 1')\n",
    "plt.axis('equal')\n",
    "plt.legend()\n",
    "plt.tight_layout()\n",
    "plt.show()"
   ]
  },
  {
   "cell_type": "markdown",
   "metadata": {},
   "source": [
    "## define the feature functions"
   ]
  },
  {
   "cell_type": "markdown",
   "metadata": {},
   "source": [
    "- feature vector is defined by $(1, f_1(x, y), f_2(x, y), \\cdots, f_{k-1}(x, y)) \\in \\mathbb{R}^k$"
   ]
  },
  {
   "cell_type": "code",
   "execution_count": 97,
   "metadata": {},
   "outputs": [],
   "source": [
    "def compute_feature(point):\n",
    "\n",
    "    # ++++++++++++++++++++++++++++++++++++++++++++++++++\n",
    "    # complete the blanks\n",
    "    #\n",
    "    point_x   = point[:, 0]\n",
    "    point_y   = point[:, 1]\n",
    "    degree=2\n",
    "    if point_x.ndim > 0:\n",
    "        out = [np.ones(point_x.shape[0])]\n",
    "    else:\n",
    "        out = [np.ones(1)]\n",
    "\n",
    "    for i in range(1, degree + 1):\n",
    "        for j in range(i + 1):\n",
    "            out.append((point_x ** (i - j)) * (point_y ** j))\n",
    "\n",
    "    if point_x.ndim > 0:\n",
    "        return np.stack(out, axis=1)\n",
    "    else:\n",
    "        return np.array(out)\n",
    "\n",
    "    #\n",
    "    # ++++++++++++++++++++++++++++++++++++++++++++++++++\n",
    "\n",
    "    return feature"
   ]
  },
  {
   "cell_type": "markdown",
   "metadata": {},
   "source": [
    "## define the linear regression function"
   ]
  },
  {
   "cell_type": "markdown",
   "metadata": {},
   "source": [
    "- $\\theta = (\\theta_0, \\theta_1, \\cdots, \\theta_{k-1}) \\in \\mathbb{R}^k$\n",
    "- feature = $(1, f_1(x, y), \\cdots, f_{k-1}(x, y)) \\in \\mathbb{R}^k$"
   ]
  },
  {
   "cell_type": "code",
   "execution_count": 98,
   "metadata": {},
   "outputs": [],
   "source": [
    "def compute_linear_regression(theta, feature):\n",
    "\n",
    "    # ++++++++++++++++++++++++++++++++++++++++++++++++++\n",
    "    # complete the blanks\n",
    "    #\n",
    "    value = np.inner(theta,feature)\n",
    "\n",
    "    #\n",
    "    # ++++++++++++++++++++++++++++++++++++++++++++++++++\n",
    "    \n",
    "    return value"
   ]
  },
  {
   "cell_type": "markdown",
   "metadata": {},
   "source": [
    "## define sigmoid function with input"
   ]
  },
  {
   "cell_type": "markdown",
   "metadata": {},
   "source": [
    "- $z \\in \\mathbb{R}$"
   ]
  },
  {
   "cell_type": "code",
   "execution_count": 99,
   "metadata": {},
   "outputs": [],
   "source": [
    "def sigmoid(z):\n",
    "\n",
    "    # ++++++++++++++++++++++++++++++++++++++++++++++++++\n",
    "    # complete the blanks\n",
    "    #\n",
    "    value = 1/(1 + np.exp(-z))\n",
    "\n",
    "    #\n",
    "    # ++++++++++++++++++++++++++++++++++++++++++++++++++\n",
    "\n",
    "    return value "
   ]
  },
  {
   "cell_type": "markdown",
   "metadata": {},
   "source": [
    "## define the logistic regression function"
   ]
  },
  {
   "cell_type": "markdown",
   "metadata": {},
   "source": [
    "- $\\theta = (\\theta_0, \\theta_1, \\cdots, \\theta_{k-1}) \\in \\mathbb{R}^k$\n",
    "- feature $= (1, f_1(x, y), \\cdots, f_{k-1}(x, y) \\in \\mathbb{R}^k$"
   ]
  },
  {
   "cell_type": "code",
   "execution_count": 100,
   "metadata": {},
   "outputs": [],
   "source": [
    "def compute_logistic_regression(theta, feature):\n",
    "\n",
    "    # ++++++++++++++++++++++++++++++++++++++++++++++++++\n",
    "    # complete the blanks\n",
    "    #\n",
    "    y=compute_linear_regression(theta, feature)\n",
    "    value = sigmoid(y)\n",
    "\n",
    "    #\n",
    "    # ++++++++++++++++++++++++++++++++++++++++++++++++++\n",
    "\n",
    "    return value"
   ]
  },
  {
   "cell_type": "markdown",
   "metadata": {},
   "source": [
    "## define the residual function"
   ]
  },
  {
   "cell_type": "markdown",
   "metadata": {},
   "source": [
    "- $\\theta = (\\theta_0, \\theta_1, \\cdots, \\theta_{k-1}) \\in \\mathbb{R}^k$\n",
    "- feature $= (1, f_1(x, y), \\cdots, f_{k-1}(x, y) \\in \\mathbb{R}^k$\n",
    "- label $= l \\in \\{0, 1\\}^k$"
   ]
  },
  {
   "cell_type": "code",
   "execution_count": 101,
   "metadata": {},
   "outputs": [],
   "source": [
    "def compute_residual(theta, feature, label):\n",
    "\n",
    "    # ++++++++++++++++++++++++++++++++++++++++++++++++++\n",
    "    # complete the blanks\n",
    "    #\n",
    "    y=compute_logistic_regression(theta, feature)\n",
    "    residual=-label*np.log(y) - (1 - label)*np.log(1 - y)\n",
    "\n",
    "    #\n",
    "    # ++++++++++++++++++++++++++++++++++++++++++++++++++\n",
    "\n",
    "    return residual"
   ]
  },
  {
   "cell_type": "markdown",
   "metadata": {},
   "source": [
    "## define the loss function for the logistic regression"
   ]
  },
  {
   "cell_type": "markdown",
   "metadata": {},
   "source": [
    "- $\\theta = (\\theta_0, \\theta_1, \\cdots, \\theta_{k-1}) \\in \\mathbb{R}^k$\n",
    "- feature $= (1, f_1(x, y), \\cdots, f_{k-1}(x, y) \\in \\mathbb{R}^k$\n",
    "- label $= l \\in \\{0, 1\\}^k$"
   ]
  },
  {
   "cell_type": "code",
   "execution_count": 102,
   "metadata": {},
   "outputs": [],
   "source": [
    "def compute_loss(theta, feature, label, alpha):\n",
    "\n",
    "    # ++++++++++++++++++++++++++++++++++++++++++++++++++\n",
    "    # complete the blanks\n",
    "    #\n",
    "    loss = (1/number_data_train)*np.sum(compute_residual(theta, feature, label))\n",
    "\n",
    "    #\n",
    "    # ++++++++++++++++++++++++++++++++++++++++++++++++++\n",
    "\n",
    "    return loss"
   ]
  },
  {
   "cell_type": "markdown",
   "metadata": {},
   "source": [
    "## define the gradient of the loss with respect to the model parameter $\\theta$"
   ]
  },
  {
   "cell_type": "markdown",
   "metadata": {},
   "source": [
    "- $\\theta = (\\theta_0, \\theta_1, \\cdots, \\theta_{k-1}) \\in \\mathbb{R}^k$\n",
    "- feature $= (1, f_1(x, y), \\cdots, f_{k-1}(x, y) \\in \\mathbb{R}^k$\n",
    "- label $= l \\in \\{0, 1\\}^k$"
   ]
  },
  {
   "cell_type": "code",
   "execution_count": 103,
   "metadata": {},
   "outputs": [],
   "source": [
    "def compute_gradient(theta, feature, label, alpha):\n",
    "\n",
    "    # ++++++++++++++++++++++++++++++++++++++++++++++++++\n",
    "    # complete the blanks\n",
    "    #\n",
    "    gradient1=np.sum((compute_logistic_regression(theta, feature) - label)* feature[:,0])/number_data_train\n",
    "    gradient2=np.sum((compute_logistic_regression(theta, feature) - label)* feature[:,1])/number_data_train\n",
    "    gradient3=np.sum((compute_logistic_regression(theta, feature) - label)* feature[:,2])/number_data_train\n",
    "    gradient4=np.sum((compute_logistic_regression(theta, feature) - label)* feature[:,3])/number_data_train\n",
    "    gradient5=np.sum((compute_logistic_regression(theta, feature) - label)* feature[:,4])/number_data_train\n",
    "    gradient6=np.sum((compute_logistic_regression(theta, feature) - label)* feature[:,5])/number_data_train\n",
    "    gradient=np.array([gradient1,gradient2,gradient3,gradient4,gradient5,gradient6])\n",
    "    # gradient1=np.sum((compute_logistic_regression(theta, feature) - label)* feature[:,0])/number_data_train\n",
    "    # gradient2=np.sum((compute_logistic_regression(theta, feature) - label)* feature[:,1])/number_data_train\n",
    "    # gradient3=np.sum((compute_logistic_regression(theta, feature) - label)* feature[:,2])/number_data_train\n",
    "    # gradient4=np.sum((compute_logistic_regression(theta, feature) - label)* feature[:,3])/number_data_train\n",
    "    # gradient5=np.sum((compute_logistic_regression(theta, feature) - label)* feature[:,4])/number_data_train\n",
    "    # gradient6=np.sum((compute_logistic_regression(theta, feature) - label)* feature[:,5])/number_data_train\n",
    "    # gradient7=np.sum((compute_logistic_regression(theta, feature) - label)* feature[:,6])/number_data_train\n",
    "    # gradient8=np.sum((compute_logistic_regression(theta, feature) - label)* feature[:,7])/number_data_train\n",
    "    # gradient9=np.sum((compute_logistic_regression(theta, feature) - label)* feature[:,8])/number_data_train\n",
    "    # gradient10=np.sum((compute_logistic_regression(theta, feature) - label)* feature[:,9])/number_data_train\n",
    "    # gradient11=np.sum((compute_logistic_regression(theta, feature) - label)* feature[:,10])/number_data_train\n",
    "    # gradient12=np.sum((compute_logistic_regression(theta, feature) - label)* feature[:,11])/number_data_train\n",
    "    # gradient13=np.sum((compute_logistic_regression(theta, feature) - label)* feature[:,12])/number_data_train\n",
    "    # gradient14=np.sum((compute_logistic_regression(theta, feature) - label)* feature[:,13])/number_data_train\n",
    "    # gradient15=np.sum((compute_logistic_regression(theta, feature) - label)* feature[:,14])/number_data_train\n",
    "    # gradient16=np.sum((compute_logistic_regression(theta, feature) - label)* feature[:,15])/number_data_train\n",
    "    # gradient17=np.sum((compute_logistic_regression(theta, feature) - label)* feature[:,16])/number_data_train\n",
    "    # gradient18=np.sum((compute_logistic_regression(theta, feature) - label)* feature[:,17])/number_data_train\n",
    "    # gradient19=np.sum((compute_logistic_regression(theta, feature) - label)* feature[:,18])/number_data_train\n",
    "    # gradient20=np.sum((compute_logistic_regression(theta, feature) - label)* feature[:,19])/number_data_train\n",
    "    # gradient21=np.sum((compute_logistic_regression(theta, feature) - label)* feature[:,20])/number_data_train\n",
    "    # gradient22=np.sum((compute_logistic_regression(theta, feature) - label)* feature[:,21])/number_data_train\n",
    "    # gradient23=np.sum((compute_logistic_regression(theta, feature) - label)* feature[:,22])/number_data_train\n",
    "    # gradient24=np.sum((compute_logistic_regression(theta, feature) - label)* feature[:,23])/number_data_train\n",
    "    # gradient25=np.sum((compute_logistic_regression(theta, feature) - label)* feature[:,24])/number_data_train\n",
    "    # gradient26=np.sum((compute_logistic_regression(theta, feature) - label)* feature[:,25])/number_data_train\n",
    "    # gradient27=np.sum((compute_logistic_regression(theta, feature) - label)* feature[:,26])/number_data_train\n",
    "    # gradient28=np.sum((compute_logistic_regression(theta, feature) - label)* feature[:,27])/number_data_train\n",
    "    # gradient=np.array([gradient1,gradient2,gradient3,gradient4,gradient5,gradient6,gradient7,gradient8,gradient9,\n",
    "    # gradient10,gradient11,gradient12,gradient13,gradient14,gradient15,gradient16,gradient17,gradient18,\n",
    "    # gradient19,gradient20,gradient21,gradient22,gradient23,gradient24,gradient25,gradient26,gradient27,gradient28])\n",
    "\n",
    "    #\n",
    "    # ++++++++++++++++++++++++++++++++++++++++++++++++++\n",
    "\n",
    "    return gradient"
   ]
  },
  {
   "cell_type": "markdown",
   "metadata": {},
   "source": [
    "## compute the accuracy of the prediction for point with a given model parameter"
   ]
  },
  {
   "cell_type": "code",
   "execution_count": 104,
   "metadata": {},
   "outputs": [],
   "source": [
    "def compute_accuracy(theta, feature, label):\n",
    "\n",
    "    # ++++++++++++++++++++++++++++++++++++++++++++++++++\n",
    "    # complete the blanks\n",
    "    #\n",
    "    prob=compute_logistic_regression(theta, feature)\n",
    "    predicted_labels=np.where(prob>0.5,1,0)\n",
    "    diff = predicted_labels - label\n",
    "    accuracy=1.0 - (float(np.count_nonzero(diff)) / len(diff))        \n",
    "\n",
    "    #\n",
    "    # ++++++++++++++++++++++++++++++++++++++++++++++++++\n",
    "\n",
    "    return accuracy"
   ]
  },
  {
   "cell_type": "markdown",
   "metadata": {},
   "source": [
    "## initialize the gradient descent algorithm"
   ]
  },
  {
   "cell_type": "code",
   "execution_count": 105,
   "metadata": {
    "tags": []
   },
   "outputs": [],
   "source": [
    "number_iteration    = 1000 # you can change this value as you want \n",
    "learning_rate       = 0.01 # you can change this value as you want \n",
    "number_feature      = 6 # you can change this value as you want\n",
    "alpha               = 1 # you can change this value as you want\n",
    "\n",
    "theta                       = np.zeros(number_feature)\n",
    "loss_iteration_train        = np.zeros(number_iteration)\n",
    "loss_iteration_test         = np.zeros(number_iteration)\n",
    "accuracy_iteration_train    = np.zeros(number_iteration)\n",
    "accuracy_iteration_test     = np.zeros(number_iteration)"
   ]
  },
  {
   "cell_type": "markdown",
   "metadata": {},
   "source": [
    "## run the gradient descent algorithm to optimize the loss function with respect to the model parameter"
   ]
  },
  {
   "cell_type": "code",
   "execution_count": 106,
   "metadata": {
    "tags": [
     "outputPrepend"
    ]
   },
   "outputs": [],
   "source": [
    "for i in range(number_iteration):\n",
    "\n",
    "    # ++++++++++++++++++++++++++++++++++++++++++++++++++\n",
    "    # complete the blanks\n",
    "    #\n",
    " \n",
    "    theta           = theta-(learning_rate*compute_gradient(theta, compute_feature(data_train_point), data_train_label,alpha))\n",
    "    loss_train      = compute_loss(theta, compute_feature(data_train_point), data_train_label,alpha)\n",
    "    loss_test       = compute_loss(theta, compute_feature(data_test_point), data_test_label,alpha)\n",
    "    accuracy_train  = compute_accuracy(theta, compute_feature(data_train_point), data_train_label)\n",
    "    accuracy_test   = compute_accuracy(theta, compute_feature(data_test_point), data_test_label)\n",
    "\n",
    "    #\n",
    "    # ++++++++++++++++++++++++++++++++++++++++++++++++++\n",
    "\n",
    "    loss_iteration_train[i]     = loss_train\n",
    "    loss_iteration_test[i]      = loss_test\n",
    "    accuracy_iteration_train[i] = accuracy_train\n",
    "    accuracy_iteration_test[i]  = accuracy_test\n",
    "\n",
    "theta_optimal = theta"
   ]
  },
  {
   "cell_type": "markdown",
   "metadata": {},
   "source": [
    "___"
   ]
  },
  {
   "cell_type": "markdown",
   "metadata": {},
   "source": [
    "___"
   ]
  },
  {
   "cell_type": "markdown",
   "metadata": {},
   "source": [
    "## functions for presenting the results"
   ]
  },
  {
   "cell_type": "markdown",
   "metadata": {},
   "source": [
    "___"
   ]
  },
  {
   "cell_type": "markdown",
   "metadata": {},
   "source": [
    "___"
   ]
  },
  {
   "cell_type": "code",
   "execution_count": 107,
   "metadata": {},
   "outputs": [],
   "source": [
    "def function_result_01():\n",
    "\n",
    "    print(\"final training accuracy = {:13.10f}\".format(accuracy_iteration_train[-1]))"
   ]
  },
  {
   "cell_type": "code",
   "execution_count": 108,
   "metadata": {},
   "outputs": [],
   "source": [
    "def function_result_02():\n",
    "\n",
    "    print(\"final testing accuracy = {:13.10f}\".format(accuracy_iteration_test[-1]))"
   ]
  },
  {
   "cell_type": "code",
   "execution_count": 109,
   "metadata": {},
   "outputs": [],
   "source": [
    "def function_result_03():\n",
    "    \n",
    "    plt.figure(figsize=(8,6))\n",
    "    plt.title('training loss')\n",
    "\n",
    "    plt.plot(loss_iteration_train, '-', color='red')\n",
    "    plt.xlabel('iteration')\n",
    "    plt.ylabel('loss')\n",
    "\n",
    "    plt.tight_layout()\n",
    "    plt.show()"
   ]
  },
  {
   "cell_type": "code",
   "execution_count": null,
   "metadata": {},
   "outputs": [],
   "source": []
  },
  {
   "cell_type": "code",
   "execution_count": 110,
   "metadata": {},
   "outputs": [],
   "source": [
    "def function_result_04():\n",
    "\n",
    "    plt.figure(figsize=(8,6))\n",
    "    plt.title('testing loss')\n",
    "\n",
    "    plt.plot(loss_iteration_test, '-', color='red')\n",
    "    plt.xlabel('iteration')\n",
    "    plt.ylabel('loss')\n",
    "\n",
    "    plt.tight_layout()\n",
    "    plt.show()"
   ]
  },
  {
   "cell_type": "code",
   "execution_count": 111,
   "metadata": {},
   "outputs": [],
   "source": [
    "def function_result_05():\n",
    "    \n",
    "    plt.figure(figsize=(8,6))\n",
    "    plt.title('training accuracy')\n",
    "\n",
    "    plt.plot(accuracy_iteration_train, '-', color='red')\n",
    "    plt.xlabel('iteration')\n",
    "    plt.ylabel('accuracy')\n",
    "\n",
    "    plt.tight_layout()\n",
    "    plt.show()"
   ]
  },
  {
   "cell_type": "code",
   "execution_count": 112,
   "metadata": {},
   "outputs": [],
   "source": [
    "def function_result_06():\n",
    "    \n",
    "    plt.figure(figsize=(8,6))\n",
    "    plt.title('testing accuracy')\n",
    "\n",
    "    plt.plot(accuracy_iteration_test, '-', color='red')\n",
    "    plt.xlabel('iteration')\n",
    "    plt.ylabel('accuracy')\n",
    "\n",
    "    plt.tight_layout()\n",
    "    plt.show()"
   ]
  },
  {
   "cell_type": "markdown",
   "metadata": {},
   "source": [
    "## plot the linear regression values over the 2-dimensional Euclidean space and superimpose the training data"
   ]
  },
  {
   "cell_type": "code",
   "execution_count": 113,
   "metadata": {},
   "outputs": [],
   "source": [
    "def function_result_07():\n",
    "\n",
    "    plt.figure(figsize=(8,8)) \n",
    "    plt.title('linear regression values on the training data')\n",
    "    \n",
    "    min_x   = np.min(data_train_point_x)\n",
    "    max_x   = np.max(data_train_point_x)\n",
    "    min_y   = np.min(data_train_point_y)\n",
    "    max_y   = np.max(data_train_point_y)\n",
    "\n",
    "    X = np.arange(min_x - 0.5, max_x + 0.5, 0.1) \n",
    "    Y = np.arange(min_y - 0.5, max_y + 0.5, 0.1) \n",
    "\n",
    "    [XX, YY] = np.meshgrid(X, Y)\n",
    "\n",
    "    # ++++++++++++++++++++++++++++++++++++++++++++++++++\n",
    "    # complete the blanks\n",
    "    #\n",
    "\n",
    "\n",
    "\n",
    "    #\n",
    "    # ++++++++++++++++++++++++++++++++++++++++++++++++++\n",
    "\n",
    "    plt.plot(data_train_point_x_class_0, data_train_point_y_class_0, '.', color='blue', label='class = 0')\n",
    "    plt.plot(data_train_point_x_class_1, data_train_point_y_class_1, '.', color='red', label='class = 1')\n",
    "\n",
    "    plt.legend()\n",
    "    plt.tight_layout()\n",
    "    plt.show()"
   ]
  },
  {
   "cell_type": "code",
   "execution_count": 114,
   "metadata": {},
   "outputs": [],
   "source": [
    "def function_result_08():\n",
    "    \n",
    "    plt.figure(figsize=(8,8)) \n",
    "    plt.title('linear regression values on the testing data')\n",
    "    \n",
    "    min_x   = np.min(data_test_point_x)\n",
    "    max_x   = np.max(data_test_point_x)\n",
    "    min_y   = np.min(data_test_point_y)\n",
    "    max_y   = np.max(data_test_point_y)\n",
    "\n",
    "    X = np.arange(min_x - 0.5, max_x + 0.5, 0.1)\n",
    "    Y = np.arange(min_y - 0.5, max_y + 0.5, 0.1) \n",
    "\n",
    "    [XX, YY] = np.meshgrid(X, Y)\n",
    "\n",
    "    # ++++++++++++++++++++++++++++++++++++++++++++++++++\n",
    "    # complete the blanks\n",
    "    #\n",
    "\n",
    "\n",
    "\n",
    "    #\n",
    "    # ++++++++++++++++++++++++++++++++++++++++++++++++++\n",
    "\n",
    "    plt.plot(data_test_point_x_class_0, data_test_point_y_class_0, '.', color='blue', label='class = 0')\n",
    "    plt.plot(data_test_point_x_class_1, data_test_point_y_class_1, '.', color='red', label='class = 1')\n",
    "\n",
    "    plt.legend()\n",
    "    plt.tight_layout()\n",
    "    plt.show()"
   ]
  },
  {
   "cell_type": "markdown",
   "metadata": {},
   "source": [
    "## plot the logistic regression values over the 2-dimensional Euclidean space"
   ]
  },
  {
   "cell_type": "code",
   "execution_count": 115,
   "metadata": {},
   "outputs": [],
   "source": [
    "def function_result_09():\n",
    "\n",
    "    plt.figure(figsize=(8,8)) \n",
    "    plt.title('logistic regression values on the training data')\n",
    "    \n",
    "    min_x   = np.min(data_train_point_x)\n",
    "    max_x   = np.max(data_train_point_x)\n",
    "    min_y   = np.min(data_train_point_y)\n",
    "    max_y   = np.max(data_train_point_y)\n",
    "\n",
    "    X = np.arange(min_x - 0.5, max_x + 0.5, 0.1) \n",
    "    Y = np.arange(min_y - 0.5, max_y + 0.5, 0.1) \n",
    "\n",
    "    [XX, YY] = np.meshgrid(X, Y)\n",
    "\n",
    "    # ++++++++++++++++++++++++++++++++++++++++++++++++++\n",
    "    # complete the blanks\n",
    "    #\n",
    "\n",
    "\n",
    "\n",
    "    #\n",
    "    # ++++++++++++++++++++++++++++++++++++++++++++++++++\n",
    "\n",
    "\n",
    "    plt.plot(data_train_point_x_class_0, data_train_point_y_class_0, '.', color='blue', label='class = 0')\n",
    "    plt.plot(data_train_point_x_class_1, data_train_point_y_class_1, '.', color='red', label='class = 1')\n",
    "\n",
    "    plt.legend()\n",
    "    plt.tight_layout()\n",
    "    plt.show()"
   ]
  },
  {
   "cell_type": "code",
   "execution_count": 116,
   "metadata": {},
   "outputs": [],
   "source": [
    "def function_result_10():\n",
    "    \n",
    "    plt.figure(figsize=(8,8)) \n",
    "    plt.title('logistic regression values on the testing data')\n",
    "\n",
    "    min_x   = np.min(data_test_point_x)\n",
    "    max_x   = np.max(data_test_point_x)\n",
    "    min_y   = np.min(data_test_point_y)\n",
    "    max_y   = np.max(data_test_point_y)\n",
    "\n",
    "    X = np.arange(min_x - 0.5, max_x + 0.5, 0.1) \n",
    "    Y = np.arange(min_y - 0.5, max_y + 0.5, 0.1) \n",
    "\n",
    "    [XX, YY] = np.meshgrid(X, Y)\n",
    "\n",
    "    # ++++++++++++++++++++++++++++++++++++++++++++++++++\n",
    "    # complete the blanks\n",
    "    #\n",
    "\n",
    "\n",
    "\n",
    "    #\n",
    "    # ++++++++++++++++++++++++++++++++++++++++++++++++++\n",
    "\n",
    "\n",
    "    plt.plot(data_test_point_x_class_0, data_test_point_y_class_0, '.', color='blue', label='class = 0')\n",
    "    plt.plot(data_test_point_x_class_1, data_test_point_y_class_1, '.', color='red', label='class = 1')\n",
    "\n",
    "    plt.legend()\n",
    "    plt.tight_layout()\n",
    "    plt.show()"
   ]
  },
  {
   "cell_type": "markdown",
   "metadata": {},
   "source": [
    "___"
   ]
  },
  {
   "cell_type": "markdown",
   "metadata": {},
   "source": [
    "___"
   ]
  },
  {
   "cell_type": "markdown",
   "metadata": {},
   "source": [
    "## results"
   ]
  },
  {
   "cell_type": "markdown",
   "metadata": {},
   "source": [
    "___"
   ]
  },
  {
   "cell_type": "markdown",
   "metadata": {},
   "source": [
    "___"
   ]
  },
  {
   "cell_type": "code",
   "execution_count": 117,
   "metadata": {},
   "outputs": [
    {
     "name": "stdout",
     "output_type": "stream",
     "text": [
      "**************************************************\n",
      "## [RESULT 01]\n",
      "**************************************************\n",
      "final training accuracy =  0.8280000000\n",
      "**************************************************\n",
      "## [RESULT 02]\n",
      "**************************************************\n",
      "final testing accuracy =  0.8360000000\n",
      "**************************************************\n",
      "## [RESULT 03]\n",
      "**************************************************\n"
     ]
    },
    {
     "data": {
      "image/png": "[encoded data removed]",
      "text/plain": [
       "<Figure size 576x432 with 1 Axes>"
      ]
     },
     "metadata": {
      "needs_background": "light"
     },
     "output_type": "display_data"
    },
    {
     "name": "stdout",
     "output_type": "stream",
     "text": [
      "**************************************************\n",
      "## [RESULT 04]\n",
      "**************************************************\n"
     ]
    },
    {
     "data": {
      "image/png": "[encoded data removed]",
      "text/plain": [
       "<Figure size 576x432 with 1 Axes>"
      ]
     },
     "metadata": {
      "needs_background": "light"
     },
     "output_type": "display_data"
    },
    {
     "name": "stdout",
     "output_type": "stream",
     "text": [
      "**************************************************\n",
      "## [RESULT 05]\n",
      "**************************************************\n"
     ]
    },
    {
     "data": {
      "image/png": "[encoded data removed]",
      "text/plain": [
       "<Figure size 576x432 with 1 Axes>"
      ]
     },
     "metadata": {
      "needs_background": "light"
     },
     "output_type": "display_data"
    },
    {
     "name": "stdout",
     "output_type": "stream",
     "text": [
      "**************************************************\n",
      "## [RESULT 06]\n",
      "**************************************************\n"
     ]
    },
    {
     "data": {
      "image/png": "[encoded data removed]",
      "text/plain": [
       "<Figure size 576x432 with 1 Axes>"
      ]
     },
     "metadata": {
      "needs_background": "light"
     },
     "output_type": "display_data"
    },
    {
     "name": "stdout",
     "output_type": "stream",
     "text": [
      "**************************************************\n",
      "## [RESULT 07]\n",
      "**************************************************\n"
     ]
    },
    {
     "data": {
      "image/png": "[encoded data removed]",
      "text/plain": [
       "<Figure size 576x576 with 1 Axes>"
      ]
     },
     "metadata": {
      "needs_background": "light"
     },
     "output_type": "display_data"
    },
    {
     "name": "stdout",
     "output_type": "stream",
     "text": [
      "**************************************************\n",
      "## [RESULT 08]\n",
      "**************************************************\n"
     ]
    },
    {
     "data": {
      "image/png": "[encoded data removed]",
      "text/plain": [
       "<Figure size 576x576 with 1 Axes>"
      ]
     },
     "metadata": {
      "needs_background": "light"
     },
     "output_type": "display_data"
    },
    {
     "name": "stdout",
     "output_type": "stream",
     "text": [
      "**************************************************\n",
      "## [RESULT 09]\n",
      "**************************************************\n"
     ]
    },
    {
     "data": {
      "image/png": "[encoded data removed]",
      "text/plain": [
       "<Figure size 576x576 with 1 Axes>"
      ]
     },
     "metadata": {
      "needs_background": "light"
     },
     "output_type": "display_data"
    },
    {
     "name": "stdout",
     "output_type": "stream",
     "text": [
      "**************************************************\n",
      "## [RESULT 10]\n",
      "**************************************************\n"
     ]
    },
    {
     "data": {
      "image/png": "[encoded data removed]",
      "text/plain": [
       "<Figure size 576x576 with 1 Axes>"
      ]
     },
     "metadata": {
      "needs_background": "light"
     },
     "output_type": "display_data"
    }
   ],
   "source": [
    "number_result = 10\n",
    "\n",
    "for i in range(number_result):\n",
    "    title = '## [RESULT {:02d}]'.format(i+1)\n",
    "    name_function = 'function_result_{:02d}()'.format(i+1)\n",
    "\n",
    "    print('**************************************************')\n",
    "    print(title)\n",
    "    print('**************************************************')\n",
    "    eval(name_function)"
   ]
  },
  {
   "cell_type": "code",
   "execution_count": null,
   "metadata": {},
   "outputs": [],
   "source": []
  }
 ],
 "metadata": {
  "interpreter": {
   "hash": "40d3a090f54c6569ab1632332b64b2c03c39dcf918b08424e98f38b5ae0af88f"
  },
  "kernelspec": {
   "display_name": "Python 3.8.5 64-bit (conda)",
   "language": "python",
   "name": "python3"
  },
  "language_info": {
   "codemirror_mode": {
    "name": "ipython",
    "version": 3
   },
   "file_extension": ".py",
   "mimetype": "text/x-python",
   "name": "python",
   "nbconvert_exporter": "python",
   "pygments_lexer": "ipython3",
   "version": "3.9.12"
  },
  "metadata": {
   "interpreter": {
    "hash": "31f2aee4e71d21fbe5cf8b01ff0e069b9275f58929596ceb00d14d90e3e16cd6"
   }
  }
 },
 "nbformat": 4,
 "nbformat_minor": 2
}
